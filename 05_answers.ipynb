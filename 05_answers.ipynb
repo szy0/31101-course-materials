{
 "cells": [
  {
   "cell_type": "markdown",
   "metadata": {},
   "source": [
    "# The Finite Element Method"
   ]
  },
  {
   "cell_type": "markdown",
   "metadata": {},
   "source": [
    "The finite element method is a procedure for numerically solving systems of differential equations over complex domains. It is often used in Materials Science as a tool for analysing the mechanical, or other physical behaviour of materials. The method works by converting differential equations into algebraic equations, discretising the domain (e.g. the material of interest) into small parts called elements, then finding a solution that minimises the error in satisfying these algebraic equations in each of the elements. Unlike the finite difference methods that we introduced last week, which made use of regular (evenly spaced) discretisations of the domain, the finite element method is very efficient at solving problems with irregular geometries. It can also be used to solve multi-physics problems and so has a huge range of applications. For example, if you wanted to know the stress distribution on an aircraft wing flying at different accelerations and in different temperatures, the finite element method would be the perfect tool to use.\n",
    "\n",
    "In practice, finite element analysis is often carried out using software such as [Abaqus](https://www.3ds.com/products-services/simulia/products/abaqus/) or [COMSOL](https://www.comsol.com/) (which you will be using in MATS32202 - Corrosion Science and Engineering if you take that module next semester). These packages are very powerful tools that allow you to solve very complex problems; however, it may not be clear to you exactly what they are doing when you use them. The purpose of this week's notebook is to show you the mathematical background behind the finite element method so that you can get an idea of how finite element software packages work. The mathematics in this notebook is advanced and you may find it challenging, but don't worry - you are not going to have to build a finite element code from scratch in the coursework. As long as you can adapt the Python code that we have provided, you should be fine. The most important thing to take away this week is the knowledge that whenever you use a package such as Abaqus or Comsol, there is a lot of mathematics going on behind the scenes.\n",
    "\n",
    "No further reading is required for this course; however, this week's material was largely developed with the help of the [<code>oomph-lib</code>](http://oomph-lib.maths.man.ac.uk/doc/html/index.html) [finite element method documentation](http://oomph-lib.maths.man.ac.uk/doc/intro/html/index.html). This documentation provides further details that are omitted here. <code>oomph-lib</code> is an object-oriented, open-source finite-element library for the simulation of multi-physics problems that was developed here at the University of Manchester. It is free to download and use, but requires fluency in [C++](https://en.wikipedia.org/wiki/C%2B%2B) to make use of to its greatest potential."
   ]
  },
  {
   "cell_type": "markdown",
   "metadata": {},
   "source": [
    "## Mathematical Background"
   ]
  },
  {
   "cell_type": "markdown",
   "metadata": {},
   "source": [
    "The finite element method builds upon some important concepts, therefore we shall discuss these before moving onto the method itself. In turn, we shall consider:\n",
    "1. Newton's method for finding the roots of an equation numerically\n",
    "2. Index notation for vectors and matrices\n",
    "3. Integration by parts\n",
    "4. The concept of a so-called \"weak\" solution to a differential equation\n",
    "5. The Galerkin method - a method for numerically solving differential equations that is named after [Boris Galerkin](https://en.wikipedia.org/wiki/Boris_Galerkin) (despite the fact it was discovered by [Walther Ritz](https://en.wikipedia.org/wiki/Walther_Ritz)!) - upon which the finite element method depends.\n",
    "\n",
    "First, however, we shall take another look at Poisson's equation, which we will use as an example to apply the finite element method to."
   ]
  },
  {
   "cell_type": "markdown",
   "metadata": {},
   "source": [
    "### Poisson's Equation Revisited"
   ]
  },
  {
   "cell_type": "markdown",
   "metadata": {},
   "source": [
    "In this notebook, we will use the finite element method to solve Poission's equation in one dimension as it is a nice example of a simple differential equation:\n",
    "\n",
    "$$\\frac{d^2u(x)}{dx^2}=f(x),$$\n",
    "\n",
    "where $f(x)$ is a given function. As we discussed last week, Poisson's equation can be used to model steady diffusion processes such as temperature diffusion through a metal rod. We mentioned that for simple choices of $f(x)$, Poisson's equation can be solved analytically. For example, if $f(x)=6x$, we have\n",
    "\n",
    "$$\\frac{d^2u(x)}{dx^2}=6x\\implies u(x)=x^3+Ax+B,$$\n",
    "\n",
    "where $A$ and $B$ are constants. We then applied initial conditions at one end of the rod to determine the values of these constants. We needed two conditions in order to determine the two constants and so we needed to know the values of both $u$ and its derivative at that end (i.e. $u(0)=u_0$ and $u'(0)=v_0$). These initial conditions together with the governing equation are called an initial value problem. Sometimes, however, we will not know the value of the derivative at one end, but we might know something about the other end of the rod. For example, if our rod is of length 1 and we know the temperature at its ends e.g. it is 300 K at one end and 299 K at the other, then we have the conditions:\n",
    "\n",
    "$$u(0)=300,~u(1)=299.$$\n",
    "\n",
    "These are called boundary conditions (because they tell us about the state of the rod on its boundary) and together with the governing equation they form a boundary value problem. The boundary conditions can be applied to determine $A$ and $B$:\n",
    "\n",
    "$$u(0)=300\\implies B=300,$$\n",
    "$$u(1)=299\\implies1+A+300=299\\implies A=-2,$$\n",
    "$$\\implies u(x)=x^3-2x+300.$$\n",
    "\n",
    "The methods we introduced last week can only be used for solving initial value problems problems in the form we presented them; however, the finite element method can be used to solve boundary value problems. We can write the equation and boundary conditions more generally as\n",
    "\n",
    "$$\\frac{d^2u(x)}{dx^2}=f(x),~\\hspace{1cm}~u(0)=g_0,~u(1)=g_1,$$\n",
    "\n",
    "where $f(x)$ is a given function and $g_0$ and $g_1$ are given constants. In order to implement the finite element method, we write the governing equation in \"residual form\" by moving all the terms on the right side to the left. Therefore, our boundary value problem is written as\n",
    "\n",
    "$$\\mathcal{R}(x,u(x))=\\frac{d^2u(x)}{dx^2}-f(x)=0,~\\hspace{1cm}~u(0)=g_0,~u(1)=g_1,$$\n",
    "\n",
    "which we shall call _Problem P1_. We have introduced $\\mathcal{R}$ as a general notation to describe the whole equation (more formally, $\\mathcal{R}$ is a differential operator acting on $x$ and $u$). This general notation is useful because we can replace the definition of $\\mathcal{R}(x,u(x))$ with any other differential equation (even higher-order and partial differential equations) and the methodology presented below will still be valid. For example, we could let\n",
    "\n",
    "$$\\mathcal{R}(t,u(t))=\\frac{du(t)}{dt}-\\lambda u(t)-f(t),~\\hspace{1cm}~\\text{with}~\\hspace{1cm}~u(0)=g_0,$$\n",
    "\n",
    "in order to solve the time-dependent heat transfer problem we introduced last week. A more compact notation for the boundary conditions is\n",
    "\n",
    "$$u|_{\\partial D}=g,$$\n",
    "\n",
    "where the notation $|_{\\partial D}$ means that $u$ is evaluated on the boundary $\\partial D$ of the domain $D$. We shall use this short-hand notation frequently below."
   ]
  },
  {
   "cell_type": "markdown",
   "metadata": {},
   "source": [
    "#### <span style=\"color: red\"> Task 1:</span> Solve Poisson's equation with $f(x)=6x$, $u(0)=g_0=0$ and $u(1)=g_1=1$ analytically."
   ]
  },
  {
   "cell_type": "markdown",
   "metadata": {},
   "source": [
    "#### <span style=\"color: blue\"> Solution\n",
    "\n",
    "$$\\frac{d^2u(x)}{dx^2}=6x\\implies u(x)=x^3+Ax+B,$$\n",
    "$$u(0)=0\\implies B=0,$$\n",
    "$$u(1)=1\\implies1+A=1\\implies A=0,$$\n",
    "$$\\implies u(x)=x^3.$$"
   ]
  },
  {
   "cell_type": "markdown",
   "metadata": {},
   "source": [
    "We shall return to Poisson's equation when we get to the Galerkin method, below."
   ]
  },
  {
   "cell_type": "markdown",
   "metadata": {},
   "source": [
    "### Newton's Method"
   ]
  },
  {
   "cell_type": "markdown",
   "metadata": {},
   "source": [
    "Newton's method is a technique for numerically determining the roots of an equation. In other words, the values of $x$ that satisfy\n",
    "\n",
    "$$f(x)=0,$$\n",
    "\n",
    "for some known $f(x)$. For some instances of $f(x)$, the roots can be found exactly. For example, if $f(x)=x^2-1$, then the roots of the equation are $x=1$ and $x=-1$. However, for other instances of $f(x)$ (e.g. $f(x)=x-e^{-x}$), we can only find approximate solutions. It is for these kinds of equations that we need methods such as Newton's method.\n",
    "\n",
    "The method works by making an initial \"guess\" for one of the roots, which we shall call $x_0$, then calculating an improved approximation $x_1$ given by the equation\n",
    "\n",
    "$$x_1=x_0-\\frac{f(x_0)}{f'(x_0)},$$\n",
    "\n",
    "where $f(x_0)$ is called the residual of $f$ at $x_0$. You can then iteratively apply this technique to obtain increasingly more accurate approximations to the root via the equation\n",
    "\n",
    "$$x_{i+1}=x_i-\\frac{f(x_i)}{f'(x_i)},\\hspace{1cm}i=0,1,2,....$$\n",
    "\n",
    "Basically, the method works by following the tangent of the curve at your initial guess and finding where the tangent crosses the $x$-axis. Each time you follow a new tangent you get a bit closer to the true value of the root. This is [illustrated nicely](https://en.wikipedia.org/wiki/Newton%27s_method#/media/File:NewtonIteration_Ani.gif) on the [Wikipedia page for Newton's method](https://en.wikipedia.org/wiki/Newton%27s_method). Effectively, we are adding a correction term\n",
    "\n",
    "$$\\delta x=-\\frac{f(x)}{f'(x)}$$ \n",
    "\n",
    "to our initial guess at each step so that $x$ is replaced with $x+\\delta x.$ Let's illustrate this method to find a root of the equation\n",
    "\n",
    "$$x-e^{-x}=0.$$\n",
    "\n",
    "We will start by plotting this function along with an initial guess for the root of $x_0=0.5$:"
   ]
  },
  {
   "cell_type": "code",
   "execution_count": 1,
   "metadata": {
    "collapsed": false
   },
   "outputs": [
    {
     "data": {
      "image/png": "[encoded data removed]",
      "text/plain": [
       "<matplotlib.figure.Figure at 0x5207828>"
      ]
     },
     "metadata": {},
     "output_type": "display_data"
    }
   ],
   "source": [
    "import numpy as np #import numpy\n",
    "import matplotlib.pyplot as plt #import pyplot from matplotlib as plt\n",
    "x=np.linspace(0,1,301) #create a list of input x values\n",
    "%matplotlib inline \n",
    "#define where plots will appear\n",
    "\n",
    "plt.plot(x,x-np.exp(-x),'-b', label=\"$x-e^{-x}$\") #plot f(x)=x-exp(-x)\n",
    "plt.plot(x,x*0,'-k') #plot horizontal axis f(x)=0\n",
    "plt.plot([0.5],[0],'o-r', label=\"$x_0=0.5$\") #plot initial guess\n",
    "plt.xlabel('x') #label horizontal axis\n",
    "plt.legend(bbox_to_anchor=(1.05, 1), loc=2, borderaxespad=0.); #plot legend"
   ]
  },
  {
   "cell_type": "markdown",
   "metadata": {},
   "source": [
    "We then calculate an improved approximation. For this instance of $f(x)$, we have\n",
    "\n",
    "$$f'(x)=1+e^{-x},$$\n",
    "\n",
    "therefore our improved guess will be\n",
    "\n",
    "$$x_1=0.5-\\frac{0.5-e^{-0.5}}{1+e^{-0.5}}\\approx0.566.$$\n",
    "\n",
    "Let's zoom in to the region $x\\in(0.4,0.6)$ and plot the improved approximation:"
   ]
  },
  {
   "cell_type": "code",
   "execution_count": 2,
   "metadata": {
    "collapsed": false
   },
   "outputs": [
    {
     "data": {
      "image/png": "[encoded data removed]",
      "text/plain": [
       "<matplotlib.figure.Figure at 0x88e3e10>"
      ]
     },
     "metadata": {},
     "output_type": "display_data"
    }
   ],
   "source": [
    "x0=0.5\n",
    "x1=x0-(x0-np.exp(-x0))/(1+np.exp(-x0))\n",
    "x=np.linspace(0.4,0.6,301) #create a list of input x values\n",
    "plt.plot(x,x-np.exp(-x),'-b', label=\"$x-e^{-x}$\") #plot f(x)=x-exp(-x)\n",
    "plt.plot(x,x*0,'-k') #plot horizontal axis f(x)=0\n",
    "plt.plot([x0],[0],'o-r', label=\"$x_0=0.5$\") #plot initial guess\n",
    "plt.plot([x1],[0],'o-g', label=\"$x_1=0.566$\") #plot improved approximation\n",
    "plt.xlabel('x') #label horizontal axis\n",
    "plt.legend(bbox_to_anchor=(1.05, 1), loc=2, borderaxespad=0.); #plot legend"
   ]
  },
  {
   "cell_type": "markdown",
   "metadata": {},
   "source": [
    "This is clearly an improvement, but if we zoom in even further to the region $x\\in(0.56,0.57)$, there is still some inaccuracy:"
   ]
  },
  {
   "cell_type": "code",
   "execution_count": 3,
   "metadata": {
    "collapsed": false
   },
   "outputs": [
    {
     "data": {
      "image/png": "[encoded data removed]",
      "text/plain": [
       "<matplotlib.figure.Figure at 0x8998240>"
      ]
     },
     "metadata": {},
     "output_type": "display_data"
    }
   ],
   "source": [
    "x=np.linspace(0.56,0.57,301) #create a list of input x values\n",
    "plt.plot(x,x-np.exp(-x),'-b', label=\"$x-e^{-x}$\") #plot f(x)=x-exp(-x)\n",
    "plt.plot(x,x*0,'-k') #plot horizontal axis f(x)=0\n",
    "plt.plot([x1],[0],'o-g', label=\"$x_1=0.5566$\") #plot improved approximation\n",
    "plt.xlabel('x') #label horizontal axis\n",
    "plt.legend(bbox_to_anchor=(1.05, 1), loc=2, borderaxespad=0.); #plot legend"
   ]
  },
  {
   "cell_type": "markdown",
   "metadata": {},
   "source": [
    "Luckily, we can just keep going until we reach a required level of accuracy:\n",
    "\n",
    "$$x_2=0.566-\\frac{0.566-e^{-0.566}}{1+e^{-0.566}}\\approx0.567.$$"
   ]
  },
  {
   "cell_type": "code",
   "execution_count": 4,
   "metadata": {
    "collapsed": false
   },
   "outputs": [
    {
     "data": {
      "image/png": "[encoded data removed]",
      "text/plain": [
       "<matplotlib.figure.Figure at 0x8b2f128>"
      ]
     },
     "metadata": {},
     "output_type": "display_data"
    }
   ],
   "source": [
    "x2=x1-(x1-np.exp(-x1))/(1+np.exp(-x1))\n",
    "plt.plot(x,x-np.exp(-x),'-b', label=\"$x-e^{-x}$\") #plot f(x)=x-exp(-x)\n",
    "plt.plot(x,x*0,'-k') #plot horizontal axis f(x)=0\n",
    "plt.plot([x1],[0],'o-g', label=\"$x_1=0.566$\") #plot improved approximation\n",
    "plt.plot([x2],[0],'o-y', label=\"$x_2=0.567$\") #plot improved approximation\n",
    "plt.xlabel('x') #label horizontal axis\n",
    "plt.legend(bbox_to_anchor=(1.05, 1), loc=2, borderaxespad=0.); #plot legend"
   ]
  },
  {
   "cell_type": "markdown",
   "metadata": {},
   "source": [
    "We can keep going, finding better and better solutions at each step. We stop once the maximum error in the solution is below a certain prescribed tolerance, which we call <code>tol</code>. We can conveniently code up this method and get it to keep going until the error is below <code>tol</code> using a <code>while</code> loop:"
   ]
  },
  {
   "cell_type": "code",
   "execution_count": 5,
   "metadata": {
    "collapsed": false
   },
   "outputs": [
    {
     "name": "stdout",
     "output_type": "stream",
     "text": [
      "Our calculated root is at x= 0.567143\n",
      "The algorithm took 3 steps\n"
     ]
    }
   ],
   "source": [
    "tol=0.0000001 #our prescribed tolerance\n",
    "xsol=0.5 #our initial guess for the solution is x=0.5, as above\n",
    "error=abs(xsol-np.exp(-xsol)) #our error measure is the absolute value of f(x) (i.e. its deviation from 0)\n",
    "n=0 #n will count how many steps we have taken\n",
    "\n",
    "while (error>tol): #now we set up our while loop\n",
    "    n=n+1 #for each iteration, n increases by 1\n",
    "    xsol=xsol-(xsol-np.exp(-xsol))/(1+np.exp(-xsol)) #calculate an improved guess\n",
    "    error=abs(xsol-np.exp(-xsol)) #calculate the updated error measure\n",
    "    \n",
    "print('Our calculated root is at x=',\"%.6g\" % xsol)\n",
    "print('The algorithm took', n,'steps')"
   ]
  },
  {
   "cell_type": "markdown",
   "metadata": {},
   "source": [
    "#### <span style=\"color: red\"> Task 2:</span> Find a root of the equation $x-\\cos(x)=0$ using Newton's method\n",
    "\n",
    "In this case $f(x)=x-\\cos(x)$. You will need to calculate $f'(x)$.\n",
    "\n",
    "Hint: try plotting $f(x)$ first to choose a reasonable initial guess."
   ]
  },
  {
   "cell_type": "markdown",
   "metadata": {},
   "source": [
    "#### <span style=\"color: blue\"> Solution\n",
    "\n",
    "$$f'(x)=1+\\sin(x)$$"
   ]
  },
  {
   "cell_type": "code",
   "execution_count": 6,
   "metadata": {
    "collapsed": false
   },
   "outputs": [
    {
     "data": {
      "image/png": "[encoded data removed]",
      "text/plain": [
       "<matplotlib.figure.Figure at 0x890f6d8>"
      ]
     },
     "metadata": {},
     "output_type": "display_data"
    }
   ],
   "source": [
    "x=np.linspace(0,1,301) #create a list of input x values\n",
    "plt.plot(x,x-np.cos(x),'-b', label=\"$x-e^{-x}$\") #plot f(x)=x-exp(-x)\n",
    "plt.plot(x,x*0,'-k') #plot horizontal axis f(x)=0\n",
    "plt.plot([0.5],[0],'o-r', label=\"$x_0=0.5$\") #plot initial guess\n",
    "plt.xlabel('x') #label horizontal axis\n",
    "plt.legend(bbox_to_anchor=(1.05, 1), loc=2, borderaxespad=0.); #plot legend"
   ]
  },
  {
   "cell_type": "code",
   "execution_count": 7,
   "metadata": {
    "collapsed": false
   },
   "outputs": [
    {
     "name": "stdout",
     "output_type": "stream",
     "text": [
      "Our calculated root is at x= 0.739085\n"
     ]
    }
   ],
   "source": [
    "tol=0.0000001 #our prescribed tolerance\n",
    "xsol=0.5 #our initial guess for the solution is x=0.5, as above\n",
    "error=abs(xsol-np.cos(xsol)) #our error measure is the absolute value of f(x) (i.e. its deviation from 0)\n",
    "while (error>tol): #now we set up our while loop\n",
    "    xsol=xsol-(xsol-np.cos(xsol))/(1+np.sin(xsol)) #calculate an improved guess\n",
    "    error=abs(xsol-np.cos(xsol)) #calculate the updated error measure\n",
    "print('Our calculated root is at x=',\"%.6g\" % xsol)"
   ]
  },
  {
   "cell_type": "markdown",
   "metadata": {},
   "source": [
    "### Index notation for vectors and matrices"
   ]
  },
  {
   "cell_type": "markdown",
   "metadata": {},
   "source": [
    "To implement the finite element method, we will need to deal with vectors and matrices. In standard mathematical notation, these are repesented by bold lower case and non-bold upper case letters respectively. For example we could have the vector $\\mathbf{a}$ of length $n$ and the matrix $\\text{A}$ of size $m\\times n$:\n",
    "\n",
    "$$\\mathbf{a}=\\left(\\begin{array}{c}\n",
    "a_1\\\\\n",
    "a_2\\\\\n",
    "\\vdots\\\\\n",
    "a_n\n",
    "\\end{array}\\right),\\hspace{1cm}\\text{A}=\\left(\\begin{array}{cccc}\n",
    "A_{11} & A_{12} & \\cdots & A_{1n}\\\\\n",
    "A_{21} & A_{22} & \\cdots & A_{2n}\\\\\n",
    "\\vdots & \\vdots & \\ddots & \\vdots\\\\\n",
    "A_{m1} & A_{m2} & \\cdots & A_{mn}\\\\\n",
    "\\end{array}\\right).$$\n",
    "\n",
    "A compact way to write the entries of this vector and matrix is to use index notation:\n",
    "\n",
    "$$a_i\\hspace{0.5cm}\\text{for}\\hspace{0.5cm}i=1,2,...,n,\\hspace{1cm}\\text{and}\\hspace{1cm}A_{ij}\\hspace{0.5cm}\\text{for}\\hspace{0.5cm}\\begin{array}{l}\n",
    "i=1,2,...,m,\\\\\n",
    "j=1,2,...,n.\n",
    "\\end{array}$$\n",
    "\n",
    "We should note, however, that this numbering convention (running from 1 to $n$) is contrary to the Python numbering convention, which runs from 0 to $n-1$. Therefore, if we wanted to select the 3$^\\text{rd}$ element of the vector $\\mathbf{a}$, which is $a_3$, in Python we would need to write <code>a[2]</code>. Similarly, to select the (3,4) entry of the matrix $\\text{A}$, which is $A_{34}$, in Python we would need to write <code>A[2,3]</code>. You need to bear this in mind when trying to understand some of the code below.\n",
    "\n",
    "Vectors and matrices can be input into Python using a <code>numpy array</code>. For example, the vector $\\mathbf{a}=(1,2,5)$ and the matrix \n",
    "\n",
    "$$\\text{A}=\\left(\\begin{array}{ccc}\n",
    "-1 & 2 & 3\\\\\n",
    "4 & 5 & 6\\\\\n",
    "7 & 8 & 9\n",
    "\\end{array}\\right)$$\n",
    "\n",
    "can be input as follows:"
   ]
  },
  {
   "cell_type": "code",
   "execution_count": 8,
   "metadata": {
    "collapsed": false
   },
   "outputs": [
    {
     "name": "stdout",
     "output_type": "stream",
     "text": [
      "[1 2 5]\n",
      "[[-1  2  3]\n",
      " [ 4  5  6]\n",
      " [ 7  8  9]]\n"
     ]
    }
   ],
   "source": [
    "a=np.array([1,2,5]) #input a\n",
    "A=np.array([[-1,2,3],[4,5,6],[7,8,9]]) #input A\n",
    "print(a) #print a\n",
    "print(A) #print A"
   ]
  },
  {
   "cell_type": "markdown",
   "metadata": {},
   "source": [
    "#### <span style=\"color: red\"> Task 3:</span> Input the vectors $\\mathbf{b}=(1,2,3)$ and $\\mathbf{c}=(4,5,6)$ into Python, then calculate the value of $\\frac{b_3c_1}{b_2}$."
   ]
  },
  {
   "cell_type": "markdown",
   "metadata": {},
   "source": [
    "#### <span style=\"color: blue\"> Solution"
   ]
  },
  {
   "cell_type": "code",
   "execution_count": 9,
   "metadata": {
    "collapsed": false
   },
   "outputs": [
    {
     "name": "stdout",
     "output_type": "stream",
     "text": [
      "6.0\n"
     ]
    }
   ],
   "source": [
    "b=np.array([1,2,3]) #input b\n",
    "c=np.array([4,5,6]) #input c\n",
    "print(b[2]*c[0]/b[1]) # print b_3c_1/b_2"
   ]
  },
  {
   "cell_type": "markdown",
   "metadata": {},
   "source": [
    "We can write matrix equations using index notation:\n",
    "\n",
    "$$\\text{A}\\cdot\\mathbf{x}=\\mathbf{a}\\hspace{1cm}\\text{becomes}\\hspace{1cm}\\sum_{j=1}^{n}A_{kj}x_j=a_k,\\hspace{1cm}\\text{for}\\hspace{1cm}k=1,2,...,m.$$\n",
    "\n",
    "It is very quick and easy to solve matrix equations in Python. For example, if we wanted to solve this equation for $\\mathbf{x}$ using the definitions of $\\text{A}$ and $\\mathbf{a}$ we input above, we simply use this code:"
   ]
  },
  {
   "cell_type": "code",
   "execution_count": 10,
   "metadata": {
    "collapsed": false
   },
   "outputs": [
    {
     "name": "stdout",
     "output_type": "stream",
     "text": [
      "x = [-1.  6. -4.]\n"
     ]
    }
   ],
   "source": [
    "x=np.linalg.solve(A,a) #solve the matrix equation A.x=a for x\n",
    "print('x =',x) #print the solution"
   ]
  },
  {
   "cell_type": "markdown",
   "metadata": {},
   "source": [
    "#### <span style=\"color: red\"> Task 4:</span> Solve the matrix equation $\\text{B}\\cdot\\mathbf{y}=\\mathbf{b}$ for $\\mathbf{y}$ using the $\\mathbf{b}$ you input in Task 3 with \n",
    "\n",
    "$$\\text{B}=\\left(\\begin{array}{ccc}\n",
    "-1 & 2 & 1\\\\\n",
    "2 & 1 & 1\\\\\n",
    "1 & 2 & 3\n",
    "\\end{array}\\right).$$"
   ]
  },
  {
   "cell_type": "markdown",
   "metadata": {},
   "source": [
    "#### <span style=\"color: blue\"> Solution"
   ]
  },
  {
   "cell_type": "code",
   "execution_count": 11,
   "metadata": {
    "collapsed": false
   },
   "outputs": [
    {
     "name": "stdout",
     "output_type": "stream",
     "text": [
      "y = [ 0.5  0.5  0.5]\n"
     ]
    }
   ],
   "source": [
    "B=np.array([[-1,2,1],[2,1,1],[1,2,3]]) #define B\n",
    "y=np.linalg.solve(B,b) #solve the matrix equation B.x=b for y\n",
    "print('y =',y) #print the solution"
   ]
  },
  {
   "cell_type": "markdown",
   "metadata": {},
   "source": [
    "We can also set up some special matrices using index notation, one important example of which is the Jacobian matrix. Imagine you had several functions $f_1$, $f_2$, ... $f_n$, each of which is a function of several variables $x_1$, $x_2$, ... $x_n$ and we were interested in all of the derivatives of these functions. We can set up a matrix that gives all of these derivatives:\n",
    "\n",
    "$$\\text{J}=\\left(\\begin{array}{cccc}\n",
    "\\dfrac{\\partial f_1}{\\partial x_1} & \\dfrac{\\partial f_1}{\\partial x_2} & \\cdots & \\dfrac{\\partial f_1}{\\partial x_n}\\\\\n",
    "\\dfrac{\\partial f_2}{\\partial x_1} & \\dfrac{\\partial f_2}{\\partial x_2} & \\cdots & \\dfrac{\\partial f_2}{\\partial x_n}\\\\\n",
    "\\vdots & \\vdots & \\ddots & \\vdots\\\\\n",
    "\\dfrac{\\partial f_n}{\\partial x_1} & \\dfrac{\\partial f_n}{\\partial x_2} & \\cdots & \\dfrac{\\partial f_n}{\\partial x_n}\\\\\n",
    "\\end{array}\\right).$$\n",
    "\n",
    "This is the Jacobian matrix and it can be written in index notation as\n",
    "\n",
    "$$J_{ij}=\\frac{\\partial f_i}{\\partial x_j}\\hspace{1cm}\\text{for}\\hspace{1cm}\\begin{array}{l}\n",
    "i=1,2,...,n,\\\\\n",
    "j=1,2,...,n.\n",
    "\\end{array}$$\n",
    "\n",
    "Let's say we had\n",
    "\n",
    "$$\\begin{array}{C}\n",
    "f_1(x_1,x_2,x_3)=-x_1+\\sqrt{x_2},\\\\\n",
    "f_2(x_1,x_2,x_3)=\\dfrac{1}{2x_2}+2\\sin(x_3),\\\\\n",
    "f_3(x_1,x_2,x_3)=x_1+2x_3,\\\\\n",
    "\\end{array}$$\n",
    "\n",
    "then the Jacobian matrix would be given by\n",
    "\n",
    "$$\\text{J}=\\left(\\begin{array}{ccc}\n",
    "-1 & \\dfrac{1}{2\\sqrt{x_2}} & 0\\\\\n",
    "0 & -\\dfrac{1}{2x_2^2} & 2\\cos(x_3)\\\\\n",
    "1 & 0 & 2\n",
    "\\end{array}\\right).$$"
   ]
  },
  {
   "cell_type": "markdown",
   "metadata": {},
   "source": [
    "#### <span style=\"color: red\"> Task 5:</span> Calculate the Jacobian matrix for\n",
    "\n",
    "$$\\begin{array}{C}\n",
    "f_1(x_1,x_2,x_3)=x_1^3+e^{x_2}-x_3,\\\\\n",
    "f_2(x_1,x_2,x_3)=x_1x_2+\\cos(x_3),\\\\\n",
    "f_3(x_1,x_2,x_3)=x_1+x_3.\\\\\n",
    "\\end{array}$$"
   ]
  },
  {
   "cell_type": "markdown",
   "metadata": {},
   "source": [
    "#### <span style=\"color: blue\"> Solution\n",
    "\n",
    "$$\\text{J}=\\left(\\begin{array}{ccc}\n",
    "3x_1^2 & e^{x_2} & -1\\\\\n",
    "x_2 & x_1 & -\\sin(x_3)\\\\\n",
    "1 & 0 & 1\n",
    "\\end{array}\\right).$$"
   ]
  },
  {
   "cell_type": "markdown",
   "metadata": {},
   "source": [
    "#### Using the Jacobian matrix to apply Newton's method in higher dimensions"
   ]
  },
  {
   "cell_type": "markdown",
   "metadata": {},
   "source": [
    "Suppose we want to know the roots of the functions $f_1$, $f_2$, ..., $f_n$. It turns out we can extend Newton's method in one dimension (as presented above) to higher dimensions using the Jacobian matrix. Whereas in one dimension, we wanted to find a root $x$ that satisfied $f(x)=0$, if we have $n$ functions of $n$ variables, then we are looking for the values of $x_1$, $x_2$, ..., $x_n$ that satisfy\n",
    "\n",
    "$$\\begin{array}{c}\n",
    "f_1(x_1,x_2,...,x_n)=0,\\\\\n",
    "f_2(x_1,x_2,...,x_n)=0,\\\\\n",
    "\\vdots\\\\\n",
    "f_n(x_1,x_2,...,x_n)=0.\\\\\n",
    "\\end{array}$$\n",
    "\n",
    "We can write this system in vector form - we are looking for the values of the vector $\\mathbf{x}$ that satisfy the vector equation\n",
    "\n",
    "$$\\mathbf{f}(\\mathbf{x})=\\mathbf{0}.$$\n",
    "\n",
    "In one dimension, we made an initial guess for the root $x$ and then improved it by adding\n",
    "\n",
    "$$\\delta x=-\\frac{f(x)}{f'(x)},$$\n",
    "\n",
    "so that our improved approximation to the root was $x+\\delta x$. Rearranging this equation, we see that $\\delta x$ satisfies\n",
    "\n",
    "$$f'(x)\\delta x=-f(x).$$ \n",
    "\n",
    "In $n$ dimensions, this equation is replaced by\n",
    "\n",
    "$$\\text{J}\\cdot\\delta\\mathbf{x}=-\\mathbf{f}(\\mathbf{x}),$$\n",
    "\n",
    "where $\\text{J}$ is the Jacobian matrix introduced above. We need to solve this matrix equation for $\\delta\\mathbf{x}$ and then our improved approximation for the solution $\\mathbf{x}$ will be $\\mathbf{x}+\\delta\\mathbf{x}$. In index notation, this equation is written as\n",
    "\n",
    "$$\\sum_{j=1}^nJ_{kj}x_j=-f_k,~\\hspace{1cm}~\\text{where}~\\hspace{1cm}k=1,...,n.$$\n",
    "\n",
    "Let's find a root of the system \n",
    "\n",
    "$$\\begin{array}{C}\n",
    "f_1(x_1,x_2,x_3)=0,\\\\\n",
    "f_2(x_1,x_2,x_3)=0,\\\\\n",
    "f_3(x_1,x_2,x_3)=0,\\\\\n",
    "\\end{array}$$\n",
    "\n",
    "where $f_1$, $f_2$ and $f_3$ are the functions we introduced above. We simply make an initial guess for our solution (let's choose $\\mathbf{x}=(1,1,1)$) then solve the matrix equation above using the Jacobian matrix we previously calculated and finally calculate a new solution via $\\mathbf{x}\\rightarrow\\mathbf{x}+\\delta\\mathbf{x}$:"
   ]
  },
  {
   "cell_type": "code",
   "execution_count": 12,
   "metadata": {
    "collapsed": false
   },
   "outputs": [
    {
     "name": "stdout",
     "output_type": "stream",
     "text": [
      "x = [ 0.81456619  0.62913238 -0.40728309]\n"
     ]
    }
   ],
   "source": [
    "x=np.array([1,1,1]) #our initial guess\n",
    "f=np.array([-x[0]+x[1]**(1/2),1/(2*x[1])+2*np.sin(x[2]),x[0]+2*x[2]]) #the values of f at x  (i.e. the residuals)\n",
    "J=np.array([[-1,1/(2*x[1]**(1/2)),0],[0,-1/(2*x[1]**2),2*np.sin(x[2])],[1,0,2]]) #input the Jacobian matrix calculated above\n",
    "deltax=np.linalg.solve(J,-f) #solve the matrix equation J.deltax=-f for deltax\n",
    "x=x+deltax #calculate an improved approximation to the root\n",
    "print('x =',x) #print the improved approximation"
   ]
  },
  {
   "cell_type": "markdown",
   "metadata": {},
   "source": [
    "We can then see how well $\\mathbf{x}$ solves our system by calculating the residual vector $\\mathbf{r}=\\mathbf{f}(\\mathbf{x})$. The closer this quantity is to $\\mathbf{0}$, the better our solution is:"
   ]
  },
  {
   "cell_type": "code",
   "execution_count": 13,
   "metadata": {
    "collapsed": false
   },
   "outputs": [
    {
     "name": "stdout",
     "output_type": "stream",
     "text": [
      "The residual vector is [ -2.13875348e-02   2.51304490e-03  -6.66133815e-16]\n"
     ]
    }
   ],
   "source": [
    "f=np.array([-x[0]+x[1]**(1/2),1/(2*x[1])+2*np.sin(x[2]),x[0]+2*x[2]]) #the values of f at x\n",
    "print('The residual vector is',f) #print the residual vector"
   ]
  },
  {
   "cell_type": "markdown",
   "metadata": {},
   "source": [
    "As you can see, all of the residuals are small, so we have a good approximation to the solution. If we wanted to continue and obtain an even better solution (until all of the residuals are below $10^{-8}$, say) then we could use another <code>while</code> loop:"
   ]
  },
  {
   "cell_type": "code",
   "execution_count": 14,
   "metadata": {
    "collapsed": false
   },
   "outputs": [
    {
     "name": "stdout",
     "output_type": "stream",
     "text": [
      "x = [ 0.80084058  0.64134563 -0.40042029]\n",
      "The residual vector is [  0.00000000e+00  -9.33229050e-09   0.00000000e+00]\n"
     ]
    }
   ],
   "source": [
    "x=np.array([1,1,1]) #our initial guess\n",
    "f=np.array([-x[0]+x[1]**(1/2),1/(2*x[1])+2*np.sin(x[2]),x[0]+2*x[2]]) #the values of f at x (i.e. the residuals)\n",
    "tol=0.00000001 #our tolerance\n",
    "maxres=max(abs(f)) #calculate the maximum entry in the residual vector\n",
    "\n",
    "while (maxres>tol): #set up while loop\n",
    "    J=np.array([[-1,1/(2*x[1]**(1/2)),0],[0,-1/(2*x[1]**2),2*np.sin(x[2])],[1,0,2]]) #input the Jacobian matrix calculated above\n",
    "    deltax=np.linalg.solve(J,-f) #solve the matrix equation J.deltax=-f for deltax\n",
    "    x=x+deltax #calculate an improved approximation to the root\n",
    "    f=np.array([-x[0]+x[1]**(1/2),1/(2*x[1])+2*np.sin(x[2]),x[0]+2*x[2]]) #the values of f at x (i.e. the residuals)\n",
    "    maxres=max(abs(f)) #calculate the maximum entry in the residual vector\n",
    "    \n",
    "print('x =',x) #print the improved approximation\n",
    "print('The residual vector is',f) #print the final residuals"
   ]
  },
  {
   "cell_type": "markdown",
   "metadata": {},
   "source": [
    "#### <span style=\"color: red\"> Task 6:</span> Find a root of the system \n",
    "\n",
    "$$\\begin{array}{C}\n",
    "f_1(x_1,x_2,x_3)=0,\\\\\n",
    "f_2(x_1,x_2,x_3)=0,\\\\\n",
    "f_3(x_1,x_2,x_3)=0,\\\\\n",
    "\\end{array}$$\n",
    "\n",
    "with $f_1$, $f_2$ and $f_3$ defined as they were in Task 5. Iterate your solution until the maximum residual is less than $10^{-10}$."
   ]
  },
  {
   "cell_type": "markdown",
   "metadata": {},
   "source": [
    "#### <span style=\"color: blue\"> Solution"
   ]
  },
  {
   "cell_type": "code",
   "execution_count": 15,
   "metadata": {
    "collapsed": false
   },
   "outputs": [
    {
     "name": "stdout",
     "output_type": "stream",
     "text": [
      "x = [-0.95576624  0.60368642  0.95576624]\n"
     ]
    }
   ],
   "source": [
    "x=np.array([1,1,1]) #our initial guess\n",
    "f=np.array([x[0]**3+np.exp(x[1])-x[2],x[0]*x[1]+np.cos(x[2]),x[0]+x[2]]) #the values of f at x (i.e. the residuals)\n",
    "tol=0.0000000001 #our tolerance\n",
    "maxres=max(abs(f)) #calculate the maximum entry in the residual vector\n",
    "\n",
    "while (maxres>tol): #set up while loop\n",
    "    J=np.array([[2*x[0]**2,np.exp(x[1]),-1],[x[1],x[0],-np.sin(x[2])],[1,0,1]]) #input the Jacobian matrix calculated above\n",
    "    deltax=np.linalg.solve(J,-f) #solve the matrix equation J.deltax=-f for deltax\n",
    "    x=x+deltax #calculate an improved approximation to the root\n",
    "    f=np.array([x[0]**3+np.exp(x[1])-x[2],x[0]*x[1]+np.cos(x[2]),x[0]+x[2]]) #the values of f at x (i.e. the residuals)\n",
    "    maxres=max(abs(f)) #calculate the maximum entry in the residual vector\n",
    "    \n",
    "print('x =',x) #print the improved approximation"
   ]
  },
  {
   "cell_type": "markdown",
   "metadata": {},
   "source": [
    "### Integration By Parts"
   ]
  },
  {
   "cell_type": "markdown",
   "metadata": {},
   "source": [
    "Another trick we will need to use below is integration by parts. You should have come across this before, but for reference here is a statement of the rule for arbitrary functions $u(x)$ and $v(x)$:\n",
    "\n",
    "$$\\int_a^bu(x)v'(x)dx=[u(x)v(x)]_a^b-\\int_a^bu'(x)v(x)dx.$$\n",
    "\n",
    "So, for example, if we wanted to integrate $x\\cos(x)$ between 0 and $\\pi$, we could choose $u(x)=x$, $v'(x)=\\cos(x)\\Rightarrow v(x)=\\sin(x)$ to obtain\n",
    "\n",
    "$$\\int_0^\\pi x\\cos(x)dx=[x\\sin(x)]_0^\\pi-\\int_0^\\pi\\sin(x)dx=-2$$"
   ]
  },
  {
   "cell_type": "markdown",
   "metadata": {},
   "source": [
    "#### <span style=\"color: red\"> Task 7:</span> Integrate $x^2\\sin(x)$ between 0 and $\\pi$ by parts."
   ]
  },
  {
   "cell_type": "markdown",
   "metadata": {},
   "source": [
    "#### <span style=\"color: blue\"> Solution\n",
    "\n",
    "$$\\int_0^\\pi x^2\\sin(x)dx=[-x^2\\cos(x)]_0^\\pi+\\int_0^{\\pi} 2x\\cos(x)dx=\\pi^2+2\\int_0^\\pi x\\cos(x)dx=\\pi^2-4.$$"
   ]
  },
  {
   "cell_type": "markdown",
   "metadata": {},
   "source": [
    "### The Weak Solution"
   ]
  },
  {
   "cell_type": "markdown",
   "metadata": {},
   "source": [
    "The finite element method depends upon the concept of the weak solution to the differential equation you wish to solve. A strong solution to a boundary value problem is the classical solution that we are used to - i.e. it is the function $u(x)$ that satisfies the equation and boundary conditions at every point in the domain you are interested in. A weak solution, however, only satisfies the governing equations in an average sense. It is defined as the function $u_w$ that satisfies the boundary conditions:\n",
    "\n",
    "$$u_w|_{\\partial D}=g,$$\n",
    "\n",
    "and for which the \"weighted residual\", defined as\n",
    "\n",
    "$$r=\\int\\mathcal{R}(x,u_w(x))\\phi(x)dx$$\n",
    "\n",
    "is equal to 0 for _any_ function $\\phi(x)$ (this is called the test function) that satisfies homogeneous boundary conditions (i.e. boundary conditions with $g=0$):\n",
    "\n",
    "$$\\phi|_{\\partial D}=0.$$\n",
    "\n",
    "So for Problem P1, we would seek the solution $u_w(x)$ that satifies the equation\n",
    "\n",
    "$$r=\\int\\left(\\frac{d^2u_w(x)}{dx^2}-f(x)\\right)\\phi(x)dx=0,$$\n",
    "\n",
    "for any $\\phi(x)$ that satifies the homogeneous boundary conditions $\\phi(0)=\\phi(1)=0$. We shall call this _Problem P1 Weak_.\n",
    "\n",
    "You may be sceptical about whether the weak solution is of any use, but it transpires that _a weak solution is a strong solution_ (i.e. $u_w=u$)! We shall not go into the reasons why here, but if you would like an intuitive explanation, see the [<code>oomph-lib</code> finite element method documentation](http://oomph-lib.maths.man.ac.uk/doc/intro/html/index.html). Therefore, if we can find a $u_w$ for which $r=0$ for any $\\phi(x)$, then we have found a solution to our boundary value problem! It is probably not obvious why writing our problem in this form is helpful, but essentially it is a mathematical trick that allows us to make progress because the techniques that we use below can be applied to Problem P1 Weak, but cannot be applied directly to Problem P1."
   ]
  },
  {
   "cell_type": "markdown",
   "metadata": {
    "collapsed": true
   },
   "source": [
    "### The Galerkin Method"
   ]
  },
  {
   "cell_type": "markdown",
   "metadata": {},
   "source": [
    "The Galerkin method is a technique for turning a differential equation into a discrete problem and the finite element method builds upon this method. This section is mathematically challenging, but as mentioned above, don't worry if you don't follow all the details, just make sure you know which parts of the code to edit when we get to it. We shall use the Galerkin method to solve a general boundary value problem in weak form. We start by spliting $u$ into two parts:\n",
    "\n",
    "$$u(x)=u_p(x)+u_h(x),$$\n",
    "\n",
    "where $u_p$ is an arbitrary function that satisfies the boundary conditions:\n",
    "\n",
    "$$u_p|_{\\partial D}=g$$\n",
    "\n",
    "and therefore the unknown function $u_h$ must satisfy the homogeneous boundary conditions:\n",
    "\n",
    "$$u_h|_{\\partial D}=0.$$\n",
    "\n",
    "We then expand $u_h$ in terms of a set of basis functions $\\psi_j(x),~j=1,2,...$ so that we can write\n",
    "\n",
    "$$u_h(x)=\\sum_{j=1}^\\infty U_j\\psi_j(x),$$\n",
    "\n",
    "where the $U_j$ are unknown constants. [Basis functions](https://en.wikipedia.org/wiki/Basis_function) are sets of simple functions that any other function can be written as a linear combination of. There are many types of functions that can be used as basis functions, such as polynomials and trigonometric functions and $\\psi_j$ can be chosen to be any of these provided they satisfy the homogeneous boundary conditions. Using this expansion, we can write the total solution as\n",
    "\n",
    "$$u(x)=u_p(x)+\\sum_{j=1}^\\infty U_j\\psi_j(x).$$\n",
    "\n",
    "We can then substitute this into our expression for the weighted residual to obtain\n",
    "\n",
    "$$r=\\int\\mathcal{R}\\left(x,u_p(x)+\\sum_{j=1}^\\infty U_j\\psi_j(x)\\right)\\phi(x)dx,$$\n",
    "\n",
    "or for Problem P1 Weak:\n",
    "\n",
    "$$r=\\int_0^1\\left(\\frac{d^2u_p(x)}{dx^2}+\\sum_{j=1}^\\infty U_j\\frac{d^2\\psi_j(x)}{dx^2}-f(x)\\right)\\phi(x)dx.$$\n",
    "\n",
    "We then also expand $\\phi(x)$ in terms of the same basis:\n",
    "\n",
    "$$\\phi(x)=\\sum_{k=1}^\\infty \\Phi_k\\psi_k(x),$$\n",
    "\n",
    "which allows us to write\n",
    "\n",
    "$$r=\\sum_{k=1}^\\infty\\Phi_kr_k(U_1,U_2,...)=0,$$\n",
    "\n",
    "where\n",
    "\n",
    "$$r_k(U_1,U_2,...)=\\int\\mathcal{R}\\left(x,u_p(x)+\\sum_{j=1}^\\infty U_j\\psi_j(x)\\right)\\psi_k(x)dx,$$\n",
    "\n",
    "or for Problem P1 Weak:\n",
    "\n",
    "$$r_k(U_1,U_2,...)=\\int_0^1\\left(\\frac{d^2u_p(x)}{dx^2}+\\sum_{j=1}^\\infty U_j\\frac{d^2\\psi_j(x)}{dx^2}-f(x)\\right)\\psi_k(x)dx.$$\n",
    "\n",
    "The condition that the weighted residual must equal zero for any test function $\\phi(x)$ is equilavent to saying that it must equal zero for any values of the coefficients $\\Phi_k$. Therefore, the only way this will happen is if\n",
    "\n",
    "$$r_k(U_1,U_2,...)=0~\\hspace{1cm}~\\text{for}~\\hspace{1cm}~k=1,2,....$$\n",
    "\n",
    "Although the expansions above are expressed as infinite sums, in practice, we can take a finite number of terms and still obtain a good approximation to the function we are interested in. The approximations truncated after $M$ terms look like this:\n",
    "\n",
    "$$\\bar{u}(x)=u_p(x)+\\sum_{j=1}^M U_j\\psi_j(x)~\\hspace{1cm}~\\text{and}~\\hspace{1cm}~\\bar{\\phi}(x)=\\sum_{k=1}^M\\Phi_k\\psi_k(x),$$\n",
    "\n",
    "and we can determine the $M$ unknown coefficients $U_1,U_2,...,U_M$ by solving the $M$ algebraic equations\n",
    "\n",
    "$$r_k(U_1,...,U_M)=0,~\\hspace{1cm}~\\text{where}~\\hspace{1cm}~k=1,2,...,M.$$\n",
    "\n",
    "An algorithm for this process is as follows:"
   ]
  },
  {
   "cell_type": "markdown",
   "metadata": {},
   "source": [
    "#### Algorithm 1: The Galerkin method\n",
    "\n",
    "This algorithm depends upon Newton's method in $M$ dimensions. We are looking for the roots of each of the functions $r_k$ (i.e. the values of $U_1,U_2,...,U_M$) for which $r_k=0$, therefore this is an appropriate method to use.\n",
    "\n",
    "1. Provide an initial guess for the unknowns $U_1,U_2,...,U_M$.\n",
    "2. Evaluate the residuals $r_k$ for $k=1,2,...,M$.\n",
    "3. Calculate a suitable measure of the size of the residual vector. For example, we may want to look at the maximum absolute value of any $r_k$. We want this number to be as small as possible. The smaller the number, the better our approximation is to the true solution. If $r_k$ is below some prescribed tolerence level, then we accept the $U_1,U_2,...,U_M$ as our solution. Otherwise, we move onto step 4:\n",
    "4. Calculate the Jacobian matrix that gives the derivatives of the residuals, $r_k$ with repsect to the variables $U_j$: $$J_{kj}=\\left.\\frac{\\partial r_k}{\\partial U_j}\\right|_{(U_1,U_2,...,U_M)}~\\hspace{1cm}~\\text{for}~j,k=1,2,...,M.$$ From the definition of $r_k$ for Problem P1 Weak, we can see that in this case we have $$J_{kj}=\\frac{\\partial r_k}{\\partial U_j}=\\int_0^1\\frac{\\partial^2\\psi_j(x)}{\\partial x^2}\\psi_k(x)dx.$$\n",
    "5. Solve the linear system $$\\sum_{j=1}^MJ_{kj}\\delta U_j=-r_k,~\\hspace{1cm}~\\text{where}~\\hspace{1cm}k=1,...,M,$$ for $\\delta U_j,~(j=1,...,M)$. This system can be written in matrix form as follows: $$\\text{J}\\cdot\\mathbf{\\delta U}=-\\mathbf{r},$$ where $J$ is the matrix whose entries are $J_{kj}$, $\\mathbf{\\delta U}$ is the vector whose entries are $\\delta U_j$ and $\\mathbf{r}$ is the vector whose entries are $r_k$.\n",
    "6. Compute an improved approximation to the solution via $$U_j=U_j+\\delta U_j~\\hspace{1cm}~\\text{for}~\\hspace{1cm}~j=1,2,...,M.$$\n",
    "7. Go to 2."
   ]
  },
  {
   "cell_type": "markdown",
   "metadata": {},
   "source": [
    "#### Python Implementation\n",
    "\n",
    "Below is an implementation of this algorithm in Python for Problem P1 Weak over the range $x=0$ to $x=1$, with $f(x)=6x$, $u(0)=g_0=300$, $u(1)=g_1=299$ and $M=10$. We shall choose a set of trigonometric functions as our basis functions:\n",
    "\n",
    "$$\\psi_j(x)=\\sin(\\pi jx),$$\n",
    "\n",
    "which gives\n",
    "\n",
    "$$\\frac{d^2\\psi_j(x))}{dx^2}=-(\\pi j)^2\\sin(\\pi jx).$$\n",
    "\n",
    "Note that these basis functions are appropriate because they satisfy the homogeneous boundary conditions $\\psi_j(0)=\\psi_j(1)=0$. We also need to choose an arbitrary function that satisfies the non-homogeneous boundary conditions. We shall choose\n",
    "\n",
    "$$u_p(x)=g_0+(g_1-g_0)x,$$\n",
    "\n",
    "which we can see satisfies $u_p(0)=g_0$ and $u_p(1)=g_1$ and gives\n",
    "\n",
    "$$\\frac{d^2u_p(x)}{dx^2}=0.$$\n",
    "\n",
    "For Problem P1 Weak, we have\n",
    "\n",
    "$$u_p(x)=300+(299-300)x=300-x.$$\n",
    "\n",
    "Substituting these choices for $f(x)$, $\\psi_j(x)$ and $u_p(x)$ into the equation for $r_k$, we obtain\n",
    "\n",
    "$$r_k(U_1,U_2,...)=\\int_0^1\\left(-\\sum_{j=1}^M U_j(\\pi j)^2\\sin(\\pi jx)-6x\\right)\\sin(\\pi kx)dx,$$\n",
    "\n",
    "which we can rewrite as\n",
    "\n",
    "$$r_k(U_1,U_2,...)=-\\sum_{j=1}^M\\int_0^1U_j(\\pi j)^2\\sin(\\pi jx)\\sin(\\pi kx)dx-\\int_0^16x\\sin(\\pi kx)dx.$$\n",
    "\n",
    "We also have\n",
    "\n",
    "$$\\frac{\\partial r_k}{\\partial U_j}=-\\int_0^1(\\pi j)^2\\sin(\\pi jx)\\sin(\\pi kx)dx=\n",
    "\\left\\{\\begin{array}{cc}\n",
    "-(\\pi j)^2/2, & j=k,\\\\\n",
    "0, & j\\ne k,\n",
    "\\end{array}\\right.$$\n",
    "\n",
    "which allows us to simplify steps 4 and 5 of Algorithm 1 to\n",
    "\n",
    "$$\\delta U_k=\\frac{2r_k^{(i)}}{(\\pi k)^2},~\\hspace{1cm}~\\text{for}~\\hspace{1cm}~j=1,2,...,M.$$"
   ]
  },
  {
   "cell_type": "code",
   "execution_count": 16,
   "metadata": {
    "collapsed": false
   },
   "outputs": [
    {
     "data": {
      "image/png": "[encoded data removed]",
      "text/plain": [
       "<matplotlib.figure.Figure at 0x823a2e8>"
      ]
     },
     "metadata": {},
     "output_type": "display_data"
    }
   ],
   "source": [
    "import scipy.integrate as integrate #import numerical integration functionality from scipy\n",
    "M=10 #set value for M\n",
    "tol=0.0000001 #set tolerance for the maximum error we will allow\n",
    "\n",
    "#Algorithm Step 1:\n",
    "U=np.ones(M) #set initial guesses for U1,...UM. We have chosen to Uj=1 for all j=1,2,...,M\n",
    "\n",
    "#Set up while loop - the algorithm will loop over Steps 2-7 until the maximum residual is less than the tolerance\n",
    "maxres=tol+1 #set initial value for the maximum resiual\n",
    "while (maxres>tol): #the condition for the while loop\n",
    "\n",
    "#Algorithm Step 2:\n",
    "    r=np.zeros(M) #create a vector of zeros of length M for the residuals rk. We only do this so that r has the right length\n",
    "    myint=np.zeros(M) #create a vector of zeros of length M for the first set of integrals, which will be summed over\n",
    "    Mrange=range(M) #create a list of integers between 0 and M-1\n",
    "    for k in Mrange: # loop over k between 0 and M-1\n",
    "        for j in Mrange: # loop over j between 0 and M-1\n",
    "            myint[j]=integrate.quad(lambda x: U[j]*((np.pi*(j+1))**2)*np.sin(np.pi*(j+1)*x)*np.sin(np.pi*(k+1)*x),0,1)[0] #calculate the set of integrals to be summed over\n",
    "        r[k]=-sum(myint)-integrate.quad(lambda x: 6*x*np.sin(np.pi*(k+1)*x),0,1)[0] #calculate rk\n",
    "\n",
    "#Algorithm Step 3:\n",
    "    maxres=max(abs(r)) #calculate the maximum residual\n",
    "    \n",
    "#Algorithm Steps 4 and 5:    \n",
    "    deltaU=np.zeros(M) #create a vector of zeros of length M for deltaU. We only do this so that deltaU has the right length\n",
    "    for k in Mrange: #loop over k between 0 and M-1\n",
    "        deltaU[k]=2*r[k]/(np.pi*(k+1))**2 #calculate deltaU\n",
    "        \n",
    "#Algorithm Step 6:        \n",
    "    U=U+deltaU #calculate the new value of U\n",
    "    \n",
    "#Calculate the final answer:    \n",
    "    \n",
    "def FinalU(x,U): #define a function that outputs our final answer\n",
    "    output=np.zeros(len(x)) #create a vector of zeros of that is the same length as the input vector x. We only do this so that the output has the right length\n",
    "    SinList=np.zeros(len(U)) #create a vector of zeros of that is the same length as U. We only do this so that the SinList has the right length\n",
    "    for j in range(len(x)): # loop over j between 0 and (the length of x)-1\n",
    "        for k in range(len(U)): # loop over k between 0 and (the length of U)-1\n",
    "            SinList[k]=np.sin(np.pi*(k+1)*x[j]) #the kth basis function\n",
    "        output[j]=300-x[j]+sum(U*SinList) #the final answer - the first part (300-x[j]) is Up(x), the second is the sum over Uj times the basis functions\n",
    "    return output #return the output\n",
    "\n",
    "x=np.linspace(0,1,301) #create a list of input x values\n",
    "\n",
    "plt.plot(x,x**3-2*x+300,'-b', label=\"$x^3-2x+300$\") #plot f(x)=x^3-2x+300\n",
    "plt.plot(x,FinalU(x,U),'--r', label=\"Numerical solution\") #plot numerical solution\n",
    "plt.xlabel('x') #label horizontal axis\n",
    "plt.legend(bbox_to_anchor=(1.05, 1), loc=2, borderaxespad=0.); #plot legend"
   ]
  },
  {
   "cell_type": "markdown",
   "metadata": {},
   "source": [
    "So that you can get an idea of which parts of the code do what, below is another implementation of the Galerkin method to solve Poission's equation, but this time, we will use $f(x)=\\cos(x)$, $u(0)=g_0=1$ and $u(1)=g_1=2$. Therefore, our arbitrary function for the boundary conditions will be\n",
    "\n",
    "$$u_p(x)=1+x.$$\n",
    "\n",
    "The exact solution in this case is\n",
    "\n",
    "$$u(x)=2+\\cos(1)x-\\cos(x).$$\n",
    "\n",
    "We will use the same basis functions:\n",
    "\n",
    "$$\\psi_j(x)=\\sin(\\pi jx),$$\n",
    "\n",
    "but will truncate our series expansions after $M=20$ terms this time. Look for differences between the code below and that above, to work out which bits do what."
   ]
  },
  {
   "cell_type": "code",
   "execution_count": 17,
   "metadata": {
    "collapsed": false
   },
   "outputs": [
    {
     "data": {
      "image/png": "[encoded data removed]",
      "text/plain": [
       "<matplotlib.figure.Figure at 0x837b208>"
      ]
     },
     "metadata": {},
     "output_type": "display_data"
    }
   ],
   "source": [
    "M=20 #this time M=20\n",
    "tol=0.0000001\n",
    "\n",
    "#Algorithm Step 1:\n",
    "U=np.ones(M)\n",
    "\n",
    "#Set up while loop\n",
    "maxres=tol+1 \n",
    "while (maxres>tol):\n",
    "\n",
    "#Algorithm Step 2:\n",
    "    r=np.zeros(M)\n",
    "    myint=np.zeros(M)\n",
    "    Mrange=range(M)\n",
    "    for k in Mrange: \n",
    "        for j in Mrange: \n",
    "            myint[j]=integrate.quad(lambda x: U[j]*((np.pi*(j+1))**2)*np.sin(np.pi*(j+1)*x)*np.sin(np.pi*(k+1)*x),0,1)[0]\n",
    "        r[k]=-sum(myint)-integrate.quad(lambda x: np.cos(x)*np.sin(np.pi*(k+1)*x),0,1)[0] #we have changed 6x to cos(x)\n",
    "\n",
    "#Algorithm Step 3:\n",
    "    maxres=max(abs(r))\n",
    "    \n",
    "#Algorithm Steps 4 and 5:    \n",
    "    deltaU=np.zeros(M) \n",
    "    for k in Mrange: \n",
    "        deltaU[k]=2*r[k]/(np.pi*(k+1))**2\n",
    "        \n",
    "#Algorithm Step 6:        \n",
    "    U=U+deltaU\n",
    "    \n",
    "#Calculate the final answer:    \n",
    "    \n",
    "def FinalU(x,U):\n",
    "    output=np.zeros(len(x))\n",
    "    SinList=np.zeros(len(U)) \n",
    "    for j in range(len(x)): \n",
    "        for k in range(len(U)): \n",
    "            SinList[k]=np.sin(np.pi*(k+1)*x[j]) \n",
    "        output[j]=1+x[j]+sum(U*SinList) #we have changed our particular solution to Up(x)=1+x\n",
    "    return output\n",
    "\n",
    "plt.plot(x,2+np.cos(1)*x-np.cos(x),'-b', label=\"$2+\\cos(1)x-\\cos(x)$\") #plot f(x)=2+cos(1)x+cos(x)\n",
    "plt.plot(x,FinalU(x,U),'--r', label=\"Numerical solution\") #plot numerical solution\n",
    "plt.xlabel('x') #label horizontal axis\n",
    "plt.legend(bbox_to_anchor=(1.05, 1), loc=2, borderaxespad=0.); #plot legend"
   ]
  },
  {
   "cell_type": "markdown",
   "metadata": {},
   "source": [
    "#### <span style=\"color: red\"> Task 8:</span> Solve Poisson's equation with $f(x)=x^2$, $u(0)=g_0=0$ and $u(1)=g_1=1$ using the Galerkin method.\n",
    "\n",
    "Compare your numerical solution to the exact solution:\n",
    "\n",
    "$$u(x)=\\frac{x^4+11x}{12}.$$\n",
    "\n",
    "The figure you obtain should look like this:\n",
    "<figure>\n",
    "<img src=\"Figures/05_T8.jpg\" width='400'>\n",
    "</figure>"
   ]
  },
  {
   "cell_type": "markdown",
   "metadata": {},
   "source": [
    "#### <span style=\"color: blue\"> Solution"
   ]
  },
  {
   "cell_type": "code",
   "execution_count": 18,
   "metadata": {
    "collapsed": false
   },
   "outputs": [
    {
     "data": {
      "image/png": "[encoded data removed]",
      "text/plain": [
       "<matplotlib.figure.Figure at 0xa19eb00>"
      ]
     },
     "metadata": {},
     "output_type": "display_data"
    }
   ],
   "source": [
    "M=10\n",
    "tol=0.0000001\n",
    "\n",
    "#Algorithm Step 1:\n",
    "U=np.ones(M)\n",
    "\n",
    "#Set up while loop\n",
    "maxres=tol+1 \n",
    "while (maxres>tol):\n",
    "\n",
    "#Algorithm Step 2:\n",
    "    r=np.zeros(M)\n",
    "    myint=np.zeros(M)\n",
    "    Mrange=range(M)\n",
    "    for k in Mrange: \n",
    "        for j in Mrange: \n",
    "            myint[j]=integrate.quad(lambda x: U[j]*((np.pi*(j+1))**2)*np.sin(np.pi*(j+1)*x)*np.sin(np.pi*(k+1)*x),0,1)[0]\n",
    "        r[k]=-sum(myint)-integrate.quad(lambda x: (x**2)*np.sin(np.pi*(k+1)*x),0,1)[0] #this time f(x)=x^2\n",
    "\n",
    "#Algorithm Step 3:\n",
    "    maxres=max(abs(r))\n",
    "    \n",
    "#Algorithm Steps 4 and 5:    \n",
    "    deltaU=np.zeros(M) \n",
    "    for k in Mrange: \n",
    "        deltaU[k]=2*r[k]/(np.pi*(k+1))**2\n",
    "        \n",
    "#Algorithm Step 6:        \n",
    "    U=U+deltaU\n",
    "    \n",
    "#Calculate the final answer:    \n",
    "    \n",
    "def FinalU(x,U):\n",
    "    output=np.zeros(len(x))\n",
    "    SinList=np.zeros(len(U)) \n",
    "    for j in range(len(x)): \n",
    "        for k in range(len(U)): \n",
    "            SinList[k]=np.sin(np.pi*(k+1)*x[j]) \n",
    "        output[j]=x[j]+sum(U*SinList) #we have changed our particular solution to Up(x)=x\n",
    "    return output\n",
    "\n",
    "plt.plot(x,(x**4+11*x)/12,'-b', label=\"$(x^4+11x)/12$\") #plot f(x)=(x^4+11x)/12\n",
    "plt.plot(x,FinalU(x,U),'--r', label=\"Numerical solution\") #plot numerical solution\n",
    "plt.xlabel('x') #label horizontal axis\n",
    "plt.legend(bbox_to_anchor=(1.05, 1), loc=2, borderaxespad=0.); #plot legend"
   ]
  },
  {
   "cell_type": "markdown",
   "metadata": {},
   "source": [
    "#### <span style=\"color: red\"> Task 9:</span> Solve Poisson's equation with $f(x)=x^3$, $u(0)=g_0=0$ and $u(2)=g_1=1$ using the Galerkin method.\n",
    "\n",
    "Compare your numerical solution to the exact solution:\n",
    "\n",
    "$$u(x)=\\frac{x^5-6x}{20}.$$\n",
    "\n",
    "Use the following basis functions:\n",
    "\n",
    "$$\\psi_j(x)=\\sin(\\pi jx/2),$$\n",
    "\n",
    "which give\n",
    "\n",
    "$$\\frac{d^2\\psi_j(x))}{dx^2}=-\\frac{(\\pi j)^2}{4}\\sin(\\pi jx/2),$$\n",
    "\n",
    "which will give you a modified expression for the Jacobian matrix:\n",
    "\n",
    "$$\\frac{\\partial r_k}{\\partial U_j}=-\\int_0^2\\frac{(\\pi j)^2}{4}\\sin(\\pi jx/2)\\sin(\\pi kx/2)dx=\n",
    "\\left\\{\\begin{array}{cc}\n",
    "-(\\pi j)^2/4, & j=k,\\\\\n",
    "0, & j\\ne k,\n",
    "\\end{array}\\right.$$\n",
    "\n",
    "Note, this time the right boundary condition is applied at $x=2$, so you will have to be careful when choosing your arbitrary function that satisfies the boundary conditions. You will also need to change the range of input $x$ values and the range over which you integrate inside the for loop.\n",
    "\n",
    "The figure you obtain should look like this:\n",
    "<figure>\n",
    "<img src=\"Figures/05_T9.jpg\" width='400'>\n",
    "</figure>"
   ]
  },
  {
   "cell_type": "markdown",
   "metadata": {},
   "source": [
    "#### <span style=\"color: blue\"> Solution"
   ]
  },
  {
   "cell_type": "code",
   "execution_count": 19,
   "metadata": {
    "collapsed": false
   },
   "outputs": [
    {
     "data": {
      "image/png": "[encoded data removed]",
      "text/plain": [
       "<matplotlib.figure.Figure at 0x8b56ef0>"
      ]
     },
     "metadata": {},
     "output_type": "display_data"
    }
   ],
   "source": [
    "M=10\n",
    "tol=0.0000001\n",
    "\n",
    "#Algorithm Step 1:\n",
    "U=np.ones(M)\n",
    "\n",
    "#Set up while loop\n",
    "maxres=tol+1 \n",
    "while (maxres>tol):\n",
    "\n",
    "#Algorithm Step 2:\n",
    "    r=np.zeros(M)\n",
    "    myint=np.zeros(M)\n",
    "    Mrange=range(M)\n",
    "    for k in Mrange: \n",
    "        for j in Mrange: \n",
    "            myint[j]=integrate.quad(lambda x: U[j]*(((np.pi*(j+1))**2)/4)*np.sin(np.pi*(j+1)*x/2)*np.sin(np.pi*(k+1)*x/2),0,2)[0] #we have modified this line to account for the new basis functions\n",
    "        r[k]=-sum(myint)-integrate.quad(lambda x: (x**3)*np.sin(np.pi*(k+1)*x/2),0,2)[0] #we have modified this line to account for the new basis functions and this time f(x)=x^3\n",
    "\n",
    "#Algorithm Step 3:\n",
    "    maxres=max(abs(r))\n",
    "    \n",
    "#Algorithm Steps 4 and 5:    \n",
    "    deltaU=np.zeros(M) \n",
    "    for k in Mrange: \n",
    "        deltaU[k]=4*r[k]/(np.pi*(k+1))**2 #the modified Jacobian comes in here\n",
    "        \n",
    "#Algorithm Step 6:        \n",
    "    U=U+deltaU\n",
    "    \n",
    "#Calculate the final answer:    \n",
    "    \n",
    "def FinalU(x,U):\n",
    "    output=np.zeros(len(x))\n",
    "    SinList=np.zeros(len(U)) \n",
    "    for j in range(len(x)): \n",
    "        for k in range(len(U)): \n",
    "            SinList[k]=np.sin(np.pi*(k+1)*x[j]/2) #we have modified this line to account for the new basis functions\n",
    "        output[j]=x[j]/2+sum(U*SinList) #we have changed our particular solution to Up(x)=x/2\n",
    "    return output\n",
    "\n",
    "x2=np.linspace(0,2,101) #create a list of input x values\n",
    "\n",
    "plt.plot(x2,(x2**5-6*x2)/20,'-b', label=\"$(x^5-6x)/20$\") #plot f(x)=(x^5-6x)/20\n",
    "plt.plot(x2,FinalU(x2,U),'--r', label=\"Numerical solution\") #plot numerical solution\n",
    "plt.xlabel('x') #label horizontal axis\n",
    "plt.legend(bbox_to_anchor=(1.05, 1), loc=2, borderaxespad=0.); #plot legend"
   ]
  },
  {
   "cell_type": "markdown",
   "metadata": {},
   "source": [
    "## The Finite Element Method"
   ]
  },
  {
   "cell_type": "markdown",
   "metadata": {},
   "source": [
    "We are now finally ready to implement the finite element method. This method builds upon the Galerkin method, but makes a key modification. \n",
    "\n",
    "One of the most important steps in the Galerkin method is choosing an appropriate set of basis functions. We glossed over this step above - the $\\sin(\\pi jx)$ terms were a good choice but we didn't discuss in detail why. One of the reasons that this was a good choice was because $\\sin(\\pi jx)|_{\\partial D}=0$ (i.e. these basis functions equal zero on the boundary of our domain). The other, crucial reason why they were a good choice was that they led to a sparse Jacobian matrix. In step 5 of Algorithm 1, we had to invert a matrix equation to determine the values of $\\delta U_j$:\n",
    "\n",
    "$$\\text{J}\\cdot\\mathbf{\\delta U}=-\\mathbf{r}.$$\n",
    "\n",
    "It transpires that this calculation is very computationally expensive if your Jacobian matrix has a lot of non-zero entries; for example (in the case where we have chosen $M=5$):\n",
    "\n",
    "$$\\text{J}=\\left(\\begin{array}{ccccc}\n",
    "J_{11} & J_{12} & J_{13} & J_{14} & J_{15} \\\\\n",
    "J_{21} & J_{22} & J_{23} & J_{24} & J_{25} \\\\\n",
    "J_{31} & J_{32} & J_{33} & J_{34} & J_{35} \\\\\n",
    "J_{41} & J_{42} & J_{43} & J_{44} & J_{45} \\\\\n",
    "J_{51} & J_{52} & J_{53} & J_{54} & J_{55}\n",
    "\\end{array}\\right).$$\n",
    "\n",
    "However, if the Jacobian contains a lot of zeros, then this step is very quick (a matrix containing many zeros is called a sparse matrix). For $\\psi_j(x)=\\sin(\\pi jx)$, in fact, the Jacobian was diagonal, and therefore had zeros almost everywhere:\n",
    "\n",
    "$$\\text{J}=\\left(\\begin{array}{ccccc}\n",
    "J_{11} & 0 & 0 & 0 & 0 \\\\\n",
    "0 & J_{22} & 0 & 0 & 0 \\\\\n",
    "0 & 0 & J_{33} & 0 & 0 \\\\\n",
    "0 & 0 & 0 & J_{44} & 0 \\\\\n",
    "0 & 0 & 0 & 0 & J_{55}\n",
    "\\end{array}\\right)=\\left(\\begin{array}{ccccc}\n",
    "-\\pi^2/2 & 0 & 0 & 0 & 0 \\\\\n",
    "0 & -4\\pi^2/2 & 0 & 0 & 0 \\\\\n",
    "0 & 0 & -9\\pi^2/2 & 0 & 0 \\\\\n",
    "0 & 0 & 0 & -16\\pi^2/2 & 0 \\\\\n",
    "0 & 0 & 0 & 0 & -25\\pi^2/2\n",
    "\\end{array}\\right).$$\n",
    "\n",
    "In fact, this choice allowed us to do away with the matrix inversion step altogether and simply write:\n",
    "\n",
    "$$\\delta U_k=\\frac{2r_k}{(n\\pi)^2}$$\n",
    "\n",
    "in our Python implementation.\n",
    "\n",
    "For our simple one-dimensional problem, Problem P1 Weak, it was quite easy to choose a set of basis functions that disappeared on the boundary and gave a sparse Jacobian matrix. For an arbitrarily shaped domain in higher dimensions (e.g. imagine you wanted to use the finite element method to model a car crashing into a wall, then your domain would be three-dimensional and car-shaped!) it is very hard to find a set of basis functions that disappear on the boundaries.\n",
    "\n",
    "The finite element method makes a clever choice for the basis functions that manages to achieve this and still give a relatively sparse Jacobian matrix. The key aspect of these basis functions is that they have \"finite support\" - in other words, they are zero almost everywhere. One example of these basis functions is the linear finite element shape functions (sometimes called \"hat functions\"). To introduce these functions, we need to introduce $N$ equally spaced nodes into our domain. For Problem P1 Weak, the domain is $x\\in[0,1]$ and therefore our nodes will be located at the points $X_j=(j-1)h$, where $h=1/(N-1)$. The linear finite element shape functions are then given by\n",
    "\n",
    "$$\\psi_j(x)=\\left\\{\\begin{array}{ll}\n",
    "0 & \\text{for}\\hspace{0.5cm}x<X_{j-1}\\\\\n",
    "\\frac{x-X_{j-1}}{X_j-X_{j-1}} & \\text{for}\\hspace{0.5cm}X_{j-1}<x<X_j\\\\\n",
    "\\frac{X_{j+1}-x}{X_{j+1}-X_j} & \\text{for}\\hspace{0.5cm}X_j<x<X_{j+1}\\\\\n",
    "0 & \\text{for}\\hspace{0.5cm}x>X_{j+1}.\n",
    "\\end{array}\\right.$$\n",
    "\n",
    "Let's plot a few of these in Python for $N=11$:"
   ]
  },
  {
   "cell_type": "code",
   "execution_count": 20,
   "metadata": {
    "collapsed": false
   },
   "outputs": [
    {
     "data": {
      "image/png": "[encoded data removed]",
      "text/plain": [
       "<matplotlib.figure.Figure at 0x886c7b8>"
      ]
     },
     "metadata": {},
     "output_type": "display_data"
    }
   ],
   "source": [
    "def LFESF(x,j,N): #define a function called LFESF (which stands for linear finite element shape function)\n",
    "    Xj=(j-1)/(N-1) #define X_j\n",
    "    Xjminus=(j-2)/(N-1) #define X_{j-1}\n",
    "    Xjplus=j/(N-1) #define X_{j+1}\n",
    "    if x<Xjminus:\n",
    "        output=0.0\n",
    "    else:\n",
    "        if x<Xj:\n",
    "            output=(x-Xjminus)/(Xj-Xjminus)\n",
    "        else:\n",
    "            if x<Xjplus:\n",
    "                output=(Xjplus-x)/(Xjplus-Xj)\n",
    "            else:\n",
    "                output=0.0\n",
    "    return output\n",
    "\n",
    "def LFESFVector(x,j,N): #a version of the above that accepts a vector as the input\n",
    "    output=np.zeros(len(x))\n",
    "    for xj in range(len(x)): \n",
    "        output[xj]=LFESF(x[xj],j,N)\n",
    "    return output\n",
    "\n",
    "plt.plot(x,LFESFVector(x,1,11),'-r', label=\"$\\psi_1(x)$\"); #plot psi_1(x)\n",
    "plt.plot(x,LFESFVector(x,3,11),'-g', label=\"$\\psi_3(x)$\") #plot psi_3(x)\n",
    "plt.plot(x,LFESFVector(x,6,11),'-b', label=\"$\\psi_6(x)$\") #plot psi_6(x)\n",
    "plt.plot(x,LFESFVector(x,11,11),'-k', label=\"$\\psi_{11}(x)$\") #plot psi_11(x)\n",
    "plt.xlabel('x') #label horizontal axis\n",
    "plt.legend(bbox_to_anchor=(1.05, 1), loc=2, borderaxespad=0.); #plot legend"
   ]
  },
  {
   "cell_type": "markdown",
   "metadata": {},
   "source": [
    "These shape functions have some very nice properties:\n",
    "\n",
    "1. It is very easy to construct a function $u_p(x)$ that satisfies the boundary conditions using these functions: $$u_p(x)=g_0\\psi_1(x)+g_1\\psi_N(x).$$\n",
    "2. They make it very easy to interpret the coefficients in series expansions. If we consider the expansion of a function $v(x)$ truncated after $N$ terms: $$v(x)=\\sum_{j=1}^\\infty V_j\\psi_j(x),$$ then now the $V_j$ have a very clear interpretation - they are the values of $v(x)$ at node $j$.\n",
    "3. The functions $\\psi_2(x)$, $\\psi_3(x)$, ... $\\psi_{N-1}(x)$ all vanish on the boundaries.\n",
    "4. The resulting Jacobian matrix is sparse - for Problem P1 Weak, it is tri-diagonal, i.e. of the form $$\\text{J}=\\left(\\begin{array}{ccccc}\n",
    "J_{11} & J_{12} & 0 & 0 & 0 \\\\\n",
    "J_{21} & J_{22} & J_{23} & 0 & 0 \\\\\n",
    "0 & J_{32} & J_{33} & J_{34} & 0 \\\\\n",
    "0 & 0 & J_{43} & J_{44} & J_{45} \\\\\n",
    "0 & 0 & 0 & J_{54} & J_{55}\n",
    "\\end{array}\\right).$$\n",
    "\n",
    "We are now ready to solve Problem P1 Weak using the finite element method. Here is an algorithm that does this:"
   ]
  },
  {
   "cell_type": "markdown",
   "metadata": {},
   "source": [
    "#### Algorithm 2: The finite element method\n",
    "\n",
    "1. Choose the number of nodal points $N$ and distribute them evenly through the domain so that $X_j=(j-1)/h$, where $h=1/(N-1)$.\n",
    "2. Set $$u_p(x)=g_0\\psi_1(x)+g_1\\psi_N(x)$$ and $$u_h(x)=\\sum_2^{N-1}U_j\\psi_j(x).$$\n",
    "3. Provide an initial guess for the unknowns $U_2$, $U_3$, ... $U_{N-1}$.\n",
    "4. Evaluate the residuals $r_k$ and calculate the Jacobian matrix.\n",
    "5. Solve the linear system $$\\sum_{j=2}^{N-1}J_{kj}\\delta U_j=-r_k$$ for the $\\delta U_j$.\n",
    "6. Correct the initial guess via $$U_j=U_j+\\delta U_j$$ and repeat until the resiuals are smaller than a specified tolerance.\n",
    "7. The finite element solution is $$u^\\text{(FE)}(x)=g_0\\psi_1(x)+g_1\\psi_N(x)+\\sum_2^{N-1}U_j\\psi_j(x).$$"
   ]
  },
  {
   "cell_type": "markdown",
   "metadata": {},
   "source": [
    "#### An Aside:\n",
    "\n",
    "We note that the residuals for Problem P1 Weak in the finite element formulation are given by\n",
    "\n",
    "$$r_k(U_1,U_2,...)=\\int_0^1\\left(\\frac{d^2u_p(x)}{dx^2}+\\sum_{j=2}^{N-1}U_j\\frac{d^2\\psi_j(x)}{dx^2}-f(x)\\right)\\psi_k(x)dx\\hspace{1cm}\\text{for}\\hspace{1cm}k=2,3,...,N-1$$\n",
    "\n",
    "and that therefore the Jacobian matrix is given by\n",
    "\n",
    "$$J_{kj}=\\frac{\\partial r_k}{\\partial U_j}=\\int_0^1\\frac{\\partial^2\\psi_j(x)}{\\partial x^2}\\psi_k(x)dx,\\hspace{1cm}\\text{for}\\hspace{1cm}j,k=2,3,...,N-1.$$\n",
    "\n",
    "The first derivatives of the linear finite element shape function are relatively easy to calculate:\n",
    "\n",
    "$$\\frac{\\partial\\psi_j(x)}{\\partial x}=\\left\\{\\begin{array}{ll}\n",
    "0 & \\text{for}\\hspace{0.5cm}x<X_{j-1}\\\\\n",
    "\\frac{1}{X_j-X_{j-1}} & \\text{for}\\hspace{0.5cm}X_{j-1}<x<X_j\\\\\n",
    "\\frac{-1}{X_{j+1}-X_j} & \\text{for}\\hspace{0.5cm}X_j<x<X_{j+1}\\\\\n",
    "0 & \\text{for}\\hspace{0.5cm}x>X_{j+1}\n",
    "\\end{array}\\right.$$\n",
    "\n",
    "and plot:"
   ]
  },
  {
   "cell_type": "code",
   "execution_count": 21,
   "metadata": {
    "collapsed": false
   },
   "outputs": [
    {
     "data": {
      "image/png": "[encoded data removed]",
      "text/plain": [
       "<matplotlib.figure.Figure at 0xa24c668>"
      ]
     },
     "metadata": {},
     "output_type": "display_data"
    }
   ],
   "source": [
    "def DLFESF(x,j,N): #define a function called LFESF (which stands for linear finite element shape function)\n",
    "    Xj=(j-1)/(N-1) #define X_j\n",
    "    Xjminus=(j-2)/(N-1) #define X_{j-1}\n",
    "    Xjplus=j/(N-1) #define X_{j+1}\n",
    "    if x<Xjminus:\n",
    "        output=0.0\n",
    "    else:\n",
    "        if x<Xj:\n",
    "            output=1/(Xj-Xjminus)\n",
    "        else:\n",
    "            if x<Xjplus:\n",
    "                output=-1/(Xjplus-Xj)\n",
    "            else:\n",
    "                output=0.0\n",
    "    return output\n",
    "\n",
    "def DLFESFVector(x,j,N): #a version of the above that accepts a vector as the input\n",
    "    output=np.zeros(len(x))\n",
    "    for xj in range(len(x)): \n",
    "        output[xj]=DLFESF(x[xj],j,N)\n",
    "    return output\n",
    "\n",
    "plt.plot(x,DLFESFVector(x,1,11),'-r', label=\"$\\psi_1^\\prime(x)$\"); #plot psi_1'(x)\n",
    "plt.plot(x,DLFESFVector(x,3,11),'-g', label=\"$\\psi_3^\\prime(x)$\") #plot psi_3'(x)\n",
    "plt.plot(x,DLFESFVector(x,6,11),'-b', label=\"$\\psi_6^\\prime(x)$\") #plot psi_6'(x)\n",
    "plt.plot(x,DLFESFVector(x,11,11),'-k', label=\"$\\psi_{11}^\\prime(x)$\") #plot psi_11'(x)\n",
    "plt.xlabel('x') #label horizontal axis\n",
    "plt.legend(bbox_to_anchor=(1.05, 1), loc=2, borderaxespad=0.); #plot legend"
   ]
  },
  {
   "cell_type": "markdown",
   "metadata": {},
   "source": [
    "However, the second derivatives of the linear finite element shape functions are harder to calculate due to the jumps in the first derivative. To get round this, we can use integration by parts to give:\n",
    "\n",
    "$$J_{kj}=\\left[\\frac{\\partial\\psi_j(x)}{\\partial x}\\psi_k(x)\\right]_0^1-\\int_0^1\\frac{\\partial\\psi_j(x)}{\\partial x}\\frac{\\partial\\psi_k(x)}{\\partial x}dx,\\hspace{1cm}\\text{for}\\hspace{1cm}j,k=2,3,...,N-1,$$\n",
    "\n",
    "and since $\\psi_j(0)=\\psi_j(1)=0$ for $j=2,3,...,N-1$, the first expression on the right side is zero, so that\n",
    "\n",
    "$$J_{kj}=-\\int_0^1\\frac{\\partial\\psi_j(x)}{\\partial x}\\frac{\\partial\\psi_k(x)}{\\partial x}dx,\\hspace{1cm}\\text{for}\\hspace{1cm}j=2,3,...,N-1.$$\n",
    "\n",
    "We can also use the same trick to write the residuals as\n",
    "\n",
    "$$r_k(U_1,U_2,...)=-\\int_0^1\\left(\\frac{du_p(x)}{dx}\\frac{\\partial\\psi_k(x)}{\\partial x}+\\sum_{j=2}^{N-1}U_j\\frac{\\partial\\psi_j(x)}{\\partial x}\\frac{\\partial\\psi_k(x)}{\\partial x}+f(x)\\psi_k(x)\\right)dx\\hspace{1cm}\\text{for}\\hspace{1cm}k=2,3,...,N-1.$$\n",
    "\n",
    "Now let's use this form to implement Algorithm 2 in Python to solve Problem P1 Weak over the range $x=0$ to $x=1$, with $f(x)=6x$, $u(0)=g_0=300$, $u(1)=g_1=299$ and $N=10$:"
   ]
  },
  {
   "cell_type": "code",
   "execution_count": 22,
   "metadata": {
    "collapsed": false
   },
   "outputs": [
    {
     "data": {
      "image/png": "[encoded data removed]",
      "text/plain": [
       "<matplotlib.figure.Figure at 0x8631dd8>"
      ]
     },
     "metadata": {},
     "output_type": "display_data"
    }
   ],
   "source": [
    "#Algorithm 2 Step 1:\n",
    "\n",
    "N=10 #the number of nodal points is 10\n",
    "\n",
    "#Algorithm 2 Step 2:\n",
    "U=np.ones(N-2) #set some initial guesses for the constants Uj - we only need U to have length N-2 since j ranges between 2 and N-1\n",
    "\n",
    "#Algorithm 2 Step 3:\n",
    "g0=300 #left boundary condtion\n",
    "g1=299 #right boundary condition\n",
    "\n",
    "def up(x): #define a function up that gives the particular solution that satisfies the boundary conditions\n",
    "    output=g0*LFESF(x,1,N)+g1*LFESF(x,N,N) #the function is given in terms of the linear finite element shape functions at either end of the domain\n",
    "    return output\n",
    "\n",
    "def Dup(x): #define a function up that gives the derivative of the particular solution\n",
    "    output=g0*DLFESF(x,1,N)+g1*DLFESF(x,N,N) #the function is given in terms of the derivatives of the linear finite element shape functions at either end of the domain\n",
    "    return output\n",
    "\n",
    "def uh(x,U):  #define a function uh that gives the solution that satisfies homogeneous boundary conditions\n",
    "    output=np.zeros(len(x)) #first we set the output up to have the right length\n",
    "    LFESFList=np.zeros(len(U)) #and we make sure the list of linear finite element shape functions has the right length\n",
    "    for xj in range(len(x)): #for each input x value...\n",
    "        for k in range(len(U)): #and each entry in the list of consants U...\n",
    "            LFESFList[k]=LFESF(x[xj],k+2,N) #we calculate the value of the associated linear finite element shape function\n",
    "        output[xj]=sum(U*LFESFList) #and output the constants times the shape functions\n",
    "    return output #and return the output\n",
    "\n",
    "#Set up while loop\n",
    "tol=0.0000001 #the tolerance is 0.0000001\n",
    "maxres=tol+1 \n",
    "while (maxres>tol):\n",
    "\n",
    "#Algorithm 2 Step 4:\n",
    "    r=np.zeros(N-2)\n",
    "    myint=np.zeros(N-2)\n",
    "    Nrange=range(N-2)\n",
    "    for k in Nrange: \n",
    "        for j in Nrange: \n",
    "            myint[j]=integrate.quad(lambda x: U[j]*DLFESF(x,j+2,N)*DLFESF(x,k+2,N),0,1,limit=100)[0]\n",
    "        r[k]=-(integrate.quad(lambda x: Dup(x)*DLFESF(x,k+2,N),0,1,limit=100)[0]+sum(myint)+integrate.quad(lambda x: 6*x*LFESF(x,k+2,N),0,1,limit=100)[0]) \n",
    "    maxres=max(abs(r))\n",
    "\n",
    "#Algorithm 2 Steps 5:    \n",
    "    J=np.zeros((N-2,N-2))\n",
    "    for j in range(N-2): \n",
    "        for k in range(N-2): \n",
    "            J[k,j]=-integrate.quad(lambda x: DLFESF(x,j+2,N)*DLFESF(x,k+2,N),0,1,limit=100)[0]\n",
    "    deltaU=np.linalg.solve(J,-r) #this step solves the matrix equation J.deltaU=-r for deltaU\n",
    "        \n",
    "#Algorithm 2 Step 6:        \n",
    "    U=U+deltaU\n",
    "    \n",
    "#Algorithm 2 Step 7:  \n",
    "def FinalU(x,U):\n",
    "    output=np.zeros(len(x))\n",
    "    LFESFList=np.zeros(len(U)) #and we make sure the list of linear finite element shape functions has the right length\n",
    "    for xj in range(len(x)): \n",
    "        for k in range(len(U)): \n",
    "             LFESFList[k]=LFESF(x[xj],k+2,N) #we calculate the value of the associated linear finite element shape function\n",
    "        output[xj]=up(x[xj])+sum(U*LFESFList) #we have changed our particular solution to Up(x)=1+x\n",
    "    return output\n",
    "\n",
    "x=np.linspace(0,1,301)\n",
    "\n",
    "plt.plot(x,x**3-2*x+300,'-b', label=\"$x^3-2x+300$\") #plot f(x)=x^3-2x+300\n",
    "plt.plot(x,FinalU(x,U),'--r', label=\"Numerical solution\") #plot numerical solution\n",
    "plt.xlabel('x') #label horizontal axis\n",
    "plt.legend(bbox_to_anchor=(1.05, 1), loc=2, borderaxespad=0.); #plot legend"
   ]
  },
  {
   "cell_type": "markdown",
   "metadata": {},
   "source": [
    "Note, if you make $N$ too large in the code above (i.e. $N\\ge15$) you will start getting some numerical errors and your finite element solution will be wrong. This is likely due to numerical inaccuracies in solving the matrix equation to determine the $\\delta U_j$. There are ways round this (and commercial finite element software should hopefully not have problems like this!) but they are beyond the scope of this course. This does illustrate, however, that you should not always blindly trust the output of an algorithm - it is important to know how they work and what could be going wrong before you decide that the solution is acceptable."
   ]
  },
  {
   "cell_type": "markdown",
   "metadata": {},
   "source": [
    "#### <span style=\"color: red\"> Task 10:</span> Solve Poisson's equation with $f(x)=20\\sin(2x)$, $u(0)=g_0=300$, $u(1)=g_1=299$ and $N=10$ using the finite element method\n",
    "\n",
    "Compare your numerical solution to the exact solution:\n",
    "\n",
    "$$u(x)=300-x+5x\\sin(2)-5\\sin(2x).$$\n",
    "\n",
    "Hint: All you need to do is edit the code above to change $f(x)$ from $6x$ to $20\\sin(2x)$.\n",
    "\n",
    "The figure you obtain should look like this:\n",
    "<figure>\n",
    "<img src=\"Figures/05_T10.jpg\" width='400'>\n",
    "</figure>"
   ]
  },
  {
   "cell_type": "markdown",
   "metadata": {},
   "source": [
    "#### <span style=\"color: blue\"> Solution"
   ]
  },
  {
   "cell_type": "code",
   "execution_count": 23,
   "metadata": {
    "collapsed": false
   },
   "outputs": [
    {
     "data": {
      "image/png": "[encoded data removed]",
      "text/plain": [
       "<matplotlib.figure.Figure at 0x890b048>"
      ]
     },
     "metadata": {},
     "output_type": "display_data"
    }
   ],
   "source": [
    "#Algorithm 2 Step 1:\n",
    "\n",
    "N=10 #the number of nodal points is 10\n",
    "\n",
    "#Algorithm 2 Step 2:\n",
    "U=np.ones(N-2) #set some initial guesses for the constants Uj - we only need U to have length N-2 since j ranges between 2 and N-1\n",
    "\n",
    "#Algorithm 2 Step 3:\n",
    "g0=300 #left boundary condtion\n",
    "g1=299 #right boundary condition\n",
    "\n",
    "def up(x): #define a function up that gives the particular solution that satisfies the boundary conditions\n",
    "    output=g0*LFESF(x,1,N)+g1*LFESF(x,N,N) #the function is given in terms of the linear finite element shape functions at either end of the domain\n",
    "    return output\n",
    "\n",
    "def Dup(x): #define a function up that gives the derivative of the particular solution\n",
    "    output=g0*DLFESF(x,1,N)+g1*DLFESF(x,N,N) #the function is given in terms of the derivatives of the linear finite element shape functions at either end of the domain\n",
    "    return output\n",
    "\n",
    "def uh(x,U):  #define a function uh that gives the solution that satisfies homogeneous boundary conditions\n",
    "    output=np.zeros(len(x)) #first we set the output up to have the right length\n",
    "    LFESFList=np.zeros(len(U)) #and we make sure the list of linear finite element shape functions has the right length\n",
    "    for xj in range(len(x)): #for each input x value...\n",
    "        for k in range(len(U)): #and each entry in the list of consants U...\n",
    "            LFESFList[k]=LFESF(x[xj],k+2,N) #we calculate the value of the associated linear finite element shape function\n",
    "        output[xj]=sum(U*LFESFList) #and output the constants times the shape functions\n",
    "    return output #and return the output\n",
    "\n",
    "#Set up while loop\n",
    "tol=0.0000001 #the tolerance is 0.0000001\n",
    "maxres=tol+1 \n",
    "while (maxres>tol):\n",
    "\n",
    "#Algorithm 2 Step 4:\n",
    "    r=np.zeros(N-2)\n",
    "    myint=np.zeros(N-2)\n",
    "    Nrange=range(N-2)\n",
    "    for k in Nrange: \n",
    "        for j in Nrange: \n",
    "            myint[j]=integrate.quad(lambda x: U[j]*DLFESF(x,j+2,N)*DLFESF(x,k+2,N),0,1,limit=100)[0]\n",
    "        r[k]=-(integrate.quad(lambda x: Dup(x)*DLFESF(x,k+2,N),0,1,limit=100)[0]+sum(myint)+integrate.quad(lambda x: 20*np.sin(2*x)*LFESF(x,k+2,N),0,1,limit=100)[0]) \n",
    "    maxres=max(abs(r))\n",
    "\n",
    "#Algorithm 2 Steps 5:    \n",
    "    J=np.zeros((N-2,N-2))\n",
    "    for j in range(N-2): \n",
    "        for k in range(N-2): \n",
    "            J[k,j]=-integrate.quad(lambda x: DLFESF(x,j+2,N)*DLFESF(x,k+2,N),0,1,limit=100)[0]\n",
    "    deltaU=np.linalg.solve(J,-r) #this step solves the matrix equation J.deltaU=-r for deltaU\n",
    "        \n",
    "#Algorithm 2 Step 6:        \n",
    "    U=U+deltaU\n",
    "    \n",
    "#Algorithm 2 Step 7:  \n",
    "def FinalU(x,U):\n",
    "    output=np.zeros(len(x))\n",
    "    LFESFList=np.zeros(len(U)) #and we make sure the list of linear finite element shape functions has the right length\n",
    "    for xj in range(len(x)): \n",
    "        for k in range(len(U)): \n",
    "             LFESFList[k]=LFESF(x[xj],k+2,N) #we calculate the value of the associated linear finite element shape function\n",
    "        output[xj]=up(x[xj])+sum(U*LFESFList) #we have changed our particular solution to Up(x)=1+x\n",
    "    return output\n",
    "\n",
    "x=np.linspace(0,1,301)\n",
    "\n",
    "plt.plot(x,300-x+5*x*np.sin(2)-5*np.sin(2*x),'-b', label=\"$300-x+5x\\sin(2)-5\\sin(2x)$\") #plot f(x)=x^3-2x+300\n",
    "plt.plot(x,FinalU(x,U),'--r', label=\"Numerical solution\") #plot numerical solution\n",
    "plt.xlabel('x') #label horizontal axis\n",
    "plt.legend(bbox_to_anchor=(1.05, 1), loc=2, borderaxespad=0.); #plot legend"
   ]
  }
 ],
 "metadata": {
  "anaconda-cloud": {},
  "kernelspec": {
   "display_name": "Python [default]",
   "language": "python",
   "name": "python3"
  },
  "language_info": {
   "codemirror_mode": {
    "name": "ipython",
    "version": 3
   },
   "file_extension": ".py",
   "mimetype": "text/x-python",
   "name": "python",
   "nbconvert_exporter": "python",
   "pygments_lexer": "ipython3",
   "version": "3.5.2"
  }
 },
 "nbformat": 4,
 "nbformat_minor": 1
}
