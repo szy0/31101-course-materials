{
 "cells": [
  {
   "cell_type": "markdown",
   "metadata": {},
   "source": [
    "# Formative Coursework"
   ]
  },
  {
   "cell_type": "markdown",
   "metadata": {},
   "source": [
    "Please enter your name and student number into the Markdown cell below."
   ]
  },
  {
   "cell_type": "markdown",
   "metadata": {},
   "source": [
    "#### Name:\n",
    "#### Student Number:"
   ]
  },
  {
   "cell_type": "markdown",
   "metadata": {},
   "source": [
    "In each of the assessed courseworks, you will be asked to answer a series of questions based on what you have learnt in class. The number of marks available for each question will be clearly displayed along with a short rubric outlining what you need to do to get the marks. The purpose of this formative coursework is to give you the opportunity to practise some example coursework questions and to see what you need to do to reach each grade boundary. Feedback on all submitted coursework will be provided within 15 working days (i.e. not counting weekends or bank holidays), so you should see your formative feedback before you have to submit your first assessed coursework.\n",
    "\n",
    "For each question, you should input your answers into the code and/or markdown (text) cells provided. In general, you should provide as much explanatory information as you can in the markdown cells (if appropriate) and make sure you include comments in your code in order to give yourself the best chance of maximising your marks. You are free to discuss the coursework tasks with other students, but the work you submit must be your own. Make sure you are familiar with the University of Manchester's [documentation on plagiarism](http://www.regulations.manchester.ac.uk/guidance-to-students-on-plagiarism-and-other-forms-of-academic-malpractice/) to ensure you don't break any rules.\n",
    "\n",
    "Your coursework will be marked using the same version of Python as is available in the Simon building computer cluster. It is your responsibility to ensure that your code works in this version of Python. If your code does not run correctly due to incompactibility issues between the version of Python you used and the version that is used to mark your coursework, you will not get the marks! Therefore, it is recommended that you test your code in the Simon building cluster before you submit.\n",
    "\n",
    "In this coursework, you will be asked to analyse some data. The code below uniquely generates your own set of data based on your student ID number (this is one of the techniques we will be using to ensure that you have not copied someone else's work). Please enter your student number after the = sign on the first line below and run this code without altering anything below the first line before beginning the rest of the coursework. It is essential that you double check that you have entered the right student number, otherwise you may be accused of plagiarism."
   ]
  },
  {
   "cell_type": "code",
   "execution_count": 1,
   "metadata": {
    "collapsed": false
   },
   "outputs": [],
   "source": [
    "ID=\n",
    "import numpy as np\n",
    "np.random.seed(ID)\n",
    "n=100\n",
    "x=np.linspace(0,100,n)\n",
    "y=(ID % 3+1)*x**(ID % 4)+(ID % 2+1)*x+(ID % 100)\n",
    "y=y+np.random.normal(0,(y[-1]-y[1])/20,n)\n",
    "data=np.transpose(np.array([x,y]))\n",
    "del n\n",
    "del x\n",
    "del y"
   ]
  },
  {
   "cell_type": "markdown",
   "metadata": {},
   "source": [
    "The command above has created some sample data as an array of coupled $x$ and $y$ values called <code>data</code>. We shall use this data throughout the rest of the coursework."
   ]
  },
  {
   "cell_type": "markdown",
   "metadata": {},
   "source": [
    "#### <span style=\"color: red\"> Task 1:</span> Plot the data contained in the array called <code>data</code> <span style=\"color: red\"> (3 marks)</span>\n",
    "\n",
    "Label the horizontal axis as _x-axis_ and the vertical axis as _y-axis_."
   ]
  },
  {
   "cell_type": "code",
   "execution_count": null,
   "metadata": {
    "collapsed": true
   },
   "outputs": [],
   "source": []
  },
  {
   "cell_type": "markdown",
   "metadata": {},
   "source": [
    "#### Marking rubric:\n",
    "\n",
    "- Appropriate package(s) imported - 1 mark\n",
    "- Code included to ensure figures appear in notebook - 1 mark\n",
    "- x and y data selected and plotted correctly and axes correctly labelled - 1 mark"
   ]
  },
  {
   "cell_type": "markdown",
   "metadata": {
    "collapsed": true
   },
   "source": [
    "#### <span style=\"color: red\"> Task 2:</span> Carry out regressions on the data and report the fitted functions, giving the values of the fitted parameters to 3 significant figures <span style=\"color: red\"> (10 marks)</span>\n",
    "\n",
    "Fit the following three functions to the data:\n",
    "\n",
    "$$y=a_1x+b_1,$$\n",
    "$$y=a_2x^2+b_2x+c_2,$$\n",
    "$$y=a_3x^3+b_3x^2+c_3x+d_3.$$\n",
    "\n",
    "Print out the fitted functions, including the coefficients, in an easy to read way and provide a single plot that shows the three fitted functions as well as the original data."
   ]
  },
  {
   "cell_type": "code",
   "execution_count": null,
   "metadata": {
    "collapsed": true
   },
   "outputs": [],
   "source": []
  },
  {
   "cell_type": "markdown",
   "metadata": {},
   "source": [
    "#### Marking rubric:\n",
    "\n",
    "- Appropriate package(s) imported - 1 mark\n",
    "- Linear, quadratic and cubic functions correctly defined - 3 marks (1 per function)\n",
    "- All three functions correctly fitted to the data and parameters correctly identified (each parameter should have a unique name) - 3 marks (1 per function)\n",
    "- All three functions printed correctly - 1 mark\n",
    "- All parameters expressed to 3 significant figures (numbers of the form e.g. 2.72e+04 are okay) - 1 mark\n",
    "- Three fitted functions plotted over data correctly (it should be possible to identify which function is which either from some accompanying text or via a legend) - 1 mark"
   ]
  },
  {
   "cell_type": "markdown",
   "metadata": {},
   "source": [
    "#### <span style=\"color: red\"> Task 3:</span> Plot the residuals and calculate the mean squared error associated with each fit <span style=\"color: red\"> (8 marks)</span> \n",
    "\n",
    "Use a separate cell and plot for each function."
   ]
  },
  {
   "cell_type": "markdown",
   "metadata": {},
   "source": [
    "#### Linear fit:"
   ]
  },
  {
   "cell_type": "code",
   "execution_count": null,
   "metadata": {
    "collapsed": true
   },
   "outputs": [],
   "source": []
  },
  {
   "cell_type": "markdown",
   "metadata": {},
   "source": [
    "#### Quadratic fit:"
   ]
  },
  {
   "cell_type": "code",
   "execution_count": null,
   "metadata": {
    "collapsed": true
   },
   "outputs": [],
   "source": []
  },
  {
   "cell_type": "markdown",
   "metadata": {},
   "source": [
    "#### Cubic fit:"
   ]
  },
  {
   "cell_type": "code",
   "execution_count": null,
   "metadata": {
    "collapsed": true
   },
   "outputs": [],
   "source": []
  },
  {
   "cell_type": "markdown",
   "metadata": {},
   "source": [
    "#### Marking rubric:\n",
    "\n",
    "- Residuals correctly calculated - 3 marks (1 per fit)\n",
    "- Mean squared errors correctly calculated - 3 marks (1 per fit)\n",
    "- All statements about mean squared errors appear correctly - 1 mark\n",
    "- All residual plots appear correctly - 1 mark"
   ]
  },
  {
   "cell_type": "markdown",
   "metadata": {},
   "source": [
    "#### <span style=\"color: red\"> Task 4:</span> State which function you think is most appropriate for fitting the data and explain why <span style=\"color: red\"> (4 marks)</span>"
   ]
  },
  {
   "cell_type": "markdown",
   "metadata": {},
   "source": []
  },
  {
   "cell_type": "markdown",
   "metadata": {},
   "source": [
    "#### Marking rubric:\n",
    "\n",
    "- Appropriate function(s) chosen - 1 mark\n",
    "- Clear justification given for this choice taking into account all of the information that was made available in Task 3 - 3 marks"
   ]
  },
  {
   "cell_type": "markdown",
   "metadata": {},
   "source": [
    "### For use by markers only:\n",
    "\n",
    "#### Total mark: $\\hspace{1cm}$/25\n",
    "\n",
    "#### As a percentage:"
   ]
  }
 ],
 "metadata": {
  "anaconda-cloud": {},
  "kernelspec": {
   "display_name": "Python [default]",
   "language": "python",
   "name": "python3"
  },
  "language_info": {
   "codemirror_mode": {
    "name": "ipython",
    "version": 3
   },
   "file_extension": ".py",
   "mimetype": "text/x-python",
   "name": "python",
   "nbconvert_exporter": "python",
   "pygments_lexer": "ipython3",
   "version": "3.5.2"
  }
 },
 "nbformat": 4,
 "nbformat_minor": 2
}
