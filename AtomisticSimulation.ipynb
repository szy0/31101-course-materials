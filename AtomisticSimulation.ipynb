{
 "cells": [
  {
   "cell_type": "markdown",
   "metadata": {},
   "source": [
    "# Atomistic simulation of materials"
   ]
  },
  {
   "cell_type": "code",
   "execution_count": null,
   "metadata": {
    "collapsed": true
   },
   "outputs": [],
   "source": [
    "import numpy as np \n",
    "import matplotlib.pyplot as plt\n",
    "from mpl_toolkits.mplot3d import Axes3D\n",
    "#%matplotlib notebook\n",
    "%matplotlib inline"
   ]
  },
  {
   "cell_type": "markdown",
   "metadata": {},
   "source": [
    "## Introduction\n",
    "In the lecture we introduced some of the key concepts of atomistic simulation. We will go back over the key ideas in this notebook, but this time we will explore the ideas directly using Python. By the time we reach the end of this notebook we will have programmed a simple molecular dynamics model and used it to simulate some aspects of irradiation damage.\n",
    "\n",
    "An atomistic simulation consists, in the simplest sense, of a box of particles, a rule for how those particles interact with one another and a set of rules for how the state of the system evolves with time. We will now consider each of these aspects in turn."
   ]
  },
  {
   "cell_type": "markdown",
   "metadata": {},
   "source": [
    "## A simulation of irradiation damage in RPV steel\n",
    "### A collision cascade\n",
    "Before we do anything, we need to decide what it is we want to simulate. As an example, let us consider irradiation damage to a block of pressure vessel steel, exposed to energetic neutrons in a light water nuclear fission reactor. Neutrons are released from the fissile uranium dioxide fuel in the core of the reactor and pass into the crystal lattice of the pressure vessel steel. Many of these neutrons will pass straight through the wall of the pressure vessel without doing any damage, but some will collide with the nuclei of the atoms that make up the pressure vessel. These collisions will transfer large amounts of kinetic energy to these atoms, setting them in motion at high speed. The disturbed atoms will go on to collide with other atoms, these will collide with yet more atoms, and so on. This creates a huge local disturbance (in a region a few hundred nanometers across) in the crystal lattice in a phenomenon known as a *collision cascade*. After only a few nanoseconds this disturbance will be over and, remarkably, most of the damage will have healed and perfect crystal will have been restored. However, a few atoms will not have returned to their perfect lattice sites and so we will have a few point defects left behind. These will be *vacancy* defects (in which a lattice site contains no atom) and *interstitial* defects (in which an atom sits somewhere other than a lattice site). These point defects will move around over time, perhaps forming clusters. Such clusters then act as obstructions to the motion of dislocations, causing the reactor pressure vessel to become brittle. \n",
    "\n",
    "### The role of simulation\n",
    "For this reason, it is important to understand the details of the damage process that we have just described. Few experimental techniques have the time and spatial resolution that would be required to directly observe irradiation damage and so *simulations* are particularly important for studying such processes.\n",
    "\n",
    "### Approximating the phenomenon\n",
    "Unfortunately, a real collision cascade is far too complicated to simulate directly and so we must make approximations in our simulation. Thinking about this more positively we could also say that, in simulating a collision cascade, we can take advantage of the control that we have to simplify the situation. This can make it easier to understand what is going on and to tease out the most important aspects of the real problem.\n",
    "\n",
    "In this case, we will make the following approximations, in order to make the simulations tractable:\n",
    "\n",
    "1) We do not directly simulate the incoming neutron. Instead we will start our simulation at the point when an atom of the pressure vessel has been set in motion. This atom is known as a primary knock-on atom (pka). Since it is rare for an incoming neutron to initiate a cascade, we would otherwise need to simulate a large amount of material and many neutrons in order to obtain information about a single cascade. In addition to this, if we wanted to directly simulate the process of a collision between a neutron and an atom of the pressure vessel then we would need our simulation to capture the physics of nucleon-nucleon interactions. This is far from trivial.\n",
    "\n",
    "2) We ignore microstructure. Instead we will simulate a small block of perfect single crystal. This allows us to simulate for longer times, but the increased simplicity also allows us to extract details of the damage process that might be obscured by e.g. grain boundaries or dislocations. On the downside, such features often play an important role in determining the level of damage, by acting as defect sinks, for example. We will also avoid the complication of dealing with surfaces of the crystal by employing what are called *periodic boundary conditions*, but we will return to this point shortly.\n",
    "\n",
    "3) We ignore the complexity of steel composition. Instead, our block of material will consist of pure iron in the body-centered cubic (bcc) phase. Real steels, of course, contain many other elements, but we might hope that the dominant effect on damage will be determined by the arrangement of the iron atoms in the steel.\n",
    "\n",
    "So our simulation will be as follows: we will set up a small block of pure, defect-free, bcc Fe crystal and set in motion one of the Fe atoms to represent the pka.\n",
    "\n"
   ]
  },
  {
   "cell_type": "markdown",
   "metadata": {},
   "source": [
    "## A box of particles: setting up the simulation supercell\n",
    "### The box\n",
    "First let's set up a box to hold our simulation. This box is known as the simulation *supercell*. In this case, we will make the box just the right size to hold the block of crystal that we want to simulate. We will store the size of our simulation cell in an array:"
   ]
  },
  {
   "cell_type": "code",
   "execution_count": null,
   "metadata": {
    "collapsed": true
   },
   "outputs": [],
   "source": [
    "L = 4 # Length of cube sides in unit cells\n",
    "boxsize = np.array([L,L,L]) # Define a cubic box in multiples of the unit cell size in each direction"
   ]
  },
  {
   "cell_type": "markdown",
   "metadata": {},
   "source": [
    "Since we are simulating bcc iron we also need to specify the lattice parameter, the lattice vectors along the edges of the unit cell and the motif for bcc:"
   ]
  },
  {
   "cell_type": "code",
   "execution_count": null,
   "metadata": {
    "collapsed": true
   },
   "outputs": [],
   "source": [
    "alatt = 2.86 # Lattice parameter\n",
    "cell = np.array([\n",
    "        [alatt,0,0],\n",
    "        [0,alatt,0],\n",
    "        [0,0,alatt]\n",
    "    ]) # Specify vectors in rows of an array\n",
    "motif = np.array([\n",
    "        [0.0,0.0,0.0],\n",
    "        [0.5,0.5,0.5] # Postions of atoms in motif in multiples of lattice vectors\n",
    "    ])\n",
    "nmotif = len(motif) # Number of atoms in motif"
   ]
  },
  {
   "cell_type": "code",
   "execution_count": null,
   "metadata": {
    "collapsed": true
   },
   "outputs": [],
   "source": []
  },
  {
   "cell_type": "markdown",
   "metadata": {},
   "source": [
    "### Filling the box with particles\n",
    "How will we represent our particles in the computer? This amounts to asking what properties of the particles we need to record in order to define the state of the system. In an irradiation damage simulation, the particles will represent atoms, which we treat as point-particles. The state of a set of point particles is completely specified as long as we know the position and the momentum (or, equivalently, the velocity and mass) of every particle.\n",
    "\n",
    "We will set up our simulation so that all the atoms are intially at their perfect lattice points and have zero velocity. Let's do that now. To make our code reusable, we will write a function whice returns an array of atom positions of the specified size.  This function loops over all the unit cells in our supercell and for each unit cell loops over all the atoms in the motif, adding atoms to a list in the appropriate position in space:"
   ]
  },
  {
   "cell_type": "code",
   "execution_count": null,
   "metadata": {
    "collapsed": true
   },
   "outputs": [],
   "source": [
    "def createcrystal(cell,motif,nmotif,boxsize):\n",
    "    rlist = []\n",
    "    for i in range(boxsize[0]): # iterate over unit cells in x-direction\n",
    "        for j in range(boxsize[1]): # iterate over unit cells in y-direction\n",
    "            for k in range(boxsize[2]): # iterate over unit cells in z-direction\n",
    "                for l in range(nmotif): # iterate over atoms in motif\n",
    "                    # work out atom coordinates\n",
    "                    thisr = i*cell[0,:] + j*cell[1,:] + k*cell[2,:] + motif[l,:]\n",
    "                    # Add coordinates to list\n",
    "                    rlist.append([thisr[0],thisr[1],thisr[2]])\n",
    "    r = np.array(rlist) # Create an array from contents of list\n",
    "    return r"
   ]
  },
  {
   "cell_type": "markdown",
   "metadata": {},
   "source": [
    "In the above code we have first added the atom coordinates to an ever-growing list, before creating an array from the list. Because we can work out the number of atoms in advance in a case like ours, we could have created the array at the beginning and then added positions directly to the array. However, the approach here is more flexible, because sometimes it is not obvious how many atoms will fit in the simulation cell and so we wouldn't know what size of array to create.\n",
    "\n",
    "We can now use this function to create an array of the coordinates of our particles:"
   ]
  },
  {
   "cell_type": "code",
   "execution_count": null,
   "metadata": {
    "collapsed": true
   },
   "outputs": [],
   "source": [
    "r = createcrystal(cell,motif,nmotif,boxsize)"
   ]
  },
  {
   "cell_type": "markdown",
   "metadata": {},
   "source": [
    "### Visualising the atomic configuration\n",
    "When performing simulations it is very common to get results which look plausible at first sight, but which are actually complete nonsense. To guard against this, it is good practice to make every single check of the data that you can reasonably manage. This includes checking both the input and the output of the simulation. One thing we should always check is that we have generated the initial atom positions in the configuration that we expected. To do this, we could write a function to produce a 3d plot that visualises the coordinates. Have a look at the code below and see if you can understand at least some of what it is doing:"
   ]
  },
  {
   "cell_type": "code",
   "execution_count": null,
   "metadata": {
    "collapsed": true
   },
   "outputs": [],
   "source": [
    "def plotcell(r, cell, boxsize):\n",
    "    fig = plt.figure(figsize=(15, 6))\n",
    "    ax = fig.add_subplot(1,4,1, projection='3d')\n",
    "    ax.scatter(r[:,0], r[:,1], r[:,2])\n",
    "    ax.set_aspect('equal')\n",
    "    ax.set_xlabel('x')\n",
    "    ax.set_ylabel('y')\n",
    "    ax.set_zlabel('z')\n",
    "    labels = ['x','y','z']\n",
    "    maxdim = 0.0\n",
    "    for s in range(3):\n",
    "        if cell[s,s]*boxsize[s] > maxdim:\n",
    "            maxdim = cell[s,s]*boxsize[s]        \n",
    "    for s in range(3):\n",
    "        cellbox = np.array([\n",
    "            [0.0,0.0],\n",
    "            [0.0,cell[(s+1)%3,(s+1)%3]*boxsize[(s+1)%3]],\n",
    "            [cell[s,s]*boxsize[s],cell[(s+1)%3,(s+1)%3]*boxsize[(s+1)%3]],\n",
    "            [cell[s,s]*boxsize[s],0.0],\n",
    "            [0.0,0.0]\n",
    "        ])\n",
    "        ax = fig.add_subplot(1,4,2+s, aspect='equal')\n",
    "        ax.plot(r[:,s], r[:,(s+1)%3],'bo')\n",
    "        ax.plot(cellbox[:,0],cellbox[:,1], 'k-')\n",
    "        ax.set_xlim(-0.1*maxdim,1.1*maxdim)\n",
    "        ax.set_ylim(-0.1*maxdim,1.1*maxdim)\n",
    "        ax.set_xlabel(labels[s])\n",
    "        ax.set_ylabel(labels[(s+1)%3])\n"
   ]
  },
  {
   "cell_type": "markdown",
   "metadata": {},
   "source": [
    "It is now very easy to take a look at our simulation cell."
   ]
  },
  {
   "cell_type": "code",
   "execution_count": null,
   "metadata": {},
   "outputs": [],
   "source": [
    "plotcell(r, cell, boxsize)"
   ]
  },
  {
   "cell_type": "markdown",
   "metadata": {},
   "source": [
    "#### <span style=\"color: red\"> Task 1:</span> Hunt the bug\n",
    "Does the above visualisation look right? Can you see where we went wrong in the function definition for `createcrystal()`? Spend a few minutes trying to see if you can spot the bug. Don't worry if you can't see it as the mistake is quite subtle and I will explain where it is below. The important thing to realise is that this sort of problem can occur a lot when doing simulation work. If you don't check for problems, you often don't find them, but it does mean that your results will be meaningless!"
   ]
  },
  {
   "cell_type": "markdown",
   "metadata": {},
   "source": [
    "### Correcting the `createcrystal()` function\n",
    "The problem with our function is the line:\n",
    "\n",
    "`thisr = i*cell[0,:] + j*cell[1,:] + k*cell[2,:] + motif[l,:]`\n",
    "\n",
    "We have defined the motif in units of the unit cell vectors, not in units of length, and so we need to multiply the motif coordinates by the cell vectors as below:\n",
    "\n",
    "`thisr = (i+motif[l,0])*cell[0,:] + (j+motif[l,1])*cell[1,:] + (k+motif[l,2])*cell[2,:]`\n",
    "\n",
    "Execute the cell below to correctly define the `createcrystal()` function."
   ]
  },
  {
   "cell_type": "code",
   "execution_count": null,
   "metadata": {
    "collapsed": true
   },
   "outputs": [],
   "source": [
    "def createcrystal(cell,motif,nmotif,boxsize):\n",
    "    rlist = []\n",
    "    for i in range(boxsize[0]): # iterate over unit cells in x-direction\n",
    "        for j in range(boxsize[1]): # iterate over unit cells in y-direction\n",
    "            for k in range(boxsize[2]): # iterate over unit cells in z-direction\n",
    "                for l in range(nmotif): # iterate over atoms in motif\n",
    "                    # work out atom coordinates\n",
    "                    thisr = (i+motif[l,0])*cell[0,:] + (j+motif[l,1])*cell[1,:] + (k+motif[l,2])*cell[2,:]\n",
    "                    # Add coordinates to list\n",
    "                    rlist.append([thisr[0],thisr[1],thisr[2]])\n",
    "    r = np.array(rlist) # Create an array from contents of list\n",
    "    return r"
   ]
  },
  {
   "cell_type": "markdown",
   "metadata": {},
   "source": [
    "#### <span style=\"color: red\"> Task 2:</span> Create a new simulation cell and visualise it\n",
    "Use the corrected `createcrystal()` function to create a new simulation cell and use the `plotcell()` function to check that it now looks okay."
   ]
  },
  {
   "cell_type": "markdown",
   "metadata": {},
   "source": [
    "### The other properties of the particles\n",
    "In a classical system of particles, the state of the system is fully specified if you know the position and momentum of every particle. So far we have an array of positions, but we should now specify the velocities of the particles too. We will begin by setting these all to zero by creating an array of the correct size filled with zeros. We will also create a similar array to contain the acceleration of each particle. This is not necessary to define the state of the system, but will be needed when we come to consider the evolution of the atom positions."
   ]
  },
  {
   "cell_type": "code",
   "execution_count": null,
   "metadata": {
    "collapsed": true
   },
   "outputs": [],
   "source": [
    "natoms = len(r) # Get total number of atoms\n",
    "v = np.zeros((natoms,3)) # Create an array of velocities (all zero)\n",
    "a = np.zeros((natoms,3)) # Create an array of accelerations (all zero)"
   ]
  },
  {
   "cell_type": "markdown",
   "metadata": {},
   "source": [
    "Finally, to complete our definition we need to know the particle masses. In our system these are all the same, so we can simply create an array of the correct size filled with the appropriate value:"
   ]
  },
  {
   "cell_type": "code",
   "execution_count": null,
   "metadata": {
    "collapsed": true
   },
   "outputs": [],
   "source": [
    "mass = 55.8\n",
    "m = np.full(natoms,mass)"
   ]
  },
  {
   "cell_type": "markdown",
   "metadata": {},
   "source": [
    "## Specifying the interaction between particles"
   ]
  },
  {
   "cell_type": "markdown",
   "metadata": {},
   "source": [
    "We've put our iron atoms in a box, but at this stage all that defines them as being iron, rather than some other material, is that they are in a body-centered cubic arrangement with a lattice parameter equal to that of iron and have the correct mass. But if we are to run a dynamical simulation then we need the atoms to respond to *forces* acting between atoms. In the real world these forces would be determined by the electrons in the material responding to electrostatic forces under the laws of quantum mechanics. But our simulation is going to use only classical physics and so we need a *model* for these interatomic forces. Such model forces are known as *interatomic potentials* or *empirical potentials*. They come in many different flavours, suitable for different kinds of task, but in our case we will use one of the simplest types, known as a *pair potential*.\n",
    "\n",
    "### The pair potential\n",
    "A pair potential works as follows. We assume that we can write the potential energy $U$ of a collection of atoms as a sum over contributions from each individual atom. If we write the contribution from the $i$th atom as $u_i$ then this is expressed mathematically as\n",
    "\n",
    "$$\n",
    "U=\\sum_i u_i.\n",
    "$$\n",
    "\n",
    "We further assume that the contribution from the $i$th atom can be broken down into contributions due to the interaction of atom i with its neighbouring atoms $j$, so that\n",
    "\n",
    "$$\n",
    "u_i = \\sum_j \\frac{1}{2}V_{ij},\n",
    "$$\n",
    "\n",
    "where $V_{ij}$ is the potential energy due to the pair of atoms $i$ and $j$. The factor of one-half is there becasue only half of this energy should be attributed to atom $i$, with the other half belonging to atom $j$.\n",
    "\n",
    "We now assume that the potential energy due to a pair of atoms depends only on the distance between them. We write this\n",
    "\n",
    "$$\n",
    "V_{ij} = V(R_{ij})\n",
    "$$\n",
    "\n",
    "where $R_{ij}=|\\boldsymbol{r}_j-\\boldsymbol{r}_i|$ is the separation of the pair of atoms and $V(R)$ is some function.\n",
    "\n",
    "### The Lennard-Jones potential\n",
    "A given pair potential is simply a particular form for the function $V(R)$. The Lennard-Jones potential, which we will use for our simulations, is defined as\n",
    "\n",
    "$$\n",
    "V(R) = \\epsilon \\left[\\left(\\frac{r_0}{R}\\right)^{12}-2\\left(\\frac{r_0}{R}\\right)^{6} \\right].\n",
    "$$\n",
    "\n",
    "This potential contains two adjustable parameters: $\\epsilon$, which sets an energy scale and determines the strength of the forces, and $r_0$, which sets a length scale and determines the separation at which the force between an isolated pair of atoms goes to zero. Since we are working within a notebook, it is easy to plot out this function to examine its form."
   ]
  },
  {
   "cell_type": "code",
   "execution_count": null,
   "metadata": {},
   "outputs": [],
   "source": [
    "def lj0(R,eps,r0):\n",
    "    return eps*((r0/R)**12-2.0*(r0/R)**6)\n",
    "\n",
    "R = np.linspace(0.5,3.0,500)\n",
    "eps = 1.0\n",
    "r0 = 1.0\n",
    "plt.plot(R,lj0(R,eps,r0))\n",
    "plt.xlabel('R')\n",
    "plt.ylabel('V(R)')\n",
    "plt.xlim((0.85,1.5))\n",
    "plt.ylim((-1.1,1.0))\n",
    "print(lj0(1.15,eps,r0))"
   ]
  },
  {
   "cell_type": "markdown",
   "metadata": {},
   "source": [
    "You should be able to see that the energy is at a minimum at a position defined by the value of $r_0$. At larger separations the potential is somewhat attractive, whereas at smaller separations the potential rapidly becomes strongly repulsive.\n",
    "\n",
    "### Obtaining the force between two atoms\n",
    "If we know the potential energy of a pair of atoms as a function of their separation, $V(R)$, then the force acting between them, $F(R)$, can very easily be obtained by differentiating the potential energy with respect to distance. Hence for the Lennard-Jones potential the force between two atoms is given by\n",
    "\n",
    "$$\n",
    "F(R) = -\\frac{\\textrm{d} V}{\\textrm{d} R} =  \\frac{12\\epsilon}{r_0} \\left[\\left(\\frac{r_0}{R}\\right)^{7} - \\left(\\frac{r_0}{R}\\right)^{13} \\right].\n",
    "$$\n",
    "\n",
    "We have avoided using vector notation in order to keep the above algebra simple, but we must remember that, as defined, the force will act along the vector joining the pair of atoms such that a positive sign indicates an attractive force and a negative sign a repulsive force. As a sense check you should immediately be able to see that at $R=r_0$ the force will be zero, exactly as we would expect since this is the minimum of the potential energy curve.\n",
    "\n",
    "We can define a function to give the value of this force:"
   ]
  },
  {
   "cell_type": "code",
   "execution_count": null,
   "metadata": {
    "collapsed": true
   },
   "outputs": [],
   "source": [
    "def flj0(R,eps,r0):\n",
    "    return 12*eps/r0*((r0/R)**7-(r0/R)**13)"
   ]
  },
  {
   "cell_type": "markdown",
   "metadata": {},
   "source": [
    "#### <span style=\"color: red\"> Task 3:</span> Plot the Lennard-Jones force\n",
    "Plot out the force for $0.95 \\lt R \\lt 1.5$, for the case $r_0=1.0$ and $\\epsilon=1.0$. Look for the points at which $F=0$ and F is a maximum. What do these points correspond to in the plot of the Lennard-Jones potential energy above?"
   ]
  },
  {
   "cell_type": "markdown",
   "metadata": {},
   "source": [
    "### Improving the efficiency \n",
    "You may have noticed that the range of the Lennard-Jones potential is infinite: that is to say that even a pair of atoms that is very far apart with still contribute to the total potential energy of our system. However, the strength of the interaction decays quite fast with increasing separation and so there is little advantage to considering pairs of atoms more than a few lattice parameters apart. This fact is often exploited in order to make simulations more efficient: we simply assume that atoms larger than some cut-off distance apart, call it $r_{\\textrm{cut}}$, have only a negligible interaction. This approximation is physically valid for many real materials, such as in metals, but may be less so where long-ranged forces such as the coulomb interaction are important.\n",
    "\n",
    "We can make this adjustment to our potential as follows, calling the new potential $V_{\\textrm{cut}}(R)$:\n",
    "\n",
    "$$\n",
    "V_{\\textrm{cut}}(R) = V(R) + \\epsilon \\alpha   \\qquad r<=r_{\\textrm{cut}},\n",
    "$$\n",
    "\n",
    "$$\n",
    "V_{\\textrm{cut}}(R) = 0 \\qquad r>r_{\\textrm{cut}},\n",
    "$$\n",
    "\n",
    "The term in $\\alpha$ is simply a fixed energy shift of the potential at all values of $R$ below the cut-off. It is introduced in order to ensure that the potential goes to zero at the cut-off. The value of $\\alpha$ will be given by:\n",
    "\n",
    "$$\n",
    "\\alpha = -\\frac{V(r_{\\textrm{cut}})}{\\epsilon}.\n",
    "$$\n",
    "\n"
   ]
  },
  {
   "cell_type": "markdown",
   "metadata": {},
   "source": [
    "### Implementing the cut-off\n",
    "The code below implements the revised Lennard-Jones potential, with a cut-off at `rcut` and a shift parameter `alpha`:"
   ]
  },
  {
   "cell_type": "code",
   "execution_count": null,
   "metadata": {
    "collapsed": true
   },
   "outputs": [],
   "source": [
    "def lj(R,eps,r0,rcut,alpha):\n",
    "    if R<=rcut:\n",
    "        return eps*((r0/R)**12-2.0*(r0/R)**6)+alpha*eps\n",
    "    else:\n",
    "        return 0.0"
   ]
  },
  {
   "cell_type": "markdown",
   "metadata": {},
   "source": [
    "We can plot out the form of this function for a somewhat arbitrary choice of parameters (we choose to cut off the potential at $r_{\\mathrm{cut}}=1.5$ and calculate the shift parameter $\\alpha$ from the formula above:"
   ]
  },
  {
   "cell_type": "code",
   "execution_count": null,
   "metadata": {},
   "outputs": [],
   "source": [
    "R = np.linspace(0.95,2.0,500)\n",
    "eps = 1.0\n",
    "r0 = 1.0\n",
    "rcut = 1.5\n",
    "alpha = -lj0(rcut,eps,r0)/eps\n",
    "\n",
    "V = np.zeros(len(R))\n",
    "for i in range(len(R)):\n",
    "    V[i] = lj(R[i],eps,r0,rcut,alpha)\n",
    "V0 = np.zeros(len(R))\n",
    "for i in range(len(R)):\n",
    "    V0[i] = lj0(R[i],eps,r0)\n",
    "\n",
    "plt.plot(R,V0,'b',label='Basic potential')\n",
    "plt.plot(R,V,'r',label='Shifted, cut-off potential')\n",
    "plt.xlabel('R')\n",
    "plt.ylabel('V(R)')\n",
    "plt.legend()"
   ]
  },
  {
   "cell_type": "markdown",
   "metadata": {},
   "source": [
    "This gives us an idea of the general form of the potential, but we would like to choose values of the parameters that best represent the material that we want to simulate. This requires *calibration* of the potential, in which we are *fitting* our potential to certain target properties."
   ]
  },
  {
   "cell_type": "markdown",
   "metadata": {},
   "source": [
    "### Calibrating the potential 1 - the length scale $r_0$\n",
    "The Lennard-Jones potential contains only two adjustable paramemters, so we cannot expect it to be able to reproduce many of the more subtle features of a given material. However, we should be able to set $r_0$ to give the correct lattice parameter and $\\epsilon$ to give a sensible binding energy. To do this we consider the potential energy contribution of a single atom in the perfect crystal. We can break this energy down into contributions from atoms in successive neighbour shells around the atom. For example, in bcc each atom has 8 nearest neighbours at a separation of $\\sqrt{3}a/2$, where $a$ is the cubic lattice parameter (this is half the length of the cube diagonal). The contribution from these atoms will be\n",
    "\n",
    "$$\n",
    "U_{\\textrm{atom}}^{\\textrm{nn1}} = \\frac{1}{2}8 V(\\sqrt{3}a/2).\n",
    "$$\n",
    "\n",
    "The factor of $1/2$ accounts for the fact that each \"bond\" is shared between two atoms and the factor of 8 is because each atom has eight nearest neighbours. There are 6 second nearest neighbours, at a distance of $a$, giving a contribution to the energy of:\n",
    "\n",
    "$$\n",
    "U_{\\textrm{atom}}^{\\textrm{nn2}} = \\frac{1}{2}6 V(a).\n",
    "$$\n",
    "\n",
    "There are then 12 third nearest neighbours at $\\sqrt{2}a\\approx 1.414 a$ giving a contribution of\n",
    "\n",
    "$$\n",
    "U_{\\textrm{atom}}^{\\textrm{nn3}} = \\frac{1}{2}12 V(\\sqrt{2}a).\n",
    "$$\n",
    "\n",
    "and 24 fourth nearest neighbours at $\\sqrt{11}/2 \\,a \\approx 1.658 a$. If we decide to truncate the potential between third and fourth nearest neighbours, say by choosing $r_{\\textrm{cut}}=1.5 a$, then we have\n",
    "\n",
    "$$\n",
    "U_{\\textrm{atom}} = U_{\\textrm{atom}}^{\\textrm{nn1}} + U_{\\textrm{atom}}^{\\textrm{nn2}} + U_{\\textrm{atom}}^{\\textrm{nn3}}\n",
    "= 4V(\\sqrt{3}a/2) + 3V(a) + 6 V(\\sqrt{2}a).\n",
    "$$\n",
    "\n",
    "To find the correct value of $r_0$, we now consider this energy per atom $U_{\\textrm{atom}}$ as a function of the lattice parameter $a$. Imagine squashing and stretching the crystal isotropically. We would expect this to change the energy of the crystal. If we have chosen the correct value for $r_0$ then the energy of the crystal will be at a minimum when the lattice parameter of the crystal has the real, target value for the material that we are trying to represent. If we denote this target value by $a^{\\ast}$ then we express this condition mathematically as:\n",
    "\n",
    "$$\n",
    "\\frac{\\mathrm{d}U_{\\textrm{atom}}(a)}{\\mathrm{d}a}\\Bigg|_{a=a^{\\ast}} = 0.\n",
    "$$\n",
    "\n",
    "Now, we could differentiate the expression for $U_{\\textrm{atom}}$ with respect to $a$ analytically, then set $a=a^{\\ast}$ and solve the above equation. However, this would be a fair bit of tedious algebra, so instead we will use python to find the optimal value for $r_0$.\n",
    "\n",
    "Examine and run the code below:"
   ]
  },
  {
   "cell_type": "code",
   "execution_count": null,
   "metadata": {},
   "outputs": [],
   "source": [
    "# Function to return energy per atom for given lattice parameter and potential specification\n",
    "def Uatom0(a,eps,r0):\n",
    "    return 4.0*lj0(np.sqrt(3.0)*a/2.0,eps,r0) + 3.0*lj0(a,eps,r0)  + 6.0*lj0(np.sqrt(2)*a,eps,r0)\n",
    "\n",
    "# Function to find the lattice parameter that minimises per atom energy for a given potential specification\n",
    "def minUatom0(eps,r0):\n",
    "    arange = np.linspace(1.0,3.5,400)\n",
    "    amin = 0.0\n",
    "    minu = 999999.0\n",
    "    for a in arange:\n",
    "        #print(a,Uatom(a,eps,r0))\n",
    "        if Uatom0(a,eps,r0) < minu:\n",
    "            minu = Uatom0(a,eps,r0) \n",
    "            amin = a\n",
    "    return amin\n",
    "\n",
    "targeta = 2.86 # The value of the lattice parmeter we want to achieve\n",
    "eps = 1.0\n",
    "r0range = np.linspace(2.0,3.0,400) # Range of values for r0 to explore\n",
    "r0best = 0.0 # Current best guess for r0\n",
    "besterror = 999.9 # Error in value of a for current best r0\n",
    "amins = [] # list of a values \n",
    "\n",
    "# Explore a range of values for r0. Calculate the equilibrium lattice parameter for each.\n",
    "# Record this value. If this value is closer to our target value than previous results, store\n",
    "# the result and the value of r0 that generated it.\n",
    "for r0 in r0range:\n",
    "    amin = minUatom0(eps,r0)\n",
    "    amins.append(amin)\n",
    "    if abs(targeta - amin) < besterror:\n",
    "        besterror = abs(targeta - amin)\n",
    "        r0best = r0\n",
    "\n",
    "abest = minUatom0(eps,r0best)\n",
    "\n",
    "# Report and plot the results\n",
    "plt.plot(r0range,amins,'b-',label='Optimal $a$')\n",
    "plt.plot(r0best,abest,'ro',label='Target $a$')\n",
    "plt.xlabel('$r_0$')\n",
    "plt.ylabel('$a$')\n",
    "print('Best value of r0 is ' + str(r0best) + ', giving a lattice parameter of ' + str(abest))\n",
    "print('This assumes a cut-off, rcut ' + str(1.5*abest))"
   ]
  },
  {
   "cell_type": "markdown",
   "metadata": {},
   "source": [
    "The above code is rather complicated, so don't worry if you don't understand it completely. It tries out different values of $r_0$ and for each finds the equilibrium lattice parameter. It returns whichever value of $r_0$ gives an equilibrium lattice parameter closest to the target value."
   ]
  },
  {
   "cell_type": "markdown",
   "metadata": {},
   "source": [
    "### Calibrating the potential 2 - the potential shift, $\\alpha$\n",
    "Remember that in cutting off the potential at $r_{\\mathrm{cut}}$ we now need to shift it in energy by an amount $\\alpha\\epsilon$ to ensure that the potential is zero at the cut off. We gave the equation for $\\alpha$ above. It is\n",
    "\n",
    "$$\n",
    "\\alpha = -\\frac{V(r_{\\textrm{cut}})}{\\epsilon}.\n",
    "$$\n",
    "\n",
    "Things are slightly complicated by the fact that we don't yet know the value of $\\epsilon$, which sets the energy scale of the potential. However, we can find the value of $\\alpha$ by assuming the case of $\\epsilon = 1.0$ as follows:"
   ]
  },
  {
   "cell_type": "code",
   "execution_count": null,
   "metadata": {},
   "outputs": [],
   "source": [
    "eps = 1.0\n",
    "r0 = 2.5614\n",
    "rcut = 4.2914\n",
    "\n",
    "print('alpha = ' + str(-1.0*lj0(rcut,eps,r0)))"
   ]
  },
  {
   "cell_type": "markdown",
   "metadata": {},
   "source": [
    "### Calibrating the potential 3 - the energy scale, $\\epsilon$\n",
    "One way to set the energy scale of the potential, which is controlled by the parameter $\\epsilon$, is to calibrate against the cohesive energy of the material that we are studying. This is defined as the difference in the energy per atom in the bonded state and that in the completely dissociated state. In our case this is given by the difference in $U_{\\mathrm{atom}}$ between a lattice with the optimised lattice parameter and one in which the atoms are infinitely far apart. Since the parameter $\\epsilon$ scales the energy of all the interactions uniformly we can obtain the required value simply by taking the ratio of the target cohesive energy and the negative of the energy of an atom at the equilibrium lattice parameter, as follows:\n",
    "\n",
    "First we define a new function to return the energy per atom for the potential with a cut-off and a shift."
   ]
  },
  {
   "cell_type": "code",
   "execution_count": null,
   "metadata": {
    "collapsed": true
   },
   "outputs": [],
   "source": [
    "# Function to return energy per atom for given lattice parameter and potential specification for the shifted, cut-off potential\n",
    "def Uatom(a,eps,r0,rcut,alpha):\n",
    "    return 4.0*lj(np.sqrt(3.0)*a/2.0,eps,r0,rcut,alpha) + 3.0*lj(a,eps,r0,rcut,alpha)  + 6.0*lj(np.sqrt(2)*a,eps,r0,rcut,alpha)"
   ]
  },
  {
   "cell_type": "markdown",
   "metadata": {},
   "source": [
    "Then we assume a target value of $U_{\\textrm{coh}} = 4.28\\, \\textrm{ev}/\\textrm{atom}$ for the cohesive energy:"
   ]
  },
  {
   "cell_type": "code",
   "execution_count": null,
   "metadata": {},
   "outputs": [],
   "source": [
    "alatt = 2.86\n",
    "eps = 1.0\n",
    "r0 = 2.5614\n",
    "rcut = 4.2914\n",
    "alpha = 0.0884\n",
    "\n",
    "Ucoh = 4.28\n",
    "\n",
    "print('Energy per atom with eps=1.0 is ' + str(Uatom(alatt,eps,r0,rcut,alpha)))\n",
    "print('So, required eps is ' + str(-Ucoh/Uatom(alatt,eps,r0,rcut,alpha)))\n"
   ]
  },
  {
   "cell_type": "markdown",
   "metadata": {},
   "source": [
    "### The final parameterisation:\n",
    "We now have all the parameters for our shifted Lennard-Jones potential with a cut-off between 3rd and 4th nearest neighbours such that we correctly reproduce the equilibrium lattice parameter and cohesive energy of bcc iron. These parameters are given in the python cell below:"
   ]
  },
  {
   "cell_type": "code",
   "execution_count": null,
   "metadata": {
    "collapsed": true
   },
   "outputs": [],
   "source": [
    "alatt = 2.86\n",
    "eps = 0.7511\n",
    "r0 = 2.5614\n",
    "rcut = 4.2914\n",
    "alpha = 0.0884"
   ]
  },
  {
   "cell_type": "markdown",
   "metadata": {},
   "source": [
    "The code below plots out this truncated, shifted form of the potential."
   ]
  },
  {
   "cell_type": "code",
   "execution_count": null,
   "metadata": {},
   "outputs": [],
   "source": [
    "R = np.linspace(2.0,5.0,500)\n",
    "V = np.zeros(len(R))\n",
    "for i in range(len(R)):\n",
    "    V[i] = lj(R[i],eps,r0,rcut,alpha)\n",
    "\n",
    "nn = np.array([   \n",
    "    [np.sqrt(3.0)*alatt/2.0,lj(np.sqrt(3.0)*alatt/2.0,eps,r0,rcut,alpha)],\n",
    "    [alatt,lj(alatt,eps,r0,rcut,alpha)],\n",
    "    [np.sqrt(2)*alatt,lj(np.sqrt(2)*alatt,eps,r0,rcut,alpha)],\n",
    "    [np.sqrt(11)*alatt/2.0,lj(np.sqrt(11)*alatt/2.0,eps,r0,rcut,alpha)]\n",
    "])\n",
    "plt.axhline(y=0.0)\n",
    "plt.axvline(x=r0)\n",
    "plt.axvline(x=rcut)\n",
    "plt.plot(R,V,'r',label='Shifted, cut-off potential')\n",
    "plt.plot(nn[:,0],nn[:,1],'bo',label='Nearest neighbour separations and energies')\n",
    "plt.xlabel('R')\n",
    "plt.ylabel('V(R)')\n",
    "plt.legend()\n",
    "plt.ylim(-1.0,0.5)\n",
    "\n"
   ]
  },
  {
   "cell_type": "markdown",
   "metadata": {},
   "source": [
    "### The Lennard-Jones force with the shifted potential\n",
    "Just as we did for the original Lennard-Jones potential we can also define a function to return the force due to the truncated, shifted potential, as follows:"
   ]
  },
  {
   "cell_type": "code",
   "execution_count": null,
   "metadata": {
    "collapsed": true
   },
   "outputs": [],
   "source": [
    " def flj(R,eps,r0,rcut,alpha):\n",
    "    if R<=rcut:\n",
    "        return 12*eps/r0*((r0/R)**7-(r0/R)**13)\n",
    "    else:\n",
    "        return 0.0"
   ]
  },
  {
   "cell_type": "markdown",
   "metadata": {},
   "source": [
    "#### <span style=\"color: red\"> Task 4:</span> Plot the Lennard-Jones force for the truncated shifted form\n"
   ]
  },
  {
   "cell_type": "markdown",
   "metadata": {},
   "source": [
    "### A note on truncating potentials\n",
    "You will see from your plot above that the discontinuity in the gradient of the truncated, shifted potential results in a sudden step in the force. This is not ideal and could lead to numerical instabilities in a molecular dynamics simulation. The way to get rid of this step is to eliminate the kink in the potential energy curve smoothing out the curve at the cut-off radius, perhaps using a polynomial. I have avoided doing this here, because it makes the process of fitting the potential much more complicated."
   ]
  },
  {
   "cell_type": "markdown",
   "metadata": {},
   "source": [
    "## Periodic boundary conditions\n",
    "When we simulate materials at the atomistic scale, we are often trying to replicate with a small number of atoms the behaviour of a much larger sample of material. Often this is because computational resources are only sufficient to simulate this small number of atoms. We need to be careful here, because there is a danger that we will not correctly capture the behaviour of bulk material.\n",
    "\n",
    "Imagine we simulate a box of 1000 atoms in a simple cubic lattice. This is a $10\\times 10\\times10$ unit cell box, which means that half the atoms will be within the unit cells closest to the surface of the block of atoms that we are simulating. Surface effects could easily dominate the behaviour of our simulation and this could be completely spurious.\n",
    "\n",
    "The usual away around this is to use what are called *periodic boundary conditions*. This means that our system wraps around the edges of the box, so that we are in fact considering an infinite array of copies of our simulation cell. This means that an atom on the far left of the box will feel a force due to an atom on the far right. Equivalently, a moving atom leaving the box on the left would reappear on the right.\n",
    "\n",
    "We will need to take account of these periodic boundaries in our implementation of a simulation algorithm."
   ]
  },
  {
   "cell_type": "markdown",
   "metadata": {},
   "source": [
    "## Calculating the forces on the atoms\n",
    "We have now set up arrays to record the state of our system of atoms and developed functions to give the potential energy of and force acting upon each atom. The next step is to think about how we evolve the state of the system. To do that we need to know the forces acting on all the atoms and the resulting accelerations. Note that when we calculate the distance between a pair of atoms, we need to take account of the periodic boundary conditions. A function to work out the acceleration of each atom is defined below, which includes some logic to deal with the periodic boundary conditions:"
   ]
  },
  {
   "cell_type": "code",
   "execution_count": null,
   "metadata": {
    "collapsed": true
   },
   "outputs": [],
   "source": [
    "def calcaccln(a,r,m):\n",
    "    mconv = 1.036e-4\n",
    "    for i in range(len(r)):\n",
    "        a[i,:] = 0.0\n",
    "    for i in range(len(r)):\n",
    "        for j in range(i):\n",
    "            disp = (r[j,:]-r[i,:]) # Calculate displacement between atoms\n",
    "            for s in range(3): # Check if atoms are closer across periodic boundaries than within the box in each dimension\n",
    "                if disp[s] > 0.5*boxsize[s]*cell[s,s]:\n",
    "                    disp[s] = disp[s] - boxsize[s]*cell[s,s] # Adjust displacement for periodic boundary\n",
    "                elif disp[s] < -0.5*boxsize[s]*cell[s,s]:\n",
    "                    disp[s] = disp[s] + boxsize[s]*cell[s,s] # Adjust displacement for periodic boundary    \n",
    "            R = np.linalg.norm(disp)\n",
    "            a[i,:] = a[i,:] + flj(R,eps,r0,rcut,alpha)*disp[:]/R/m[i]/mconv\n",
    "            a[j,:] = a[j,:] - flj(R,eps,r0,rcut,alpha)*disp[:]/R/m[j]/mconv\n",
    "    return R"
   ]
  },
  {
   "cell_type": "markdown",
   "metadata": {},
   "source": [
    "### A note on units\n",
    "Now is a good time to discuss the units we are using for our simulation. Our arrays are storing only numbers associated with the position, velocity, energy, mass etc. of our particles, but they do have implied units. We make this choice for our own convenience. In particular, it is best if our simulations work with numbers in a fairly confined range. We therefore choose units which match the scales of individual atoms. We measure distances in angstroms, energies in electron volts, time in picoseconds and masses in atomic mass units.\n",
    "\n",
    "This sometimes requires conversion factors such as the one called `mconv` above, which ensures consistency when we are measuring masses in atomic mass units and forces in electron volts per angstrom."
   ]
  },
  {
   "cell_type": "markdown",
   "metadata": {},
   "source": [
    "## Evolving the state of the system\n",
    "The next task we need to accomplish is to write some code that works out the positions and velocities of all the particles at a time $t+\\delta t$ given their positions and velocities at time $t$, where $\\delta t$. There are many different algorithms for this, but one of the most commonly used is the velocity-verlet algorithm, which we discussed in the lectures and can be written as follows:\n",
    "\n",
    "$$\n",
    "v(t+ \\frac{1}{2}t) = v(t) + \\frac{1}{2}a(t)\\delta t,\n",
    "$$\n",
    "\n",
    "$$\n",
    "r(t+\\delta t) = v(t+ \\frac{1}{2}\\delta t)\\delta t,\n",
    "$$\n",
    "\n",
    "$$\n",
    "v(t+\\delta t) = v(t+ \\frac{1}{2}\\delta t) + \\frac{1}{2}a(t+\\delta t)\\delta t.\n",
    "$$\n",
    "\n",
    "A function to implement this evolution is below:"
   ]
  },
  {
   "cell_type": "code",
   "execution_count": null,
   "metadata": {
    "collapsed": true
   },
   "outputs": [],
   "source": [
    "def vv(r,v,a,m,dt):\n",
    "    v += 0.5*a*dt\n",
    "    r += v*dt\n",
    "    calcaccln(a,r,m)\n",
    "    v += 0.5*a*dt\n",
    "    for s in range(3):\n",
    "        for i in range(len(r)):\n",
    "            if r[i,s] > boxsize[s]*cell[s,s]:\n",
    "                r[i,s] = r[i,s] - boxsize[s]*cell[s,s]\n",
    "    return    "
   ]
  },
  {
   "cell_type": "markdown",
   "metadata": {},
   "source": [
    "### Some useful output \n",
    "A major part of the work involved in research using atomistic simulation is in interpreting the data. Widely used MD codes tend to have lots of functionality for producing useful output based on the raw data for the positions and velocities of the atoms. The functions below are a couple of examples of things we might be interested in. They return the total potential and kinetic energy of our system of atoms and we will use them to record the progress of some example simulations in a moment."
   ]
  },
  {
   "cell_type": "code",
   "execution_count": null,
   "metadata": {
    "collapsed": true
   },
   "outputs": [],
   "source": [
    "def pe(r):\n",
    "    pe = 0.0\n",
    "    for i in range(len(r)):\n",
    "        for j in range(i):\n",
    "            disp = np.abs(r[j,:]-r[i,:]) # Calculate displacement between atoms\n",
    "            for s in range(3): # Check if atoms are closer across periodic boundaries in each dimension\n",
    "                if disp[s] > 0.5*boxsize[s]*cell[s,s]:\n",
    "                    disp[s] = disp[s] - boxsize[s]*cell[s,s] # Adjust displacement for periodic boundary  \n",
    "            R = np.linalg.norm(disp)\n",
    "            pe = pe + lj(R,eps,r0,rcut,alpha)\n",
    "    return pe\n",
    "\n",
    "def ke(v,m):\n",
    "    mconv = 1.036e-4\n",
    "    ke = 0.0\n",
    "    for i in range(len(r)):\n",
    "        ke = ke + m[i]*(v[i,0]*v[i,0] + v[i,1]*v[i,1] + v[i,2]*v[i,2])\n",
    "    return 0.5*mconv*ke"
   ]
  },
  {
   "cell_type": "markdown",
   "metadata": {},
   "source": [
    "## Running a simulation\n",
    "To run an MD simulation all we now need to do is set up a box of atoms and then repeatedly call the `vv()` function to evolve the positions and velocities under the velocity-verlet algorithm. To make things a bit tidier, let's define a `run()` function, which implements this MD loop and records certain information along the way. The function below does this, and keeps track of the position, velocity and acceleration of the first two atoms in the atom arrays and the potential and kinetic energy of the whole system at every step. Take a look the code for `run()` and try to understand what it is doing."
   ]
  },
  {
   "cell_type": "code",
   "execution_count": null,
   "metadata": {
    "collapsed": true
   },
   "outputs": [],
   "source": [
    "def run(r,v,a,m,dt,nsteps):\n",
    "    # Lists to record the history of the first two atoms in the atom arrays\n",
    "    R0 = [r[0,:].tolist()]\n",
    "    R1 = [r[1,:].tolist()]\n",
    "    V0 = [v[0,:].tolist()]\n",
    "    V1 = [v[1,:].tolist()]\n",
    "    A0 = [a[0,:].tolist()]\n",
    "    A1 = [a[1,:].tolist()]\n",
    "    # Lists to record the history of the total potential and kinetic energy of the system of atoms\n",
    "    pelog = [pe(r)]\n",
    "    kelog = [ke(v,m)]\n",
    "    print('Running simulation of ' + str(nsteps) + ' steps')\n",
    "    print('Progress:')\n",
    "    for t in range(nsteps):\n",
    "        # Print a progress indication\n",
    "        if (t+1)%10 == 0:\n",
    "            print(str(t+1) + '.', end='')\n",
    "        # Evolve for one time step\n",
    "        vv(r,v,a,m,dt)\n",
    "        # Add current values to lists recording histories\n",
    "        R0.append(r[0,:].tolist())\n",
    "        R1.append(r[1,:].tolist())\n",
    "        V0.append(v[0,:].tolist())\n",
    "        V1.append(v[1,:].tolist())\n",
    "        A0.append(a[0,:].tolist())\n",
    "        A1.append(a[1,:].tolist())\n",
    "        pelog.append(pe(r))\n",
    "        kelog.append(ke(v,m))\n",
    "        if (t+1)%100 == 0:\n",
    "            print('')\n",
    "    print()\n",
    "    return np.array(R0),np.array(R1),np.array(V0),np.array(V1),np.array(A0),np.array(A1),np.array(pelog),np.array(kelog)"
   ]
  },
  {
   "cell_type": "markdown",
   "metadata": {},
   "source": [
    "### A small collision cascade \n",
    "The code below is now all that is required to set up and run a simulation of a small collision cascade using the functions that we have defined in the notebook so far. We have provided plenty of annotation in the cell below so that you can refresh your memory of all the steps required.\n",
    "\n",
    "The simulation is of a box of $4\\times 4\\times 4$ unit cells of body-centred cubic Fe (atomic mass 55.8 mass units) with a lattice parameter of 2.86 angstroms. We use the shifted, truncated Lennard-Jones potential that we parameterised earlier. The timestep is set to 0.0001 ps (0.1 fs) and we give atom 0 an initial velocity of (600,500,700) ang per ps. The simulation runs for 400 timesteps (40 fs - not long!).\n",
    "\n",
    "See if you can identify where all of the above features of the simulation are specified in the code below. (Incidentally, I have named the variable `vpka` to denote the velocity of the *primary knock-on atom*. This is the name given to the first atom set in motion in a radiation damage event.)\n",
    "\n",
    "Run the cell and wait for it to finish. Note that this may take a few minutes, so I have included an indication of progress in the `run()` function."
   ]
  },
  {
   "cell_type": "code",
   "execution_count": null,
   "metadata": {},
   "outputs": [],
   "source": [
    "L = 4 # Length of cube sides in unit cells\n",
    "boxsize = np.array([L,L,L]) # Define a cubic box in multiples of the unit cell size in each direction\n",
    "\n",
    "alatt = 2.86 # Lattice parameter\n",
    "cell = np.array([\n",
    "        [alatt,0,0],\n",
    "        [0,alatt,0],\n",
    "        [0,0,alatt]\n",
    "    ]) # Specify vectors in rows of an array\n",
    "motif = np.array([\n",
    "        [0.0,0.0,0.0],\n",
    "        [0.5,0.5,0.5] # Postions of atoms in motif in multiples of lattice vectors\n",
    "    ])\n",
    "nmotif = len(motif) # Number of atoms in motif\n",
    "\n",
    "r = createcrystal(cell,motif,nmotif,boxsize)\n",
    "#plotcell(r)\n",
    "\n",
    "natoms = len(r) # Get total number of atoms\n",
    "\n",
    "mass = 55.8\n",
    "m = np.full(natoms,mass)\n",
    "v = np.zeros((natoms,3))\n",
    "a = np.zeros((natoms,3))\n",
    "\n",
    "alatt = 2.86\n",
    "eps = 0.7511\n",
    "r0 = 2.5614\n",
    "rcut = 4.2914\n",
    "alpha = 0.0884\n",
    "\n",
    "dt = 0.0001\n",
    "vpka = [600.0,500.0,700.0]\n",
    "v[0,:] = vpka\n",
    "\n",
    "R0,R1,V0,V1,A0,A1,pelog,kelog = run(r,v,a,m,dt,400)\n",
    "\n"
   ]
  },
  {
   "cell_type": "markdown",
   "metadata": {},
   "source": [
    "Now let's take a look at some of the output and think about what it shows us. First, a plot of the kinetic and potential energy during the simulation:"
   ]
  },
  {
   "cell_type": "code",
   "execution_count": null,
   "metadata": {},
   "outputs": [],
   "source": [
    "plt.plot(kelog[:], 'b-', label='KE')\n",
    "plt.plot(1.0*(pelog[:]), 'r-', label='PE')\n",
    "plt.legend()\n",
    "plt.xlabel('Timestep')\n",
    "plt.ylabel('Energy (eV)')"
   ]
  },
  {
   "cell_type": "markdown",
   "metadata": {},
   "source": [
    "We can see from this plot that the initial velocity of atom 0 amounts to giving it an initial kinetic energy of around 3keV. This is certainly enough to cause damage to the crystal structure. We can also see that the kinetic energy oscillates up and down and that as it does so, the potential energy oscillates in the opposite fashion. Think about what is happening here: atoms are colliding with one another. As an atom approaches a collision it slows down due to the repulsive interaction with the target atom. Its kinetic energy drops, but its potential energy is increasing. Later in the collision, the target atom accelerates away with increasing kinetic energy, and the potential energy drops away. These oscillations in the energy correspond to collisions taking place between atoms."
   ]
  },
  {
   "cell_type": "markdown",
   "metadata": {},
   "source": [
    "### Conservation of energy\n",
    "Above, we noted that as the kinetic energy varied, the potential energy did so but in the opposite fashion. Can we be quantitative about this? Our system is *closed*, which is to say that we have not provided any mechanism for energy to leak in or out of the system and so energy should be strictly conserved: the sum of the kinetic and potential energy should not vary over the course of the simulation. "
   ]
  },
  {
   "cell_type": "markdown",
   "metadata": {},
   "source": [
    "#### <span style=\"color: red\"> Task 5:</span> Plot a graph of energy conservation\n",
    "Make a plot which shows the extent to which energy is conserved. What do you conclude from this?"
   ]
  },
  {
   "cell_type": "markdown",
   "metadata": {},
   "source": [
    "### Visualising the damage\n",
    "We can easily take a look at what has happened to the perfect crystalline order in our simulation during the cascade by using our `plotcell()` function on the final array of positions. This is done in the cell below:"
   ]
  },
  {
   "cell_type": "markdown",
   "metadata": {},
   "source": [
    "#### <span style=\"color: red\"> Task 6:</span> Visualise the final atomic configuration using `plotcell()`"
   ]
  },
  {
   "cell_type": "markdown",
   "metadata": {},
   "source": [
    "You should be able to see considerable disruption. If we had more time, we could run the simulation for longer and then let the positions of the atoms relax to a new equilibrium (by extracting the excess kinetic energy) and analyse the new structure to identify defects. \n",
    "\n",
    "The cell below shows an alternative way of looking at the data that we have produced. It includes lines showing the trajectories of the first two atoms in the cascade, which we recorded and returned as part of the `run()` function."
   ]
  },
  {
   "cell_type": "code",
   "execution_count": null,
   "metadata": {},
   "outputs": [],
   "source": [
    "plt.plot(R0[:,0],R0[:,1], 'r-', label='Trajectory of 1st atom in cascade')\n",
    "plt.plot(R1[:,0],R1[:,1], 'b-', label='Trajectory of 2nd atom in cascade')\n",
    "plt.plot(r[:,0],r[:,1],'go', label='Final atom positions')\n",
    "plt.plot(R0[-1,0],R0[-1,1], 'ro')\n",
    "plt.plot(R1[-1,0],R1[-1,1], 'bo')\n",
    "plt.xlabel('x')\n",
    "plt.xlabel('y')\n",
    "plt.legend()"
   ]
  },
  {
   "cell_type": "markdown",
   "metadata": {},
   "source": [
    "Have a think about what has happened to the two atoms whose trajectories are shown."
   ]
  },
  {
   "cell_type": "markdown",
   "metadata": {},
   "source": [
    "## A binary collision\n",
    "Of course, now we have set up the basic machinery of molecular dynamics we can simulate all sorts of phenomena. We'll set up one more example now: a binary collision of one moving atom with a stationary one, which we will ask you to explore further in the coursework.\n",
    "\n",
    "This time, instead of filling a box with atoms we will just create a large box and then build an array containing the initial positions of the pair of atoms by hand:"
   ]
  },
  {
   "cell_type": "code",
   "execution_count": null,
   "metadata": {
    "collapsed": true
   },
   "outputs": [],
   "source": [
    "L = 4 # Length of cube sides in unit cells\n",
    "boxsize = np.array([2*L,L,L]) # Define a cubic box in multiples of the unit cell size in each direction\n",
    "\n",
    "alatt = 2.86 # Lattice parameter\n",
    "cell = np.array([\n",
    "        [alatt,0,0],\n",
    "        [0,alatt,0],\n",
    "        [0,0,alatt]\n",
    "    ]) # Specify vectors in rows of an array\n",
    "motif = np.array([\n",
    "        [0.0,0.0,0.0],\n",
    "        [0.5,0.5,0.5] # Postions of atoms in motif in multiples of lattice vectors\n",
    "    ])\n",
    "nmotif = len(motif) # Number of atoms in motif\n",
    "\n",
    "r = np.array([[alatt,L/2.0*alatt,L/2.0*alatt],[alatt+3.0,L/2.0*alatt,L/2.0*alatt]])\n",
    "\n",
    "natoms = len(r) # Get total number of atoms\n",
    "mass = 55.8\n",
    "m = np.full(natoms,mass)\n",
    "v = np.zeros((natoms,3))\n",
    "a = np.zeros((natoms,3))\n",
    "\n",
    "eps = 0.7511\n",
    "r0 = 2.5614\n",
    "rcut = 4.2914\n",
    "alpha = 0.0884"
   ]
  },
  {
   "cell_type": "markdown",
   "metadata": {},
   "source": [
    "#### <span style=\"color: red\"> Task 7:</span> Visualise the initial simulation cell configuration\n",
    "Does it look right?"
   ]
  },
  {
   "cell_type": "markdown",
   "metadata": {},
   "source": [
    "Next, we give one of the atoms a kick and run a simulation:"
   ]
  },
  {
   "cell_type": "code",
   "execution_count": null,
   "metadata": {},
   "outputs": [],
   "source": [
    "dt = 0.0001\n",
    "vpka = [50.0,5.0,5.0]\n",
    "v[0,:] = vpka\n",
    "R0,R1,V0,V1,A0,A1,pelog,kelog = run(r,v,a,m,dt,2000)"
   ]
  },
  {
   "cell_type": "markdown",
   "metadata": {},
   "source": [
    "We can see the trajectories of the two colliding atoms and can interrogate the output of `run()` to find out various things about the collision outcome. For example:"
   ]
  },
  {
   "cell_type": "code",
   "execution_count": null,
   "metadata": {},
   "outputs": [],
   "source": [
    "plt.plot(R0[:,0],R0[:,1], 'r-', label='Trajectory of 1st atom in cascade')\n",
    "plt.plot(R1[:,0],R1[:,1], 'b-', label='Trajectory of 2nd atom in cascade')\n",
    "plt.plot(r[:,0],r[:,1],'go', label='Final atom positions')\n",
    "plt.plot(R0[-1,0],R0[-1,1], 'ro')\n",
    "plt.plot(R1[-1,0],R1[-1,1], 'bo')\n",
    "cellbox = np.array([  [0.0,0.0],  [0.0,cell[1,1]*boxsize[1]],   [cell[0,0]*boxsize[0],cell[1,1]*boxsize[1]],   [cell[0,0]*boxsize[0],0.0],  [0.0,0.0]  ])\n",
    "plt.plot(cellbox[:,0],cellbox[:,1],'k-')\n",
    "plt.xlabel('x')\n",
    "plt.ylabel('y')\n",
    "plt.xlim(-0.5,cell[0,0]*boxsize[0]+0.5)\n",
    "plt.ylim(-0.5,cell[1,1]*boxsize[1]+0.5)\n",
    "plt.legend(loc=3)\n"
   ]
  },
  {
   "cell_type": "code",
   "execution_count": null,
   "metadata": {},
   "outputs": [],
   "source": [
    "print('Final velocity of projectile atom: [%6.2f,%6.2f,%6.2f]' % (V0[-1,0],V0[-1,1],V0[-1,2]) )\n",
    "print('Final velocity of target atom: [%6.2f,%6.2f,%6.2f]' % (V1[-1,0],V1[-1,1],V1[-1,2]) )"
   ]
  },
  {
   "cell_type": "markdown",
   "metadata": {},
   "source": [
    "### Running a set of simulations \n",
    "A common task in the simulation of materials is to run a set of simulations with varying input parameters - essentially a computer experiment. Below shows an example of using a `for` loop to run a simulation of a binary collision with different values for the projectile velocity, recording the final velocity of the target atom in each case. Take a look at the code below and try to understand how it works. You will be asked to do something similar in the coursework:"
   ]
  },
  {
   "cell_type": "code",
   "execution_count": null,
   "metadata": {},
   "outputs": [],
   "source": [
    "initv = [50.0, 100.0, 150.0, 200.0]\n",
    "finalv = []\n",
    "dt = 0.0001\n",
    "for i in range(4):\n",
    "    r = np.array([[2.0,5.5,5.0],[7.0,5.0,5.0]])\n",
    "    natoms = len(r)\n",
    "    mass = 55.8\n",
    "    m = np.full(natoms,mass)\n",
    "    v = np.zeros((natoms,3))\n",
    "    a = np.zeros((natoms,3)) \n",
    "    vpka = [initv[i],0.0,0.0]\n",
    "    v[0,:] = vpka\n",
    "    R0,R1,V0,V1,A0,A1,pelog,kelog = run(r,v,a,m,dt,2000)\n",
    "    finalv.append(np.linalg.norm(V1[-1,:]))\n",
    "\n",
    "plt.plot(np.array(initv),np.array(finalv),'bo-')\n",
    "plt.xlabel('Inital projectile velocity (ang/ps)')\n",
    "plt.ylabel('Final target velocity (ang/ps)')"
   ]
  },
  {
   "cell_type": "markdown",
   "metadata": {
    "collapsed": true
   },
   "source": [
    "And that's it for today. You should have learned a fair bit about one way of simulating dynamical processes at the atomic level, about how we need to make judiscious approximations to reality, about how we can calibrate a model for interatomic forces to replicate properties of a real material and about how to set up computer experiments to probe the behaviour of a model system."
   ]
  },
  {
   "cell_type": "code",
   "execution_count": null,
   "metadata": {
    "collapsed": true
   },
   "outputs": [],
   "source": []
  }
 ],
 "metadata": {
  "anaconda-cloud": {},
  "kernelspec": {
   "display_name": "Python [conda root]",
   "language": "python",
   "name": "conda-root-py"
  },
  "language_info": {
   "codemirror_mode": {
    "name": "ipython",
    "version": 3
   },
   "file_extension": ".py",
   "mimetype": "text/x-python",
   "name": "python",
   "nbconvert_exporter": "python",
   "pygments_lexer": "ipython3",
   "version": "3.5.3"
  },
  "toc": {
   "colors": {
    "hover_highlight": "#DAA520",
    "running_highlight": "#FF0000",
    "selected_highlight": "#FFD700"
   },
   "moveMenuLeft": true,
   "nav_menu": {
    "height": "512px",
    "width": "252px"
   },
   "navigate_menu": true,
   "number_sections": true,
   "sideBar": true,
   "threshold": 4,
   "toc_cell": false,
   "toc_section_display": "block",
   "toc_window_display": false
  }
 },
 "nbformat": 4,
 "nbformat_minor": 1
}
