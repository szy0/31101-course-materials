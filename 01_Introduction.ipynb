{
 "cells": [
  {
   "cell_type": "markdown",
   "metadata": {},
   "source": [
    "# Introduction"
   ]
  },
  {
   "cell_type": "markdown",
   "metadata": {},
   "source": [
    "Welcome to Modelling and Data Tools for Materials Scientists! \n",
    "\n",
    "In this unit you will be introduced to a range of materials modelling and data handling techniques that will give you a deeper understanding of the material in your other units and will allow you to make objective, quantitative statements about materials and material processing. The unit will be delivered via enquiry based learning using the software Python. You will be expected to work independently and to follow your own curiosity in order to develop your own individual understanding of the material. The course is designed so that the majority of the work can be completed within the timetabled workshops; however, it is recommended that you also consolidate your learning between each session with additional work on your own personal computer or in one of the clusters on campus. Your work will be assessed via three coursework assignments due by the ends of weeks 6, 9 and 12, with an additional, formative coursework due by the end of week 3. You must complete and submit your coursework on an individual basis; however, for non-assessed work, we encourage you to collaborate.\n",
    "\n",
    "The structure of the course is as follows:<br>\n",
    "Week 1  - Introductory Material<br>\n",
    "Week 2  - Function Fitting, Quality of Fit and Data Analysis<br>\n",
    "Week 3  - Essential Statistics<br>\n",
    "Week 4  - Numerical Solution of Differential Equations<br>\n",
    "Week 5  - The Finite Element Method<br>\n",
    "Week 6  - Consolidation week to complete coursework<br>\n",
    "Week 7  - Monte Carlo Simulation, Optimisation and Search Algorithms<br>\n",
    "Week 8  - Materials Simulation 1 (Atomistic) <br>\n",
    "Week 9  - Consolidation week to complete coursework<br>\n",
    "Week 10 - Materials Simulation 2 (Phase Field)<br>\n",
    "Week 11 - Machine Learning<br>\n",
    "Week 12 - Bayesian Statistics and Uncertainty Quantification (lecture) + consolidation week to complete coursework\n",
    "\n",
    "This week's session will provide you with the necessary background material in Python you will need to complete the unit. Most of this notebook will be revision of the first year Python material.\n",
    "\n",
    "This unit uses [Jupyter notebooks](http://www.jupyter.org) as an interactive computing platform. Jupyter notebooks make computation similar to using the commercial packages [Mathematica](http://www.wolfram.com/mathematica/) and [MATLAB](http://uk.mathworks.com/products/matlab/) but are open source, as is Python. These notebooks provide you with the core material of the unit, but they will not teach you all you should know about programming in Python or using Jupyter. There are a lot of useful resources out there and you should use them to develop your proficiency. A few good resources are:\n",
    "\n",
    "- [The Python documentation](https://docs.python.org/)\n",
    "- [Python for non-programmers](https://wiki.python.org/moin/BeginnersGuide/NonProgrammers)\n",
    "- [The Jupyter notebook documentation](http://jupyter.readthedocs.io/en/latest/)\n",
    "- [Stack overflow](http://stackoverflow.com/)\n",
    "- [Google](http://www.google.com). Googling \"how do I... in Python?\" is very effective!\n",
    "\n",
    "We will use the Anaconda distributions available on the cluster computers. If you want to use Jupyter on your own computer you will need to install a scientific Python distribution like [Anaconda](https://www.anaconda.com/). "
   ]
  },
  {
   "cell_type": "markdown",
   "metadata": {},
   "source": [
    "## Getting Started"
   ]
  },
  {
   "cell_type": "markdown",
   "metadata": {},
   "source": [
    "The best way to learn how to use Python and Jupyter is to play with them! Play around in the cells below, first by clicking on them and changing the numbers and text, and then by adding and deleting cells. Try out the different cell types and try to use them as a calculator. What works and what doesn't?\n",
    "\n",
    "Tip: Press <kbd>Esc</kbd> to enter command mode and <kbd>h</kbd> to see a cheat sheet of commands. You need to hold down <kbd>Shift</kbd>, then press <kbd>Return</kbd> in order to evaluate a cell. You can double-click on a cell to edit it."
   ]
  },
  {
   "cell_type": "markdown",
   "metadata": {},
   "source": [
    "Some simple calculations:"
   ]
  },
  {
   "cell_type": "code",
   "execution_count": 1,
   "metadata": {
    "collapsed": true
   },
   "outputs": [
    {
     "data": {
      "text/plain": [
       "8"
      ]
     },
     "execution_count": 1,
     "metadata": {},
     "output_type": "execute_result"
    }
   ],
   "source": [
    "6+2"
   ]
  },
  {
   "cell_type": "code",
   "execution_count": 2,
   "metadata": {
    "collapsed": true
   },
   "outputs": [
    {
     "data": {
      "text/plain": [
       "4"
      ]
     },
     "execution_count": 2,
     "metadata": {},
     "output_type": "execute_result"
    }
   ],
   "source": [
    "6-2"
   ]
  },
  {
   "cell_type": "code",
   "execution_count": 3,
   "metadata": {
    "collapsed": true
   },
   "outputs": [
    {
     "data": {
      "text/plain": [
       "12"
      ]
     },
     "execution_count": 3,
     "metadata": {},
     "output_type": "execute_result"
    }
   ],
   "source": [
    "6*2"
   ]
  },
  {
   "cell_type": "code",
   "execution_count": 4,
   "metadata": {
    "collapsed": true
   },
   "outputs": [
    {
     "data": {
      "text/plain": [
       "3.0"
      ]
     },
     "execution_count": 4,
     "metadata": {},
     "output_type": "execute_result"
    }
   ],
   "source": [
    "6/2"
   ]
  },
  {
   "cell_type": "code",
   "execution_count": 5,
   "metadata": {
    "collapsed": true
   },
   "outputs": [
    {
     "data": {
      "text/plain": [
       "36"
      ]
     },
     "execution_count": 5,
     "metadata": {},
     "output_type": "execute_result"
    }
   ],
   "source": [
    "6**2"
   ]
  },
  {
   "cell_type": "markdown",
   "metadata": {},
   "source": [
    "A typical first Python program:"
   ]
  },
  {
   "cell_type": "code",
   "execution_count": 6,
   "metadata": {
    "collapsed": true
   },
   "outputs": [
    {
     "name": "stdout",
     "output_type": "stream",
     "text": [
      "Hello, World!\n"
     ]
    }
   ],
   "source": [
    "print(\"Hello, World!\")"
   ]
  },
  {
   "cell_type": "markdown",
   "metadata": {},
   "source": [
    "Some equations in Markdown (using [LaTeX](https://en.wikibooks.org/wiki/LaTeX/Mathematics)):\n",
    "$$y=\\frac{sin(x)^2}{x-1}$$\n",
    "\n",
    "$$y=e^{-ix}$$\n",
    "\n",
    "$$u_{t}=u_{0}+\\frac{du}{dt} t$$\n",
    "# Heading 1\n",
    "## Heading 2\n",
    "### Heading 3\n",
    "#### Heading 4\n",
    "\n",
    "_Italic text_\n",
    "\n",
    "Display an image:\n",
    "\n",
    "![Metamaterials](http://www.sciencemag.org/content/325/5947/F1.medium.gif)"
   ]
  },
  {
   "cell_type": "markdown",
   "metadata": {},
   "source": [
    "## Introduction to Python"
   ]
  },
  {
   "cell_type": "markdown",
   "metadata": {},
   "source": [
    "Python is a computer language that is easy to read and learn. This does not mean you can fully master it in a few minutes, but it does mean that it is easy to get started and that a small effort in learning it is quickly and easily rewarded. Here we will just introduce a few features of the language."
   ]
  },
  {
   "cell_type": "markdown",
   "metadata": {},
   "source": [
    "### Variables"
   ]
  },
  {
   "cell_type": "markdown",
   "metadata": {},
   "source": [
    "Python uses variables to store values. They can be numbers or text but this does not need to be specified. The type of the variable is \"guessed\" when it is assigned. Lets assign some variables:"
   ]
  },
  {
   "cell_type": "code",
   "execution_count": 7,
   "metadata": {
    "collapsed": true
   },
   "outputs": [],
   "source": [
    "a=1\n",
    "b=3.1452\n",
    "c='Some text'"
   ]
  },
  {
   "cell_type": "markdown",
   "metadata": {},
   "source": [
    "We can check what Python has interpreted the variables as:"
   ]
  },
  {
   "cell_type": "code",
   "execution_count": 8,
   "metadata": {
    "collapsed": true
   },
   "outputs": [
    {
     "data": {
      "text/plain": [
       "int"
      ]
     },
     "execution_count": 8,
     "metadata": {},
     "output_type": "execute_result"
    }
   ],
   "source": [
    "type(a)"
   ]
  },
  {
   "cell_type": "code",
   "execution_count": 9,
   "metadata": {
    "collapsed": true
   },
   "outputs": [
    {
     "data": {
      "text/plain": [
       "float"
      ]
     },
     "execution_count": 9,
     "metadata": {},
     "output_type": "execute_result"
    }
   ],
   "source": [
    "type(b)"
   ]
  },
  {
   "cell_type": "code",
   "execution_count": 10,
   "metadata": {
    "collapsed": true
   },
   "outputs": [
    {
     "data": {
      "text/plain": [
       "str"
      ]
     },
     "execution_count": 10,
     "metadata": {},
     "output_type": "execute_result"
    }
   ],
   "source": [
    "type(c)"
   ]
  },
  {
   "cell_type": "markdown",
   "metadata": {},
   "source": [
    "<code>a</code> has been identified as an integer, <code>b</code> has been identified as a floating point number and <code>c</code> has been identified as a string. If you don't know what these are, look them up using the resources suggested above.\n",
    "\n",
    "This is what happens when we add two strings together in Python:"
   ]
  },
  {
   "cell_type": "code",
   "execution_count": 11,
   "metadata": {
    "collapsed": true
   },
   "outputs": [
    {
     "data": {
      "text/plain": [
       "'Some textSome text'"
      ]
     },
     "execution_count": 11,
     "metadata": {},
     "output_type": "execute_result"
    }
   ],
   "source": [
    "c+c"
   ]
  },
  {
   "cell_type": "markdown",
   "metadata": {},
   "source": [
    "What happens if we try to add different combinations of <code>a</code>, <code>b</code> and <code>c</code>?"
   ]
  },
  {
   "cell_type": "markdown",
   "metadata": {},
   "source": [
    "### Lists"
   ]
  },
  {
   "cell_type": "markdown",
   "metadata": {},
   "source": [
    "Another important data structure in Python is the <code>list</code>, which is an ordered list of objects. These can be variables, arrays, objects, lists, tuples etc. Let's create two lists:"
   ]
  },
  {
   "cell_type": "code",
   "execution_count": 12,
   "metadata": {},
   "outputs": [],
   "source": [
    "listA=[1,3.1452,'Some text'] #this is a comment\n",
    "listB=[a,c,c] #note that lists are in square brackets"
   ]
  },
  {
   "cell_type": "code",
   "execution_count": 13,
   "metadata": {
    "collapsed": true
   },
   "outputs": [
    {
     "name": "stdout",
     "output_type": "stream",
     "text": [
      "[1, 3.1452, 'Some text']\n"
     ]
    }
   ],
   "source": [
    "print(listA)"
   ]
  },
  {
   "cell_type": "markdown",
   "metadata": {},
   "source": [
    "Lists are indexed starting at 0:"
   ]
  },
  {
   "cell_type": "code",
   "execution_count": 14,
   "metadata": {
    "collapsed": true
   },
   "outputs": [
    {
     "data": {
      "text/plain": [
       "'Some text'"
      ]
     },
     "execution_count": 14,
     "metadata": {},
     "output_type": "execute_result"
    }
   ],
   "source": [
    "listA[2]"
   ]
  },
  {
   "cell_type": "markdown",
   "metadata": {},
   "source": [
    "They can be sliced:"
   ]
  },
  {
   "cell_type": "code",
   "execution_count": 15,
   "metadata": {
    "collapsed": true
   },
   "outputs": [
    {
     "data": {
      "text/plain": [
       "[1, 3.1452]"
      ]
     },
     "execution_count": 15,
     "metadata": {},
     "output_type": "execute_result"
    }
   ],
   "source": [
    "listA[0:2]"
   ]
  },
  {
   "cell_type": "markdown",
   "metadata": {},
   "source": [
    "and compared:"
   ]
  },
  {
   "cell_type": "code",
   "execution_count": 16,
   "metadata": {
    "collapsed": true
   },
   "outputs": [
    {
     "data": {
      "text/plain": [
       "True"
      ]
     },
     "execution_count": 16,
     "metadata": {},
     "output_type": "execute_result"
    }
   ],
   "source": [
    "listA==listA"
   ]
  },
  {
   "cell_type": "markdown",
   "metadata": {},
   "source": [
    "There are other important data structures in python like dictionaries, tuples and objects and you are encouraged to discover these by yourself. You can start [here](https://docs.python.org/3/tutorial/datastructures.html)."
   ]
  },
  {
   "cell_type": "markdown",
   "metadata": {},
   "source": [
    "#### Looping through lists (iterating)"
   ]
  },
  {
   "cell_type": "markdown",
   "metadata": {},
   "source": [
    "Lists can be easily looped through or iterated in Python. Let's iterate through a list of numbers and create a total:"
   ]
  },
  {
   "cell_type": "code",
   "execution_count": 17,
   "metadata": {
    "collapsed": true
   },
   "outputs": [
    {
     "name": "stdout",
     "output_type": "stream",
     "text": [
      "1\n",
      "2\n",
      "3\n",
      "4\n",
      "5\n",
      "6\n",
      "7\n",
      "8\n",
      "9\n",
      "10\n"
     ]
    }
   ],
   "source": [
    "numbers=[1,2,3,4,5,6,7,8,9,10]\n",
    "for num in numbers:\n",
    "    print(num)"
   ]
  },
  {
   "cell_type": "code",
   "execution_count": 18,
   "metadata": {
    "collapsed": true
   },
   "outputs": [
    {
     "name": "stdout",
     "output_type": "stream",
     "text": [
      "1\n",
      "3\n",
      "6\n",
      "10\n",
      "15\n",
      "21\n",
      "28\n",
      "36\n",
      "45\n",
      "55\n"
     ]
    }
   ],
   "source": [
    "numbers=[1,2,3,4,5,6,7,8,9,10]\n",
    "total=0\n",
    "for num in numbers:\n",
    "    total=total + num\n",
    "    print(total)"
   ]
  },
  {
   "cell_type": "markdown",
   "metadata": {},
   "source": [
    "There are several important things in this example. \n",
    "\n",
    "* The first thing to note is the indentation. Indentation is used to separate the body of the loop from the rest of the code. This might seem odd at first, but it soon becomes second nature and it makes it easy to stay organised and keep the code clean.\n",
    "\n",
    "* The other thing to notice is the colon ( : ) after the <code>for</code> statement. This is also a requirement to indicate the start of the loop.\n",
    "\n",
    "* The <code>for</code> loop creates a variable called <code>num</code> which only exists during the loop and takes the value of each object in the list.\n",
    "\n",
    "* Finally, you can see we have used the <code>print</code> command to output the value of the variable.\n",
    "\n",
    "There are other ways of looping through lists, including ways of looping through 2 lists at a time and of enumerating the items returned. Look at the documentation for details."
   ]
  },
  {
   "cell_type": "markdown",
   "metadata": {},
   "source": [
    "#### <span style=\"color: red\"> Task 1:</span> Below is a list of ten names. Use loops to print the list elements with five or fewer letters. "
   ]
  },
  {
   "cell_type": "code",
   "execution_count": 19,
   "metadata": {
    "collapsed": true
   },
   "outputs": [],
   "source": [
    "names_list=['jack','lisa','bernard','sebastian','joe','rose','christopher','henry','zacharya', 'ernest']"
   ]
  },
  {
   "cell_type": "markdown",
   "metadata": {},
   "source": [
    "#### <span style=\"color: red\"> Bonus task:</span> Can you print them out in alphabetic order?"
   ]
  },
  {
   "cell_type": "markdown",
   "metadata": {},
   "source": [
    "### Packages"
   ]
  },
  {
   "cell_type": "markdown",
   "metadata": {},
   "source": [
    "One of the great features in Python is the amazing scientific Python community and the packages they have developed and shared. These are collections of programs that do useful things."
   ]
  },
  {
   "cell_type": "code",
   "execution_count": 22,
   "metadata": {
    "collapsed": true
   },
   "outputs": [],
   "source": [
    "import antigravity"
   ]
  },
  {
   "cell_type": "markdown",
   "metadata": {},
   "source": [
    "If there is something scientific you want to do, then there is probably a package that can do it. There are two packages we will use extensively:\n",
    "\n",
    "- [numpy](http://www.numpy.org/) which provides tools for handling and calculating with numerical arrays \n",
    "- [matplotlib](http://matplotlib.org/) which provides tools for plotting and visualizing data\n",
    "\n",
    "To use packages you need to import them into the working namespace:"
   ]
  },
  {
   "cell_type": "code",
   "execution_count": 23,
   "metadata": {
    "collapsed": true
   },
   "outputs": [],
   "source": [
    "import numpy as np\n",
    "import matplotlib.pyplot as plt #matplotlib.pyplot is the plotting part of matplotlib"
   ]
  },
  {
   "cell_type": "markdown",
   "metadata": {},
   "source": [
    "You will see that we often import these at the start of our notebooks. The names after <code>as</code> are then used as \"prefixes\" for all commands in that package.\n",
    "\n",
    "These packages are very powerful. Here are some examples of what you can do with them."
   ]
  },
  {
   "cell_type": "markdown",
   "metadata": {},
   "source": [
    "### Plotting mathematical functions"
   ]
  },
  {
   "cell_type": "markdown",
   "metadata": {},
   "source": [
    "Visualizing mathematical functions is often very useful. With <code>numpy</code> and <code>matplotlib</code> this is straight forward. Lets plot $y=sin(x)$. \n",
    "\n",
    "First we need to create an array of $x$ values:"
   ]
  },
  {
   "cell_type": "code",
   "execution_count": 24,
   "metadata": {
    "collapsed": true
   },
   "outputs": [],
   "source": [
    "x=np.linspace(0,np.pi,181) "
   ]
  },
  {
   "cell_type": "markdown",
   "metadata": {},
   "source": [
    "Here we used the <code>linspace</code> function to create an array of evenly spaced values. To see the docstring for any function just enter the function name followed by a ? in a code cell:"
   ]
  },
  {
   "cell_type": "code",
   "execution_count": 25,
   "metadata": {
    "collapsed": true
   },
   "outputs": [],
   "source": [
    "np.linspace?"
   ]
  },
  {
   "cell_type": "code",
   "execution_count": 26,
   "metadata": {
    "collapsed": true
   },
   "outputs": [
    {
     "name": "stdout",
     "output_type": "stream",
     "text": [
      "[ 0.          0.01745329  0.03490659  0.05235988  0.06981317  0.08726646\n",
      "  0.10471976  0.12217305  0.13962634  0.15707963  0.17453293  0.19198622\n",
      "  0.20943951  0.2268928   0.2443461   0.26179939  0.27925268  0.29670597\n",
      "  0.31415927  0.33161256  0.34906585  0.36651914  0.38397244  0.40142573\n",
      "  0.41887902  0.43633231  0.45378561  0.4712389   0.48869219  0.50614548\n",
      "  0.52359878  0.54105207  0.55850536  0.57595865  0.59341195  0.61086524\n",
      "  0.62831853  0.64577182  0.66322512  0.68067841  0.6981317   0.71558499\n",
      "  0.73303829  0.75049158  0.76794487  0.78539816  0.80285146  0.82030475\n",
      "  0.83775804  0.85521133  0.87266463  0.89011792  0.90757121  0.9250245\n",
      "  0.9424778   0.95993109  0.97738438  0.99483767  1.01229097  1.02974426\n",
      "  1.04719755  1.06465084  1.08210414  1.09955743  1.11701072  1.13446401\n",
      "  1.15191731  1.1693706   1.18682389  1.20427718  1.22173048  1.23918377\n",
      "  1.25663706  1.27409035  1.29154365  1.30899694  1.32645023  1.34390352\n",
      "  1.36135682  1.37881011  1.3962634   1.41371669  1.43116999  1.44862328\n",
      "  1.46607657  1.48352986  1.50098316  1.51843645  1.53588974  1.55334303\n",
      "  1.57079633  1.58824962  1.60570291  1.6231562   1.6406095   1.65806279\n",
      "  1.67551608  1.69296937  1.71042267  1.72787596  1.74532925  1.76278254\n",
      "  1.78023584  1.79768913  1.81514242  1.83259571  1.85004901  1.8675023\n",
      "  1.88495559  1.90240888  1.91986218  1.93731547  1.95476876  1.97222205\n",
      "  1.98967535  2.00712864  2.02458193  2.04203522  2.05948852  2.07694181\n",
      "  2.0943951   2.11184839  2.12930169  2.14675498  2.16420827  2.18166156\n",
      "  2.19911486  2.21656815  2.23402144  2.25147474  2.26892803  2.28638132\n",
      "  2.30383461  2.32128791  2.3387412   2.35619449  2.37364778  2.39110108\n",
      "  2.40855437  2.42600766  2.44346095  2.46091425  2.47836754  2.49582083\n",
      "  2.51327412  2.53072742  2.54818071  2.565634    2.58308729  2.60054059\n",
      "  2.61799388  2.63544717  2.65290046  2.67035376  2.68780705  2.70526034\n",
      "  2.72271363  2.74016693  2.75762022  2.77507351  2.7925268   2.8099801\n",
      "  2.82743339  2.84488668  2.86233997  2.87979327  2.89724656  2.91469985\n",
      "  2.93215314  2.94960644  2.96705973  2.98451302  3.00196631  3.01941961\n",
      "  3.0368729   3.05432619  3.07177948  3.08923278  3.10668607  3.12413936\n",
      "  3.14159265]\n"
     ]
    }
   ],
   "source": [
    "print(x)"
   ]
  },
  {
   "cell_type": "markdown",
   "metadata": {},
   "source": [
    "Now we can calculate $sin(x)$:"
   ]
  },
  {
   "cell_type": "code",
   "execution_count": 27,
   "metadata": {
    "collapsed": true
   },
   "outputs": [],
   "source": [
    "y=np.sin(x)"
   ]
  },
  {
   "cell_type": "code",
   "execution_count": 28,
   "metadata": {
    "collapsed": true
   },
   "outputs": [
    {
     "name": "stdout",
     "output_type": "stream",
     "text": [
      "[  0.00000000e+00   1.74524064e-02   3.48994967e-02   5.23359562e-02\n",
      "   6.97564737e-02   8.71557427e-02   1.04528463e-01   1.21869343e-01\n",
      "   1.39173101e-01   1.56434465e-01   1.73648178e-01   1.90808995e-01\n",
      "   2.07911691e-01   2.24951054e-01   2.41921896e-01   2.58819045e-01\n",
      "   2.75637356e-01   2.92371705e-01   3.09016994e-01   3.25568154e-01\n",
      "   3.42020143e-01   3.58367950e-01   3.74606593e-01   3.90731128e-01\n",
      "   4.06736643e-01   4.22618262e-01   4.38371147e-01   4.53990500e-01\n",
      "   4.69471563e-01   4.84809620e-01   5.00000000e-01   5.15038075e-01\n",
      "   5.29919264e-01   5.44639035e-01   5.59192903e-01   5.73576436e-01\n",
      "   5.87785252e-01   6.01815023e-01   6.15661475e-01   6.29320391e-01\n",
      "   6.42787610e-01   6.56059029e-01   6.69130606e-01   6.81998360e-01\n",
      "   6.94658370e-01   7.07106781e-01   7.19339800e-01   7.31353702e-01\n",
      "   7.43144825e-01   7.54709580e-01   7.66044443e-01   7.77145961e-01\n",
      "   7.88010754e-01   7.98635510e-01   8.09016994e-01   8.19152044e-01\n",
      "   8.29037573e-01   8.38670568e-01   8.48048096e-01   8.57167301e-01\n",
      "   8.66025404e-01   8.74619707e-01   8.82947593e-01   8.91006524e-01\n",
      "   8.98794046e-01   9.06307787e-01   9.13545458e-01   9.20504853e-01\n",
      "   9.27183855e-01   9.33580426e-01   9.39692621e-01   9.45518576e-01\n",
      "   9.51056516e-01   9.56304756e-01   9.61261696e-01   9.65925826e-01\n",
      "   9.70295726e-01   9.74370065e-01   9.78147601e-01   9.81627183e-01\n",
      "   9.84807753e-01   9.87688341e-01   9.90268069e-01   9.92546152e-01\n",
      "   9.94521895e-01   9.96194698e-01   9.97564050e-01   9.98629535e-01\n",
      "   9.99390827e-01   9.99847695e-01   1.00000000e+00   9.99847695e-01\n",
      "   9.99390827e-01   9.98629535e-01   9.97564050e-01   9.96194698e-01\n",
      "   9.94521895e-01   9.92546152e-01   9.90268069e-01   9.87688341e-01\n",
      "   9.84807753e-01   9.81627183e-01   9.78147601e-01   9.74370065e-01\n",
      "   9.70295726e-01   9.65925826e-01   9.61261696e-01   9.56304756e-01\n",
      "   9.51056516e-01   9.45518576e-01   9.39692621e-01   9.33580426e-01\n",
      "   9.27183855e-01   9.20504853e-01   9.13545458e-01   9.06307787e-01\n",
      "   8.98794046e-01   8.91006524e-01   8.82947593e-01   8.74619707e-01\n",
      "   8.66025404e-01   8.57167301e-01   8.48048096e-01   8.38670568e-01\n",
      "   8.29037573e-01   8.19152044e-01   8.09016994e-01   7.98635510e-01\n",
      "   7.88010754e-01   7.77145961e-01   7.66044443e-01   7.54709580e-01\n",
      "   7.43144825e-01   7.31353702e-01   7.19339800e-01   7.07106781e-01\n",
      "   6.94658370e-01   6.81998360e-01   6.69130606e-01   6.56059029e-01\n",
      "   6.42787610e-01   6.29320391e-01   6.15661475e-01   6.01815023e-01\n",
      "   5.87785252e-01   5.73576436e-01   5.59192903e-01   5.44639035e-01\n",
      "   5.29919264e-01   5.15038075e-01   5.00000000e-01   4.84809620e-01\n",
      "   4.69471563e-01   4.53990500e-01   4.38371147e-01   4.22618262e-01\n",
      "   4.06736643e-01   3.90731128e-01   3.74606593e-01   3.58367950e-01\n",
      "   3.42020143e-01   3.25568154e-01   3.09016994e-01   2.92371705e-01\n",
      "   2.75637356e-01   2.58819045e-01   2.41921896e-01   2.24951054e-01\n",
      "   2.07911691e-01   1.90808995e-01   1.73648178e-01   1.56434465e-01\n",
      "   1.39173101e-01   1.21869343e-01   1.04528463e-01   8.71557427e-02\n",
      "   6.97564737e-02   5.23359562e-02   3.48994967e-02   1.74524064e-02\n",
      "   1.22464680e-16]\n"
     ]
    }
   ],
   "source": [
    "print(y)"
   ]
  },
  {
   "cell_type": "markdown",
   "metadata": {},
   "source": [
    "Now we can plot it; however, first we need to define where the plots will appear. The following command makes the plots appear in the notebook."
   ]
  },
  {
   "cell_type": "code",
   "execution_count": 29,
   "metadata": {
    "collapsed": true
   },
   "outputs": [],
   "source": [
    "%matplotlib inline"
   ]
  },
  {
   "cell_type": "markdown",
   "metadata": {},
   "source": [
    "Now we can plot the function using the <code>plt.plot</code> command:"
   ]
  },
  {
   "cell_type": "code",
   "execution_count": 30,
   "metadata": {
    "collapsed": true
   },
   "outputs": [
    {
     "data": {
      "image/png": "[encoded data removed]",
      "text/plain": [
       "<matplotlib.figure.Figure at 0x1f6da967a20>"
      ]
     },
     "metadata": {},
     "output_type": "display_data"
    }
   ],
   "source": [
    "plt.plot(x,y)\n",
    "plt.xlabel('x')\n",
    "plt.ylabel('$y=\\sin(x)$')\n",
    "plt.title('$\\sin(x)$');"
   ]
  },
  {
   "cell_type": "markdown",
   "metadata": {},
   "source": [
    "#### <span style=\"color: red\"> Task 2:</span> Plot $y=\\cos(x)$ and $y=\\cos^2(x)$ between $-2\\pi$ and $2\\pi$.\n",
    "\n",
    "The figure you obtain should look like this:\n",
    "<figure>\n",
    "<img src=\"Figures/01_T2.jpeg\" width='400'>\n",
    "</figure>"
   ]
  },
  {
   "cell_type": "markdown",
   "metadata": {},
   "source": [
    "### Multidimensional arrays"
   ]
  },
  {
   "cell_type": "markdown",
   "metadata": {},
   "source": [
    "<code>numpy</code> makes it easy to create multidimensional arrays. Here is a 2D array:"
   ]
  },
  {
   "cell_type": "code",
   "execution_count": 32,
   "metadata": {},
   "outputs": [],
   "source": [
    "arrayA=np.array([[1,2,3,4],[2,4,6,8],[4,8,12,16]])"
   ]
  },
  {
   "cell_type": "markdown",
   "metadata": {},
   "source": [
    "Which can be a matrix, for example:"
   ]
  },
  {
   "cell_type": "code",
   "execution_count": 33,
   "metadata": {
    "collapsed": true
   },
   "outputs": [
    {
     "name": "stdout",
     "output_type": "stream",
     "text": [
      "[[ 1  2  3  4]\n",
      " [ 2  4  6  8]\n",
      " [ 4  8 12 16]]\n"
     ]
    }
   ],
   "source": [
    "print(np.matrix(arrayA))"
   ]
  },
  {
   "cell_type": "markdown",
   "metadata": {},
   "source": [
    "Like lists, multidimensional arrays can be indexed and sliced:"
   ]
  },
  {
   "cell_type": "code",
   "execution_count": 34,
   "metadata": {
    "collapsed": true
   },
   "outputs": [
    {
     "name": "stdout",
     "output_type": "stream",
     "text": [
      "8\n"
     ]
    }
   ],
   "source": [
    "print(arrayA[1,3]) #remember indexing starts at 0!"
   ]
  },
  {
   "cell_type": "code",
   "execution_count": 35,
   "metadata": {
    "collapsed": true
   },
   "outputs": [
    {
     "name": "stdout",
     "output_type": "stream",
     "text": [
      "[[ 4  6  8]\n",
      " [ 8 12 16]]\n"
     ]
    }
   ],
   "source": [
    "print(arrayA[1:3,1:4])"
   ]
  },
  {
   "cell_type": "markdown",
   "metadata": {},
   "source": [
    "#### <span style=\"color: red\"> Task 3:</span> Use slicing and indexing to print out individual rows, columns and items of `arrayA`."
   ]
  },
  {
   "cell_type": "markdown",
   "metadata": {},
   "source": [
    "#### Visualizing 2D arrays as matrices"
   ]
  },
  {
   "cell_type": "markdown",
   "metadata": {},
   "source": [
    "We can visualize the 2D array as a matrix using <code>matplotlib</code>. Take arrayA:"
   ]
  },
  {
   "cell_type": "code",
   "execution_count": 37,
   "metadata": {
    "collapsed": true
   },
   "outputs": [
    {
     "name": "stdout",
     "output_type": "stream",
     "text": [
      "[[ 1  2  3  4]\n",
      " [ 2  4  6  8]\n",
      " [ 4  8 12 16]]\n"
     ]
    }
   ],
   "source": [
    "print(arrayA)"
   ]
  },
  {
   "cell_type": "markdown",
   "metadata": {},
   "source": [
    "This matrix can be visualized using the `matshow` function of the `matploltib` module we imported earlier."
   ]
  },
  {
   "cell_type": "code",
   "execution_count": 38,
   "metadata": {
    "collapsed": true
   },
   "outputs": [
    {
     "data": {
      "text/plain": [
       "<matplotlib.colorbar.Colorbar at 0x1f6daf6f0b8>"
      ]
     },
     "execution_count": 38,
     "metadata": {},
     "output_type": "execute_result"
    },
    {
     "data": {
      "image/png": "[encoded data removed]",
      "text/plain": [
       "<matplotlib.figure.Figure at 0x1f6daeaa550>"
      ]
     },
     "metadata": {},
     "output_type": "display_data"
    }
   ],
   "source": [
    "plt.matshow(arrayA, interpolation='none') #we set interpolation to none because the default is linear. Try it out.\n",
    "plt.colorbar() #create colour scale bar"
   ]
  },
  {
   "cell_type": "markdown",
   "metadata": {},
   "source": [
    "#### Array manipulation"
   ]
  },
  {
   "cell_type": "markdown",
   "metadata": {},
   "source": [
    "Arrays can be manipulated in many different ways. One of the important properties of `numpy` arrays is that simple operations are **broadcast** to each item. For example, if you multiply arrays together, each item gets multiplied by the corresponding item in the other array:"
   ]
  },
  {
   "cell_type": "code",
   "execution_count": 39,
   "metadata": {
    "collapsed": true
   },
   "outputs": [
    {
     "name": "stdout",
     "output_type": "stream",
     "text": [
      "[[  1   4   9  16]\n",
      " [  4  16  36  64]\n",
      " [ 16  64 144 256]]\n"
     ]
    }
   ],
   "source": [
    "print(arrayA*arrayA)"
   ]
  },
  {
   "cell_type": "markdown",
   "metadata": {},
   "source": [
    "This is very useful because it saves us having to loop through every item and do an operation on each. So even though arrays look like matrices, they do not multiply like matrices. "
   ]
  },
  {
   "cell_type": "markdown",
   "metadata": {},
   "source": [
    "#### <span style=\"color: red\"> Task 4:</span> The following command produces an error. Why?"
   ]
  },
  {
   "cell_type": "code",
   "execution_count": 40,
   "metadata": {
    "collapsed": true
   },
   "outputs": [
    {
     "ename": "ValueError",
     "evalue": "operands could not be broadcast together with shapes (1,2) (3,4) ",
     "output_type": "error",
     "traceback": [
      "\u001b[0;31m---------------------------------------------------------------------------\u001b[0m",
      "\u001b[0;31mValueError\u001b[0m                                Traceback (most recent call last)",
      "\u001b[0;32m<ipython-input-40-441f0a061c03>\u001b[0m in \u001b[0;36m<module>\u001b[0;34m()\u001b[0m\n\u001b[0;32m----> 1\u001b[0;31m \u001b[0marrayA\u001b[0m\u001b[1;33m[\u001b[0m\u001b[1;36m1\u001b[0m\u001b[1;33m:\u001b[0m\u001b[1;33m-\u001b[0m\u001b[1;36m1\u001b[0m\u001b[1;33m,\u001b[0m\u001b[1;36m1\u001b[0m\u001b[1;33m:\u001b[0m\u001b[1;33m-\u001b[0m\u001b[1;36m1\u001b[0m\u001b[1;33m]\u001b[0m\u001b[1;33m/\u001b[0m\u001b[0marrayA\u001b[0m\u001b[1;33m\u001b[0m\u001b[0m\n\u001b[0m",
      "\u001b[0;31mValueError\u001b[0m: operands could not be broadcast together with shapes (1,2) (3,4) "
     ]
    }
   ],
   "source": [
    "arrayA[1:-1,1:-1]/arrayA"
   ]
  },
  {
   "cell_type": "markdown",
   "metadata": {},
   "source": [
    "Arrays and their efficient use are the bread and butter of scientific computing. Python, with `numpy`, has many useful functions to work with arrays. For example, you can make large arrays by repeatedly placing small arrays using the `tile` function:"
   ]
  },
  {
   "cell_type": "code",
   "execution_count": 41,
   "metadata": {
    "collapsed": true
   },
   "outputs": [],
   "source": [
    "tileA=np.tile(arrayA,(5,5))"
   ]
  },
  {
   "cell_type": "code",
   "execution_count": 42,
   "metadata": {
    "collapsed": true
   },
   "outputs": [
    {
     "data": {
      "text/plain": [
       "(15, 20)"
      ]
     },
     "execution_count": 42,
     "metadata": {},
     "output_type": "execute_result"
    }
   ],
   "source": [
    "np.shape(tileA)"
   ]
  },
  {
   "cell_type": "markdown",
   "metadata": {},
   "source": [
    "You can use <code>matshow</code> to visualise the tiled arrays:"
   ]
  },
  {
   "cell_type": "code",
   "execution_count": 43,
   "metadata": {
    "collapsed": true
   },
   "outputs": [
    {
     "data": {
      "image/png": "[encoded data removed]",
      "text/plain": [
       "<matplotlib.figure.Figure at 0x1f6daeb40b8>"
      ]
     },
     "metadata": {},
     "output_type": "display_data"
    }
   ],
   "source": [
    "plt.matshow(tileA, interpolation='none');"
   ]
  },
  {
   "cell_type": "markdown",
   "metadata": {},
   "source": [
    "Arrays can also be used in calculations:"
   ]
  },
  {
   "cell_type": "code",
   "execution_count": 44,
   "metadata": {
    "collapsed": true
   },
   "outputs": [
    {
     "data": {
      "image/png": "[encoded data removed]",
      "text/plain": [
       "<matplotlib.figure.Figure at 0x1f6dc0038d0>"
      ]
     },
     "metadata": {},
     "output_type": "display_data"
    }
   ],
   "source": [
    "arrayB=np.tan(tileA*np.pi/180)**2\n",
    "plt.matshow(arrayB, interpolation='none');"
   ]
  },
  {
   "cell_type": "markdown",
   "metadata": {},
   "source": [
    "If they are the same size they can be added:"
   ]
  },
  {
   "cell_type": "code",
   "execution_count": 45,
   "metadata": {
    "collapsed": true
   },
   "outputs": [
    {
     "data": {
      "image/png": "[encoded data removed]",
      "text/plain": [
       "<matplotlib.figure.Figure at 0x1f6dc0a7dd8>"
      ]
     },
     "metadata": {},
     "output_type": "display_data"
    }
   ],
   "source": [
    "arrayD=arrayB+tileA+np.ones(np.shape(tileA)) #the ones function creates an array made up of ones\n",
    "plt.matshow(arrayD,interpolation=\"none\")\n",
    "plt.colorbar();"
   ]
  },
  {
   "cell_type": "markdown",
   "metadata": {},
   "source": [
    "#### <span style=\"color: red\"> Task 5:</span>  Use slicing and <code>matshow</code> to plot only the bottom right 3$\\times$4 tile of <code>arrayD</code>.\n",
    "\n",
    "The figure you obtain should look like this:\n",
    "<figure>\n",
    "<img src=\"Figures/01_T5.jpeg\" width='400'>\n",
    "</figure>"
   ]
  },
  {
   "cell_type": "markdown",
   "metadata": {},
   "source": [
    "## Data Analysis"
   ]
  },
  {
   "cell_type": "markdown",
   "metadata": {},
   "source": [
    "Electronic data and computational data analysis are gaining ever increasing importance in study, research and employment in the engineering and science disciplines. Computer simulations and modern experimental apparatus generate data in huge volumes and we often need to find automated ways of extracting information from this mass of data, and polished ways of presenting this infomation clearly.\n",
    "\n",
    "There are many ready-made tools to help you analyse data, but what if you want to do something a bit different, like look at the data in a new way or develop a new style of presentation? Knowing how to program and script with a general-purpose language like Python will give you huge flexibility in how you handle data and free you from the restrictions that fixed packages place on what you can do and discover.\n",
    "\n",
    "In this section, we will look at ways to use Python to read in, analyse and then visualise some different types of data. Along the way we will introduce (or remind you of) some important statistical tools that every scientist and engineer should have at their disposal."
   ]
  },
  {
   "cell_type": "markdown",
   "metadata": {},
   "source": [
    "### Reading data from a file "
   ]
  },
  {
   "cell_type": "markdown",
   "metadata": {},
   "source": [
    "Though you may sometimes enter data directly into a Python script or notebook, it is likely that you will often want to deal with a large amount of data in a file. Here we will look at some useful ways of reading such files and getting the data into a nice form for manipulation and analysis within Python.\n",
    "\n",
    "Throughout this part of the tutorial, we will assume that we are dealing with files in a format that we already know. It is also possible to use all sorts of tricks and conditional code to write Python functions that will automatically detect file formats, but that is beyond the scope of this course."
   ]
  },
  {
   "cell_type": "markdown",
   "metadata": {},
   "source": [
    "#### Reading data into an array - the easy way"
   ]
  },
  {
   "cell_type": "markdown",
   "metadata": {},
   "source": [
    "The file we are going to work with first is `Data/test_data.txt`. Take a look at the contents by opening it up in a text editor such as Notepad - it just contains a small amount of toy data.  \n",
    "\n",
    "The easy way to get data from a file into a numpy array is to use the `loadtxt()` function from numpy:"
   ]
  },
  {
   "cell_type": "code",
   "execution_count": 47,
   "metadata": {
    "collapsed": true
   },
   "outputs": [
    {
     "name": "stdout",
     "output_type": "stream",
     "text": [
      "[[ 1.    3.43  3.56]\n",
      " [ 2.    5.32  4.54]\n",
      " [ 3.    4.32  1.94]]\n"
     ]
    }
   ],
   "source": [
    "myDataArray = np.loadtxt('Data/test_data.txt', skiprows=1)\n",
    "print(myDataArray)"
   ]
  },
  {
   "cell_type": "markdown",
   "metadata": {},
   "source": [
    "The <code>loadtxt()</code> function is part of <code>numpy</code>, so we need to ask for it as np.loadtxt(). This function needs to know the name and location of the file that we want to read and so we pass this information to the function in the first argument. The location of the file is specified relative to the notebook that we are working on. There is a folder named 'Data' in the same location as this notebook, which contains our test data.\n",
    "\n",
    "Notice how we were able to ask `loadtxt()` to skip the first row of the file using the second argument to the function. If you take a look at the contents of the file then you will see why we needed to do this.\n",
    "\n",
    "For our first exercise we would also like to exclude the first column of data from the file when we load it, i.e. we want to just read the second and third columns. "
   ]
  },
  {
   "cell_type": "markdown",
   "metadata": {},
   "source": [
    "#### <span style=\"color: red\"> Task 6:</span> Read in only the second and third columns\n",
    "There are other options for the `loadtxt()` function. Have a look in the documentation to see what else it can do. \n",
    "\n",
    "Now try using `loadtxt()` to read in the contents of our file but this time include only the second and third columns (Hint: remember how Python indices work!). "
   ]
  },
  {
   "cell_type": "markdown",
   "metadata": {},
   "source": [
    "### Interactive data analysis "
   ]
  },
  {
   "cell_type": "markdown",
   "metadata": {},
   "source": [
    "Let's take a look at some real data taken from some research performed in the School of Materials at the University of Manchester:\n",
    "\n",
    "<figure>\n",
    "<img src=\"Figures/zr_corrosion_figure.png\" width='400'>\n",
    "<figcaption>Figure: Autoclave corrosion weight gain profile of recrystallized ZIRLO after 180 days of autoclave exposure. From: Wei et al. 2013, Acta Materialia 61:4200.</figcaption>\n",
    "</figure>"
   ]
  },
  {
   "cell_type": "markdown",
   "metadata": {},
   "source": [
    "These are data for the oxide thickness (measured via a gain in weight) on a sample of zirconium alloy (used in nuclear fuel rods) in an autoclave. The data used to produce this figure in the paper are in the file <code>Data/zr_corrosion.txt</code>. The file looks like this (take a look at the file in a text editor):\n",
    "\n",
    "\\#Exposure Weight_gain  \n",
    "21.1927, 14.636  \n",
    "20.8716, 16.7292  \n",
    "4.8165, 8.568  \n",
    "10.5963, 12.4509  \n",
    "..."
   ]
  },
  {
   "cell_type": "markdown",
   "metadata": {},
   "source": [
    "#### <span style=\"color: red\"> Task 7:</span> Read in the corrosion data\n",
    "Use `loadtxt()` to read the data from the text file into a numpy array called `myDataArray`. (Hint: you will need to specify the 'delimiter' as a comma. Take a look at the documentation for loadtxt() to find out how to do this. If you don't know what is meant by 'delimiter' then google 'file delimiter' and have a look at the results.)"
   ]
  },
  {
   "cell_type": "markdown",
   "metadata": {},
   "source": [
    "#### Checking the data "
   ]
  },
  {
   "cell_type": "markdown",
   "metadata": {},
   "source": [
    "Now we will plot the data just to check that it looks right:"
   ]
  },
  {
   "cell_type": "code",
   "execution_count": 50,
   "metadata": {
    "collapsed": true
   },
   "outputs": [
    {
     "data": {
      "image/png": "[encoded data removed]",
      "text/plain": [
       "<matplotlib.figure.Figure at 0x1f6daebfdd8>"
      ]
     },
     "metadata": {},
     "output_type": "display_data"
    }
   ],
   "source": [
    "import matplotlib.pyplot as plt\n",
    "%matplotlib inline\n",
    "plt.plot(myDataArray[:,0],myDataArray[:,1], 'bo')\n",
    "plt.xlabel('Exposure (days)')\n",
    "plt.ylabel('Oxidation weight gain (mg/dm$^2$)');"
   ]
  },
  {
   "cell_type": "markdown",
   "metadata": {},
   "source": [
    "Notice how easy it is to create an attractive plot. We simply import the plotting package, specify that we want plots to appear within our notebook ('inline') and then ask for a plot of the data, specifiying a few options for formatting. Make sure that you understand what the `plot` function is doing. The first two arguments are the $x$ and $y$ values that we want to plot. These are the two columns of the array that we read the data into and we select them individually using array slicing. What do you think the third argument, `'bo'` is telling `plot()` to do? Have a read of the documentation and try a few different values (how about `'ro'` or `'b-'`?)."
   ]
  },
  {
   "cell_type": "markdown",
   "metadata": {},
   "source": [
    "#### Fitting a model to the data"
   ]
  },
  {
   "cell_type": "markdown",
   "metadata": {},
   "source": [
    "One thing that we often need to do with raw data is to fit a curve to it, either to check if the data conform to a physical model of a process or to extract some empirical fitting parameters (or perhaps just to generate a best fit line as a guide for the eye of the viewer). In the case of our corrosion data, we expect the weight gain to vary with exposure as a power law. We will now test this by attempting to fit the following relationship to the data:\n",
    "\n",
    "$$W = (aT)^k$$\n",
    "\n",
    "where $W$ is the weight gain in mg/dm$^2$, $T$ is the exposure time in days and $a$ and $k$ are our fitting parameters.\n",
    "\n",
    "Fortunately, scientific python (SciPy), and particularly the <code>optimize</code> package, has a lot of useful tools for curve fitting. There are some specifically for fitting certain functions, e.g. polynomials, but we will use the general functionality in <code>curve_fit</code> because it is very flexible.\n",
    "\n",
    "Start by importing the package that we need:"
   ]
  },
  {
   "cell_type": "code",
   "execution_count": 51,
   "metadata": {
    "collapsed": true
   },
   "outputs": [],
   "source": [
    "from scipy.optimize import curve_fit"
   ]
  },
  {
   "cell_type": "markdown",
   "metadata": {},
   "source": [
    "How did we know to import this package? How do we know that the curve fitting tools are in the <code>optimize</code> package as part of <code>scipy</code>? The truth is, that when you are programming you will often need to turn to the Internet to work out how to do something. When I was writing this notebook I had never heard of the <code>optimize</code> package, but I figured that Python would have *some* sort of tool for curve fitting. So I just googled something like 'Python curve fitting' and looked at what came back. Sure enough, there were some simple examples of how to fit a curve with Python, so I took those and adapted them, below."
   ]
  },
  {
   "cell_type": "markdown",
   "metadata": {},
   "source": [
    "Next we need to define a function which holds the form of our model:"
   ]
  },
  {
   "cell_type": "code",
   "execution_count": 52,
   "metadata": {
    "collapsed": true
   },
   "outputs": [],
   "source": [
    "def model(T, a, k):\n",
    "    return (a*T)**k"
   ]
  },
  {
   "cell_type": "markdown",
   "metadata": {},
   "source": [
    "The function that we define is a piece of computational machinery. It takes in three values (which we choose to call `T`, `a` and `k`) and returns a value which is `a` multiplied by `T`, all to the power `k`."
   ]
  },
  {
   "cell_type": "markdown",
   "metadata": {},
   "source": [
    "Looking at the plot above, it is clear that only the first part of the data will conform to our model so we only want to fit the first part of the data, up to around 150 days of exposure. 150 days corresponds to around the 36th data point, so we'll now copy part of the full dataset into a couple of separate arrays for exposure time $T$ and weight gain $W$:"
   ]
  },
  {
   "cell_type": "code",
   "execution_count": 53,
   "metadata": {
    "collapsed": true
   },
   "outputs": [],
   "source": [
    "T = myDataArray[0:35,0]\n",
    "W = myDataArray[0:35,1]"
   ]
  },
  {
   "cell_type": "markdown",
   "metadata": {},
   "source": [
    "If you are not confident about what we did above, just add another cell in the notebook and print out the new arrays T and W to look at what is inside. Now we will use <code>curve_fit</code> to fit our model to the data:"
   ]
  },
  {
   "cell_type": "code",
   "execution_count": 54,
   "metadata": {
    "collapsed": true
   },
   "outputs": [],
   "source": [
    "popt, pcov = curve_fit(model, T, W)"
   ]
  },
  {
   "cell_type": "markdown",
   "metadata": {},
   "source": [
    "Take a look at the documentation for <code>curve_fit()</code> (or google some examples of its use). The first argument is the functional form that we want to fit (remember that we have stored this in our function <code>model(T,a,k)</code>). The second argument is the data for our independent (input) variable that we want to fit, in this case our array of times. Note that we need to have set up our function so that the independent variable is the first argument. The third argument of <code>curve_fit()</code> is the data for the dependent (output) variable, in this case our array of oxide weight gains.\n",
    "\n",
    "The <code>curve_fit()</code> function will now work out the best values of the other arguments ($a$ and $k$) in our <code>model()</code> function to fit the data for $W$ and $T$ that we have provided.\n",
    "\n",
    "<code>curve_fit()</code> returns two `numpy` arrays and this is why we have put the names of two variables (separated by a comma) on the left of the equals sign above. The first, which we have assigned to the variable <code>popt</code> contains the optimised values of our model parameters (in this case $a$ and $k$). The second contains the covariance matrix for the raw data and the model (we can ignore this for our purposes, but you could use these values to judge the quality of your fit to the data). Let's have a look at the contents of the array <code>popt</code>: "
   ]
  },
  {
   "cell_type": "code",
   "execution_count": 55,
   "metadata": {
    "collapsed": true
   },
   "outputs": [
    {
     "name": "stdout",
     "output_type": "stream",
     "text": [
      "[ 153.79171056    0.34251377]\n"
     ]
    }
   ],
   "source": [
    "print(popt)"
   ]
  },
  {
   "cell_type": "markdown",
   "metadata": {},
   "source": [
    "These are the best-fit values of $a$ and $k$, respectively. We can visualise the results of our fitting by generating some data using the model and the optimised parameters from `popt` and then plotting it on the same chart as the raw data:"
   ]
  },
  {
   "cell_type": "code",
   "execution_count": 56,
   "metadata": {
    "collapsed": true
   },
   "outputs": [
    {
     "data": {
      "image/png": "[encoded data removed]",
      "text/plain": [
       "<matplotlib.figure.Figure at 0x1f6dc585358>"
      ]
     },
     "metadata": {},
     "output_type": "display_data"
    }
   ],
   "source": [
    "exposure=np.linspace(0,160,161)\n",
    "weightfit=model(exposure,popt[0],popt[1])\n",
    "plt.plot(myDataArray[:,0],myDataArray[:,1], 'bo')\n",
    "plt.plot(exposure,weightfit, 'r')\n",
    "plt.xlabel('Exposure (days)')\n",
    "plt.ylabel('Oxidation weight gain (mg/dm$^2$)');"
   ]
  },
  {
   "cell_type": "markdown",
   "metadata": {},
   "source": [
    "Think carefully about what the above code does. Add extra cells to examine the contents of the new variables (<code>exposure</code> and <code>weightfit</code>) that we have created. <code>exposure</code> is simply a numpy array containing a range of values to represent different oxidation times. We then pass this array of times to our <code>model()</code> function and also specify the values of $a$ and $k$ using the values in <code>popt</code> that we got from <code>curve_fit</code>. We assign these predictions for the weight gain to the array <code>weightfit</code>. The rest of the code above simply replots the raw data as blue points and then plots our predictions based on the best fit model as a red line."
   ]
  },
  {
   "cell_type": "markdown",
   "metadata": {},
   "source": [
    "#### <span style=\"color: red\"> Task 8:</span> Find a best-fit parabolic relationship\n",
    "If the oxide scale forming on the Zr surface was completely protective, then we would expect a parabolic relationship between weight gain $W$ and time $T$:\n",
    "\n",
    "$$ W^2 = a T \\qquad $$\n",
    "\n",
    "This is similar to the relationship that we fitted above, but with the constraint that $k=1/2$.\n",
    "\n",
    "Repeat the fitting procedure above to find the best-fit value of $a$ for a parabolic relationship. Plot your fitted relationship and the experimental data on a single plot and comment on the result.\n",
    "\n",
    "The figure you obtain should look like this:\n",
    "<figure>\n",
    "<img src=\"Figures/01_T8.jpeg\" width='400'>\n",
    "</figure>"
   ]
  },
  {
   "cell_type": "markdown",
   "metadata": {},
   "source": [
    "The square root fit appears to underestimate the first part of the data and overestimate the latter half, so perhaps the Zr surface is not completely protective!"
   ]
  },
  {
   "cell_type": "markdown",
   "metadata": {},
   "source": [
    "### Errors and statistics"
   ]
  },
  {
   "cell_type": "markdown",
   "metadata": {},
   "source": [
    "Materials science is an experimental science and so we need to know how to make quantitative statements about our data. This means that we need to understand how to calculate such important parameters as the:\n",
    "* mean,\n",
    "* standard deviation, and\n",
    "* standard error\n",
    "\n",
    "of a dataset. We'll look at each of these in turn now:"
   ]
  },
  {
   "cell_type": "markdown",
   "metadata": {},
   "source": [
    "#### Basic statistics"
   ]
  },
  {
   "cell_type": "markdown",
   "metadata": {},
   "source": [
    "Let's assume that we have a sample of measurements of some physical quantity. To take a specific example, imagine we have used a nano-indenter to determine the hardness of a series of grains in a polycrystalline sample. Let's denote these hardness measurements $h_i$ where $i$ runs from 1 to $N$, the number of samples we have taken:\n",
    "\n",
    "$$\\{ h_i \\}_{i=1}^{N} = \\{h_1, h_2, \\dots h_{N-1}, h_{N} \\} .$$\n",
    "\n",
    "This is our *sample*. Most often we are not interested directly in our sample, so much as in what our sample can tell us about the *population* from which it is drawn. So in our example, we might want to know the average hardness of a grain in our material, but we can only afford to sample the hardness of $N$ grains. How do we use our specific sample to tell us something about the material in general? \n",
    "\n",
    "#### Mean\n",
    "\n",
    "As far as the mean is concerned, things are quite straightforward. The mean of the sample (the *sample mean*) is as good an estimator of the *population mean* as we can get - it is an *unbiased estimator*. The mean of our sample is defined as:\n",
    "\n",
    "$$\n",
    " \\bar{h}  = \\frac{1}{N}\\sum_{i=1}^{N} h_i,\n",
    "$$\n",
    "\n",
    "where $ \\bar{h}$ denotes the mean of $h$. \n",
    "\n",
    "#### Standard deviation\n",
    "\n",
    "So we have now estimated the mean hardness of a grain, but what about the variability in hardness? Do all the grains in our material have a hardness very close to the mean value or is there a large spread? A useful measure of the spead of values in our sample is the *standard deviation*:\n",
    "\n",
    "$$\n",
    "s_{\\mathrm{sample}} = \\sqrt{\\frac{1}{N}\\sum_{i=1}^N(h_i-\\bar{h})^2}.\n",
    "$$\n",
    "\n",
    "This is the *sample standard deviation* and it is a measure of how widely the hardness varies in our *sample*. But what about the values of hardness for the whole material? Is the *sample* standard deviation a good estimator for the *population* standard deviation? If $N$ is large enough then the answer is yes, but for $N \\lesssim 100$, $s_{\\mathrm{sample}}$ tends to underestimate the population standard deviation: $s_{\\mathrm{sample}}$ is a *biased* estimator for $s_{\\mathrm{population}}$. Correcting this bias completely is a challenging problem, but we can obtain a better estimate of the variability in the population by using the following statistic (known as the *corrected sample standard deviation*):\n",
    "\n",
    "$$\n",
    "s_{\\mathrm{corrected}} = \\sqrt{\\frac{1}{N-1}\\sum_{i=1}^N(h_i-\\bar{h})^2}.\n",
    "$$\n",
    "\n",
    "#### Standard error\n",
    "\n",
    "We said above that the *sample mean* is an unbiased estimator of the *population mean*, but how good is this estimate? If we had taken only a small sample of grains (small $N$) then there is a significant chance that we have not got a representative sample: we might, for example, have sampled mostly only unusually hard grains. As $N$ increases we will tend to get a more representative sample, but it would be useful to have an estimate of how much the mean of a small sample might vary from the true mean of the population as a whole. This is given by the *standard error of the mean*:\n",
    "\n",
    "$$\n",
    "\\mathrm{SE} = \\frac{s_{\\mathrm{sample}}}{\\sqrt{N}}.\n",
    "$$\n",
    "\n",
    "Now there is an important caveat to the above, which is to *remember to think* at all times when working with statistics: don't just blithely apply the formulae! For example, a collosally large number of samples $N$ is not a guarantee that you have a representative sample of your material. You need to think like a scientist and consider, for example, other sources of bias than pure statisitics. What if your ten-thousand hardness data all came from the heat affected zone of a weld of your material rather than being representative of the bulk?\n",
    "\n",
    "#### Standard error vs standard deviation\n",
    "\n",
    "The difference between standard error and standard deviation can be confusing, because of the similar names and similar formulae, but you do need to know the difference. The standard *deviation* tells us something about the spread of values (in our case the values of hardness) in our sample as an estimate of this spread in the population. The standard *error* tells us how the mean of a small sample of values would be spread around the true value of the mean of the population. If we are using our sample of values to estimate the mean value of e.g. hardness for the population, then it is the standard error that we should use as an error bar in the estimate of the mean.\n",
    "\n",
    "Maybe this all still seems a little obscure. Let's use Python to play with some of these ideas...."
   ]
  },
  {
   "cell_type": "markdown",
   "metadata": {},
   "source": [
    "#### Exploring statistics with Python "
   ]
  },
  {
   "cell_type": "markdown",
   "metadata": {},
   "source": [
    "In this section we will use Python to generate samples of hardness measurements from an imaginary population of grains with a well defined mean hardness and standard deviation. Let's assume that the mean hardness is 10.0 (population mean) and that the hardness of the grains is normally distributed (look up the normal distribution if you have forgotten what it is) about this mean with a standard deviation of 2.0 (population standard deviation) (let's not worry about units, for once). We can generate a single sample from this population using the following command:"
   ]
  },
  {
   "cell_type": "code",
   "execution_count": 58,
   "metadata": {
    "collapsed": true
   },
   "outputs": [
    {
     "data": {
      "text/plain": [
       "9.99918617661658"
      ]
     },
     "execution_count": 58,
     "metadata": {},
     "output_type": "execute_result"
    }
   ],
   "source": [
    "popMean = 10.0\n",
    "popSD = 2.0\n",
    "np.random.normal(popMean,popSD)"
   ]
  },
  {
   "cell_type": "markdown",
   "metadata": {},
   "source": [
    "You'll get a different value every time you execute the above cell. Now let's simulate an experiment in which we undertake a hardness measurement on ten randomly selected grains. This will give us a sample of ten hardness measurements:"
   ]
  },
  {
   "cell_type": "code",
   "execution_count": 59,
   "metadata": {
    "collapsed": true
   },
   "outputs": [
    {
     "name": "stdout",
     "output_type": "stream",
     "text": [
      "[  9.16969837   6.93937643  10.18977297  12.52188311   9.00876731\n",
      "   9.22407507  13.59270769   8.75248557  12.72994131  10.84133248]\n"
     ]
    }
   ],
   "source": [
    "N = 10 # Number of measurments in sample\n",
    "sample = np.random.normal(popMean,popSD,N)\n",
    "print(sample)"
   ]
  },
  {
   "cell_type": "markdown",
   "metadata": {},
   "source": [
    "Notice that we can automatically generate multiple measurements with the final optional argument to <code>random.normal()</code>."
   ]
  },
  {
   "cell_type": "markdown",
   "metadata": {},
   "source": [
    "#### <span style=\"color: red\"> Task 9:</span> Calculate basic statistics for your sample\n",
    "Now calculate the mean, sample standard deviation, corrected sample standard deviation and the standard error based on the above sample of ten observations. (Hint: obviously you do not yet know the names of the Python functions that will do this - try having a guess at their names and googling, e.g. 'numpy mean')"
   ]
  },
  {
   "cell_type": "markdown",
   "metadata": {},
   "source": [
    "Now, each of you will have ended up with a different random sample. Some of you will find that your sample statistics are over-estimates of the mean and standard deviation of the population and some of you will find that they are under-estimates. This sort of variation is typical of small sample sizes."
   ]
  },
  {
   "cell_type": "markdown",
   "metadata": {},
   "source": [
    "#### <span style=\"color: red\"> Task 10:</span> Calculate basic statistics for a much larger sample\n",
    "Repeat the above exercise but with a large value of $N$, say $N=10000$."
   ]
  },
  {
   "cell_type": "markdown",
   "metadata": {},
   "source": [
    "You should now find that your sample mean is very close to the population mean (and your standard error should be small, because a large sample is unlikely to have much spread in the sample mean). You should also find that both the sample standard deviation and the corrected sample standard deviation are very close to the true population standard deviation (and they will be very close to each other because $\\sqrt{N/(N-1)}$ is very close to 1 for large $N$).\n",
    "\n",
    "Let's explore this some more:"
   ]
  },
  {
   "cell_type": "markdown",
   "metadata": {},
   "source": [
    "#### <span style=\"color: red\"> Task 11:</span> Explore the behaviour of a sample with changing sample size\n",
    "In the cell below is some Python code to generate a random sample and then plot a histogram of the data. The true population distribution is shown for comparison. Try varying the sample size $N$ and observe how the output changes."
   ]
  },
  {
   "cell_type": "code",
   "execution_count": 62,
   "metadata": {
    "collapsed": true
   },
   "outputs": [
    {
     "name": "stdout",
     "output_type": "stream",
     "text": [
      "Mean = 10.5789995462\n",
      "Sample SD = 1.75740137734\n",
      "Corrected SD = 1.80305576908\n",
      "Std Error = 0.392966894349\n"
     ]
    },
    {
     "data": {
      "image/png": "[encoded data removed]",
      "text/plain": [
       "<matplotlib.figure.Figure at 0x1f6dc8a75c0>"
      ]
     },
     "metadata": {},
     "output_type": "display_data"
    }
   ],
   "source": [
    "import matplotlib.mlab as mlab\n",
    "N = 20\n",
    "sample = np.random.normal(popMean,popSD,N)\n",
    "n, bins, patches = plt.hist(sample, 50, normed=1, range=(0,20), facecolor='green', alpha=0.5)\n",
    "y = mlab.normpdf( bins, popMean, popSD)\n",
    "l = plt.plot(bins, y, 'r', linewidth=2)\n",
    "print(\"Mean = \" + str(np.mean(sample)))\n",
    "print(\"Sample SD = \" + str(np.std(sample)))\n",
    "print(\"Corrected SD = \" + str(np.std(sample)*np.sqrt(N/(N-1))))\n",
    "print(\"Std Error = \" + str(np.std(sample)/np.sqrt(N)))"
   ]
  },
  {
   "cell_type": "markdown",
   "metadata": {},
   "source": [
    "#### Sample vs population statistics"
   ]
  },
  {
   "cell_type": "markdown",
   "metadata": {},
   "source": [
    "Just to hammer home the point about the differences between the sample statistics and the population statistics for which we use them as estimates, let's use Python to simulate the taking of many small samples from our population, then calculate the sample statistics for each sample and see how they are distributed. Let's go for 1000 samples of $N=10$:"
   ]
  },
  {
   "cell_type": "code",
   "execution_count": 63,
   "metadata": {
    "collapsed": true
   },
   "outputs": [],
   "source": [
    "N = 10 #number of observations in each sample\n",
    "nSamples = 1000 #number of samples\n",
    "sample = np.random.normal(popMean,popSD,(N,nSamples))\n",
    "means = np.mean(sample,0)\n",
    "stds = np.std(sample,0)\n",
    "cstds = np.std(sample,0)*np.sqrt(N/(N-1))\n",
    "stderrs = np.std(sample,0)*np.sqrt(1/N)"
   ]
  },
  {
   "cell_type": "markdown",
   "metadata": {},
   "source": [
    "First let's look at the distribution of the sample means:"
   ]
  },
  {
   "cell_type": "code",
   "execution_count": 64,
   "metadata": {
    "collapsed": true
   },
   "outputs": [
    {
     "data": {
      "image/png": "[encoded data removed]",
      "text/plain": [
       "<matplotlib.figure.Figure at 0x1f6dc885cf8>"
      ]
     },
     "metadata": {},
     "output_type": "display_data"
    }
   ],
   "source": [
    "n, bins, patches = plt.hist(means, 50, normed=1, facecolor='green', alpha=0.75)"
   ]
  },
  {
   "cell_type": "markdown",
   "metadata": {},
   "source": [
    "Notice that the sample means are distributed around the true population mean - the sample mean is an unbiased estimator for the population mean. We can calculate the mean and standard deviation of the sample means across our multiple samples:"
   ]
  },
  {
   "cell_type": "code",
   "execution_count": 65,
   "metadata": {
    "collapsed": true
   },
   "outputs": [
    {
     "name": "stdout",
     "output_type": "stream",
     "text": [
      "Mean of sample means = 9.98937245485\n",
      "Std Dev of sample means = 0.626658055022\n"
     ]
    }
   ],
   "source": [
    "print('Mean of sample means = ' + str(np.mean(means)))\n",
    "print('Std Dev of sample means = ' + str(np.std(means)))"
   ]
  },
  {
   "cell_type": "markdown",
   "metadata": {},
   "source": [
    "It is the standard deviation of the sample means that the standard error is supposed to provide an estimate of. In fact, if we take the mean value of the standard errors from each of our 1000 samples of $N=10$ observations then we get:"
   ]
  },
  {
   "cell_type": "code",
   "execution_count": 66,
   "metadata": {
    "collapsed": true
   },
   "outputs": [
    {
     "name": "stdout",
     "output_type": "stream",
     "text": [
      "Mean of Std Errors = 0.582473042456\n"
     ]
    }
   ],
   "source": [
    "print('Mean of Std Errors = ' + str(np.mean(stderrs)))"
   ]
  },
  {
   "cell_type": "markdown",
   "metadata": {},
   "source": [
    "which is pretty close to the standard deviation of the sample means found above.\n",
    "\n",
    "Finally, let's examine the mean values across all samples for the sample standard deviation and the corrected sample standard deviation:"
   ]
  },
  {
   "cell_type": "code",
   "execution_count": 67,
   "metadata": {
    "collapsed": true
   },
   "outputs": [
    {
     "name": "stdout",
     "output_type": "stream",
     "text": [
      "Mean of Std Devs = 1.84194148981\n",
      "Mean of Corrected Std Devs = 1.94157680819\n"
     ]
    }
   ],
   "source": [
    "print('Mean of Std Devs = ' + str(np.mean(stds)))\n",
    "print('Mean of Corrected Std Devs = ' + str(np.mean(cstds)))"
   ]
  },
  {
   "cell_type": "markdown",
   "metadata": {},
   "source": [
    "Notice that the sample standard deviation on average tends to underestimate the population standard deviation, whereas the corrected standard deviation is a better estimate (as intended)."
   ]
  },
  {
   "cell_type": "markdown",
   "metadata": {},
   "source": [
    "#### Formatting output using Python"
   ]
  },
  {
   "cell_type": "markdown",
   "metadata": {},
   "source": [
    "In this section, we'll show you how to use text formatting commands to write some output to the screen in an easier-to-read format. We'll then also give a demonstration of how to write data to a file. We need something to work with so let's use the following data:\n",
    "\n",
    "<figure>\n",
    "<img src=\"Figures/pores_unstrained.png\" width='150'>\n",
    "<figcaption>Figure: Diameters of two random samples of pores in a metal foam</figcaption>\n",
    "</figure>\n",
    "\n",
    "These data are contained in the file `pores_unstrained.txt` in the `Data` folder (you could take a look at the format using a text editor):"
   ]
  },
  {
   "cell_type": "code",
   "execution_count": 68,
   "metadata": {},
   "outputs": [],
   "source": [
    "sampleA = np.loadtxt('Data/pores_unstrained.txt', delimiter=',', usecols=(0,))\n",
    "sampleB = np.loadtxt('Data/pores_unstrained.txt', delimiter=',', usecols=(1,))"
   ]
  },
  {
   "cell_type": "markdown",
   "metadata": {},
   "source": [
    "<code>numpy</code> has all the basic statistical measures built in: mean, variance and standard deviation are all easily available. \n",
    "\n",
    "Since you are getting the hang of this now, I'm going to show you the use of all these functions at once and show how to display the results in a neatly formatted way.\n",
    "\n",
    "Formatting output in Python is relatively simple and you can use the same approach for formatting output to the screen and to a file."
   ]
  },
  {
   "cell_type": "code",
   "execution_count": 69,
   "metadata": {
    "scrolled": true
   },
   "outputs": [
    {
     "name": "stdout",
     "output_type": "stream",
     "text": [
      "        Column A        Column B\n",
      "        --------        --------\n",
      "            5.62            4.61\n"
     ]
    }
   ],
   "source": [
    "titleA = 'Column A'\n",
    "data1A = 5.62\n",
    "\n",
    "print(titleA.rjust(16) + 'Column B'.rjust(16))\n",
    "print('--------'.rjust(16) + '--------'.rjust(16))\n",
    "print(str(data1A).rjust(16) + str(4.61).rjust(16))"
   ]
  },
  {
   "cell_type": "markdown",
   "metadata": {},
   "source": [
    "I hope some of the example above is self explanatory. Note the following:\n",
    "- The + operator acts on strings to concatenate them\n",
    "- <code>rjust()</code> right aligns a string and pads with spaces to the specified width\n",
    "- Strings or variables of string type can be printed directly and directly operated on by <code>rjust</code>\n",
    "- Numerical variables or values need to be converted to strings first using <code>str()</code>\n",
    "\n",
    "Now to calculate some statistics."
   ]
  },
  {
   "cell_type": "code",
   "execution_count": 70,
   "metadata": {
    "collapsed": true
   },
   "outputs": [
    {
     "name": "stdout",
     "output_type": "stream",
     "text": [
      "                        Sample A        Sample B\n",
      "    ------------    ------------    ------------\n",
      "            Mean    40.725491205    45.853126917\n",
      "        Variance   13.6117246398   34.1416540674\n",
      "   Standard Dev.   3.68940708513   5.84308600548\n",
      "     Sample size              10              10\n"
     ]
    }
   ],
   "source": [
    "print(''.rjust(16) + 'Sample A'.rjust(16) + 'Sample B'.rjust(16))\n",
    "print('------------'.rjust(16) + '------------'.rjust(16) + '------------'.rjust(16))\n",
    "print('Mean'.rjust(16) + str(np.mean(sampleA)).rjust(16) + str(np.mean(sampleB)).rjust(16))\n",
    "print('Variance'.rjust(16) + str(np.var(sampleA)).rjust(16) + str(np.var(sampleB)).rjust(16))\n",
    "print('Standard Dev.'.rjust(16) + str(np.std(sampleA)).rjust(16) + str(np.std(sampleB)).rjust(16))\n",
    "print('Sample size'.rjust(16) + str(len(sampleA)).rjust(16) + str(len(sampleB)).rjust(16))"
   ]
  },
  {
   "cell_type": "markdown",
   "metadata": {},
   "source": [
    "#### Writing data to a file"
   ]
  },
  {
   "cell_type": "markdown",
   "metadata": {},
   "source": [
    "We can use exactly the same approach to write this data to a file. First we open the file and assign it to a variable (but note that this time we use a 'w' flag for \"write\" rather than an 'r' flag):"
   ]
  },
  {
   "cell_type": "code",
   "execution_count": 71,
   "metadata": {},
   "outputs": [],
   "source": [
    "myFile = open('Output/basic_stats.txt', 'w')"
   ]
  },
  {
   "cell_type": "markdown",
   "metadata": {},
   "source": [
    "The variable name <code>myFile</code> now refers to the file that we have opened. Now we simply write to that file!"
   ]
  },
  {
   "cell_type": "code",
   "execution_count": 72,
   "metadata": {
    "collapsed": true
   },
   "outputs": [],
   "source": [
    "myFile.write(''.rjust(16) + 'Sample A'.rjust(16) + 'Sample B'.rjust(16) + '\\n')\n",
    "myFile.write('------------'.rjust(16) + '------------'.rjust(16) + '------------'.rjust(16) + '\\n')\n",
    "myFile.write('Mean'.rjust(16) + str(np.mean(sampleA)).rjust(16) + str(np.mean(sampleB)).rjust(16) + '\\n')\n",
    "myFile.write('Variance'.rjust(16) + str(np.var(sampleA)).rjust(16) + str(np.var(sampleB)).rjust(16) + '\\n')\n",
    "myFile.write('Standard Dev.'.rjust(16) + str(np.std(sampleA)).rjust(16) + str(np.std(sampleB)).rjust(16) + '\\n')\n",
    "myFile.write('Sample size'.rjust(16) + str(len(sampleA)).rjust(16) + str(len(sampleB)).rjust(16) + '\\n')\n",
    "\n",
    "myFile.close()"
   ]
  },
  {
   "cell_type": "markdown",
   "metadata": {},
   "source": [
    "I used almost the same code as for printing to the screen, but instead I used the `write()` method of my file object. Note also that I needed to explicitly add a newline character '\\n' to the end of each line. Use a text editor to take a look at the file that you have just written and make sure that it contains what you expect.\n",
    "\n",
    "Finally, note that I remembered to close the file when I was done. Take a look at the file you have written and check that it contains what you expected."
   ]
  },
  {
   "cell_type": "markdown",
   "metadata": {},
   "source": [
    "## Optional Extension Exercises"
   ]
  },
  {
   "cell_type": "markdown",
   "metadata": {},
   "source": [
    "#### <span style=\"color: red\"> Task 12:</span> Define a function $f(x)$ that outputs the value of $ax^2+bx+c$ for any values of $a$, $b$ and $c$.\n",
    "Use the function to plot $x^2+2x-3$ for $-5<x<5$."
   ]
  },
  {
   "cell_type": "markdown",
   "metadata": {},
   "source": [
    "#### <span style=\"color: red\"> Task 13:</span> Define a function $g(t)$ such that $$g(t)=\\left\\{\\begin{array}{cc}a(e^{bt}-1) & t<t_0,\\\\ a(e^{bt_0}-1)+c(e^{-dt}-e^{-dt_0}) & t\\ge t_0\\end{array}\\right.$$ for any values of $a$, $b$, $c$, $d$ and $t_0$.\n",
    "Plot the function for $a=1.5$, $b=0.02$, $c=40$, $d=0.005$, $t_0=150$ for $0<t<5$. \n",
    "\n",
    "Hint: You might want to look up `np.piecewise`."
   ]
  },
  {
   "cell_type": "markdown",
   "metadata": {},
   "source": [
    "#### <span style=\"color: red\"> Task 14:</span> Import and view some more experimental data.\n",
    "In the `Data` folder, there is a file called `bladder_data.txt` that contains some mechanical test data that is currently being modelled here at the University of Manchester. A mouse bladder was filled with water and then held at a fixed volume as the pressure was recorded as a function of time to observe the stress relaxation that took place. Import this data and plot the corrected pressure (fourth column) as a function of the time from the start of the test (second column). Plot the data as a continuous line."
   ]
  },
  {
   "cell_type": "markdown",
   "metadata": {},
   "source": [
    "#### <span style=\"color: red\"> Task 15:</span> Fit the function $g(t)$ to this data using `curve_fit`.\n",
    "To get a reasonable fit you will need to provide an initial guess for your parameter values. Use the values that you used to plot the figure in Task 13 as your initial guess. Report the fitted parameter values, then plot the data as a continuous blue curve and the fitted function as a continuous red curve."
   ]
  }
 ],
 "metadata": {
  "anaconda-cloud": {},
  "kernelspec": {
   "display_name": "Python 3",
   "language": "python",
   "name": "python3"
  },
  "language_info": {
   "codemirror_mode": {
    "name": "ipython",
    "version": 3
   },
   "file_extension": ".py",
   "mimetype": "text/x-python",
   "name": "python",
   "nbconvert_exporter": "python",
   "pygments_lexer": "ipython3",
   "version": "3.6.4"
  }
 },
 "nbformat": 4,
 "nbformat_minor": 1
}
